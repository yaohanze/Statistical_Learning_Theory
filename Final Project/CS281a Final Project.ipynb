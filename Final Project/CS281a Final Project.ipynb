{
 "cells": [
  {
   "cell_type": "markdown",
   "metadata": {},
   "source": [
    "# CS281a Final Peoject"
   ]
  },
  {
   "cell_type": "markdown",
   "metadata": {},
   "source": [
    "## Part 1: Data Import and Cleaning"
   ]
  },
  {
   "cell_type": "code",
   "execution_count": 590,
   "metadata": {},
   "outputs": [],
   "source": [
    "import pandas as pd\n",
    "import numpy as np\n",
    "import matplotlib.pyplot as plt\n",
    "%matplotlib inline"
   ]
  },
  {
   "cell_type": "code",
   "execution_count": 9,
   "metadata": {},
   "outputs": [
    {
     "data": {
      "text/html": [
       "<div>\n",
       "<style scoped>\n",
       "    .dataframe tbody tr th:only-of-type {\n",
       "        vertical-align: middle;\n",
       "    }\n",
       "\n",
       "    .dataframe tbody tr th {\n",
       "        vertical-align: top;\n",
       "    }\n",
       "\n",
       "    .dataframe thead th {\n",
       "        text-align: right;\n",
       "    }\n",
       "</style>\n",
       "<table border=\"1\" class=\"dataframe\">\n",
       "  <thead>\n",
       "    <tr style=\"text-align: right;\">\n",
       "      <th></th>\n",
       "      <th>sofifa_id</th>\n",
       "      <th>player_url</th>\n",
       "      <th>short_name</th>\n",
       "      <th>long_name</th>\n",
       "      <th>age</th>\n",
       "      <th>dob</th>\n",
       "      <th>height_cm</th>\n",
       "      <th>weight_kg</th>\n",
       "      <th>nationality</th>\n",
       "      <th>club</th>\n",
       "      <th>...</th>\n",
       "      <th>lwb</th>\n",
       "      <th>ldm</th>\n",
       "      <th>cdm</th>\n",
       "      <th>rdm</th>\n",
       "      <th>rwb</th>\n",
       "      <th>lb</th>\n",
       "      <th>lcb</th>\n",
       "      <th>cb</th>\n",
       "      <th>rcb</th>\n",
       "      <th>rb</th>\n",
       "    </tr>\n",
       "  </thead>\n",
       "  <tbody>\n",
       "    <tr>\n",
       "      <th>0</th>\n",
       "      <td>158023</td>\n",
       "      <td>https://sofifa.com/player/158023/lionel-messi/...</td>\n",
       "      <td>L. Messi</td>\n",
       "      <td>Lionel Andrés Messi Cuccittini</td>\n",
       "      <td>27</td>\n",
       "      <td>1987-06-24</td>\n",
       "      <td>169</td>\n",
       "      <td>67</td>\n",
       "      <td>Argentina</td>\n",
       "      <td>FC Barcelona</td>\n",
       "      <td>...</td>\n",
       "      <td>62+3</td>\n",
       "      <td>62+3</td>\n",
       "      <td>62+3</td>\n",
       "      <td>62+3</td>\n",
       "      <td>62+3</td>\n",
       "      <td>54+3</td>\n",
       "      <td>45+3</td>\n",
       "      <td>45+3</td>\n",
       "      <td>45+3</td>\n",
       "      <td>54+3</td>\n",
       "    </tr>\n",
       "    <tr>\n",
       "      <th>1</th>\n",
       "      <td>20801</td>\n",
       "      <td>https://sofifa.com/player/20801/c-ronaldo-dos-...</td>\n",
       "      <td>Cristiano Ronaldo</td>\n",
       "      <td>Cristiano Ronaldo dos Santos Aveiro</td>\n",
       "      <td>29</td>\n",
       "      <td>1985-02-05</td>\n",
       "      <td>185</td>\n",
       "      <td>80</td>\n",
       "      <td>Portugal</td>\n",
       "      <td>Real Madrid</td>\n",
       "      <td>...</td>\n",
       "      <td>63+3</td>\n",
       "      <td>63+3</td>\n",
       "      <td>63+3</td>\n",
       "      <td>63+3</td>\n",
       "      <td>63+3</td>\n",
       "      <td>57+3</td>\n",
       "      <td>52+3</td>\n",
       "      <td>52+3</td>\n",
       "      <td>52+3</td>\n",
       "      <td>57+3</td>\n",
       "    </tr>\n",
       "    <tr>\n",
       "      <th>2</th>\n",
       "      <td>9014</td>\n",
       "      <td>https://sofifa.com/player/9014/arjen-robben/15...</td>\n",
       "      <td>A. Robben</td>\n",
       "      <td>Arjen Robben</td>\n",
       "      <td>30</td>\n",
       "      <td>1984-01-23</td>\n",
       "      <td>180</td>\n",
       "      <td>80</td>\n",
       "      <td>Netherlands</td>\n",
       "      <td>FC Bayern München</td>\n",
       "      <td>...</td>\n",
       "      <td>64+3</td>\n",
       "      <td>64+3</td>\n",
       "      <td>64+3</td>\n",
       "      <td>64+3</td>\n",
       "      <td>64+3</td>\n",
       "      <td>55+3</td>\n",
       "      <td>46+3</td>\n",
       "      <td>46+3</td>\n",
       "      <td>46+3</td>\n",
       "      <td>55+3</td>\n",
       "    </tr>\n",
       "    <tr>\n",
       "      <th>3</th>\n",
       "      <td>41236</td>\n",
       "      <td>https://sofifa.com/player/41236/zlatan-ibrahim...</td>\n",
       "      <td>Z. Ibrahimović</td>\n",
       "      <td>Zlatan Ibrahimović</td>\n",
       "      <td>32</td>\n",
       "      <td>1981-10-03</td>\n",
       "      <td>195</td>\n",
       "      <td>95</td>\n",
       "      <td>Sweden</td>\n",
       "      <td>Paris Saint-Germain</td>\n",
       "      <td>...</td>\n",
       "      <td>61+3</td>\n",
       "      <td>65+3</td>\n",
       "      <td>65+3</td>\n",
       "      <td>65+3</td>\n",
       "      <td>61+3</td>\n",
       "      <td>56+3</td>\n",
       "      <td>55+3</td>\n",
       "      <td>55+3</td>\n",
       "      <td>55+3</td>\n",
       "      <td>56+3</td>\n",
       "    </tr>\n",
       "    <tr>\n",
       "      <th>4</th>\n",
       "      <td>167495</td>\n",
       "      <td>https://sofifa.com/player/167495/manuel-neuer/...</td>\n",
       "      <td>M. Neuer</td>\n",
       "      <td>Manuel Neuer</td>\n",
       "      <td>28</td>\n",
       "      <td>1986-03-27</td>\n",
       "      <td>193</td>\n",
       "      <td>92</td>\n",
       "      <td>Germany</td>\n",
       "      <td>FC Bayern München</td>\n",
       "      <td>...</td>\n",
       "      <td>NaN</td>\n",
       "      <td>NaN</td>\n",
       "      <td>NaN</td>\n",
       "      <td>NaN</td>\n",
       "      <td>NaN</td>\n",
       "      <td>NaN</td>\n",
       "      <td>NaN</td>\n",
       "      <td>NaN</td>\n",
       "      <td>NaN</td>\n",
       "      <td>NaN</td>\n",
       "    </tr>\n",
       "  </tbody>\n",
       "</table>\n",
       "<p>5 rows × 104 columns</p>\n",
       "</div>"
      ],
      "text/plain": [
       "   sofifa_id                                         player_url  \\\n",
       "0     158023  https://sofifa.com/player/158023/lionel-messi/...   \n",
       "1      20801  https://sofifa.com/player/20801/c-ronaldo-dos-...   \n",
       "2       9014  https://sofifa.com/player/9014/arjen-robben/15...   \n",
       "3      41236  https://sofifa.com/player/41236/zlatan-ibrahim...   \n",
       "4     167495  https://sofifa.com/player/167495/manuel-neuer/...   \n",
       "\n",
       "          short_name                            long_name  age         dob  \\\n",
       "0           L. Messi       Lionel Andrés Messi Cuccittini   27  1987-06-24   \n",
       "1  Cristiano Ronaldo  Cristiano Ronaldo dos Santos Aveiro   29  1985-02-05   \n",
       "2          A. Robben                         Arjen Robben   30  1984-01-23   \n",
       "3     Z. Ibrahimović                   Zlatan Ibrahimović   32  1981-10-03   \n",
       "4           M. Neuer                         Manuel Neuer   28  1986-03-27   \n",
       "\n",
       "   height_cm  weight_kg  nationality                 club  ...   lwb   ldm  \\\n",
       "0        169         67    Argentina         FC Barcelona  ...  62+3  62+3   \n",
       "1        185         80     Portugal          Real Madrid  ...  63+3  63+3   \n",
       "2        180         80  Netherlands    FC Bayern München  ...  64+3  64+3   \n",
       "3        195         95       Sweden  Paris Saint-Germain  ...  61+3  65+3   \n",
       "4        193         92      Germany    FC Bayern München  ...   NaN   NaN   \n",
       "\n",
       "    cdm   rdm   rwb    lb   lcb    cb   rcb    rb  \n",
       "0  62+3  62+3  62+3  54+3  45+3  45+3  45+3  54+3  \n",
       "1  63+3  63+3  63+3  57+3  52+3  52+3  52+3  57+3  \n",
       "2  64+3  64+3  64+3  55+3  46+3  46+3  46+3  55+3  \n",
       "3  65+3  65+3  61+3  56+3  55+3  55+3  55+3  56+3  \n",
       "4   NaN   NaN   NaN   NaN   NaN   NaN   NaN   NaN  \n",
       "\n",
       "[5 rows x 104 columns]"
      ]
     },
     "execution_count": 9,
     "metadata": {},
     "output_type": "execute_result"
    }
   ],
   "source": [
    "fifa_15 = pd.read_csv('players_15.csv/players_15.csv')\n",
    "fifa_15.head()"
   ]
  },
  {
   "cell_type": "code",
   "execution_count": 10,
   "metadata": {},
   "outputs": [
    {
     "data": {
      "text/html": [
       "<div>\n",
       "<style scoped>\n",
       "    .dataframe tbody tr th:only-of-type {\n",
       "        vertical-align: middle;\n",
       "    }\n",
       "\n",
       "    .dataframe tbody tr th {\n",
       "        vertical-align: top;\n",
       "    }\n",
       "\n",
       "    .dataframe thead th {\n",
       "        text-align: right;\n",
       "    }\n",
       "</style>\n",
       "<table border=\"1\" class=\"dataframe\">\n",
       "  <thead>\n",
       "    <tr style=\"text-align: right;\">\n",
       "      <th></th>\n",
       "      <th>sofifa_id</th>\n",
       "      <th>player_url</th>\n",
       "      <th>short_name</th>\n",
       "      <th>long_name</th>\n",
       "      <th>age</th>\n",
       "      <th>dob</th>\n",
       "      <th>height_cm</th>\n",
       "      <th>weight_kg</th>\n",
       "      <th>nationality</th>\n",
       "      <th>club</th>\n",
       "      <th>...</th>\n",
       "      <th>lwb</th>\n",
       "      <th>ldm</th>\n",
       "      <th>cdm</th>\n",
       "      <th>rdm</th>\n",
       "      <th>rwb</th>\n",
       "      <th>lb</th>\n",
       "      <th>lcb</th>\n",
       "      <th>cb</th>\n",
       "      <th>rcb</th>\n",
       "      <th>rb</th>\n",
       "    </tr>\n",
       "  </thead>\n",
       "  <tbody>\n",
       "    <tr>\n",
       "      <th>0</th>\n",
       "      <td>158023</td>\n",
       "      <td>https://sofifa.com/player/158023/lionel-messi/...</td>\n",
       "      <td>L. Messi</td>\n",
       "      <td>Lionel Andrés Messi Cuccittini</td>\n",
       "      <td>28</td>\n",
       "      <td>1987-06-24</td>\n",
       "      <td>170</td>\n",
       "      <td>72</td>\n",
       "      <td>Argentina</td>\n",
       "      <td>FC Barcelona</td>\n",
       "      <td>...</td>\n",
       "      <td>62+3</td>\n",
       "      <td>57+3</td>\n",
       "      <td>57+3</td>\n",
       "      <td>57+3</td>\n",
       "      <td>62+3</td>\n",
       "      <td>57+3</td>\n",
       "      <td>44+3</td>\n",
       "      <td>44+3</td>\n",
       "      <td>44+3</td>\n",
       "      <td>57+3</td>\n",
       "    </tr>\n",
       "    <tr>\n",
       "      <th>1</th>\n",
       "      <td>20801</td>\n",
       "      <td>https://sofifa.com/player/20801/c-ronaldo-dos-...</td>\n",
       "      <td>Cristiano Ronaldo</td>\n",
       "      <td>Cristiano Ronaldo dos Santos Aveiro</td>\n",
       "      <td>30</td>\n",
       "      <td>1985-02-05</td>\n",
       "      <td>185</td>\n",
       "      <td>80</td>\n",
       "      <td>Portugal</td>\n",
       "      <td>Real Madrid</td>\n",
       "      <td>...</td>\n",
       "      <td>64+3</td>\n",
       "      <td>60+3</td>\n",
       "      <td>60+3</td>\n",
       "      <td>60+3</td>\n",
       "      <td>64+3</td>\n",
       "      <td>60+3</td>\n",
       "      <td>52+3</td>\n",
       "      <td>52+3</td>\n",
       "      <td>52+3</td>\n",
       "      <td>60+3</td>\n",
       "    </tr>\n",
       "    <tr>\n",
       "      <th>2</th>\n",
       "      <td>9014</td>\n",
       "      <td>https://sofifa.com/player/9014/arjen-robben/16...</td>\n",
       "      <td>A. Robben</td>\n",
       "      <td>Arjen Robben</td>\n",
       "      <td>31</td>\n",
       "      <td>1984-01-23</td>\n",
       "      <td>180</td>\n",
       "      <td>80</td>\n",
       "      <td>Netherlands</td>\n",
       "      <td>FC Bayern München</td>\n",
       "      <td>...</td>\n",
       "      <td>65+3</td>\n",
       "      <td>60+3</td>\n",
       "      <td>60+3</td>\n",
       "      <td>60+3</td>\n",
       "      <td>65+3</td>\n",
       "      <td>59+3</td>\n",
       "      <td>47+3</td>\n",
       "      <td>47+3</td>\n",
       "      <td>47+3</td>\n",
       "      <td>59+3</td>\n",
       "    </tr>\n",
       "    <tr>\n",
       "      <th>3</th>\n",
       "      <td>167495</td>\n",
       "      <td>https://sofifa.com/player/167495/manuel-neuer/...</td>\n",
       "      <td>M. Neuer</td>\n",
       "      <td>Manuel Neuer</td>\n",
       "      <td>29</td>\n",
       "      <td>1986-03-27</td>\n",
       "      <td>193</td>\n",
       "      <td>92</td>\n",
       "      <td>Germany</td>\n",
       "      <td>FC Bayern München</td>\n",
       "      <td>...</td>\n",
       "      <td>NaN</td>\n",
       "      <td>NaN</td>\n",
       "      <td>NaN</td>\n",
       "      <td>NaN</td>\n",
       "      <td>NaN</td>\n",
       "      <td>NaN</td>\n",
       "      <td>NaN</td>\n",
       "      <td>NaN</td>\n",
       "      <td>NaN</td>\n",
       "      <td>NaN</td>\n",
       "    </tr>\n",
       "    <tr>\n",
       "      <th>4</th>\n",
       "      <td>176580</td>\n",
       "      <td>https://sofifa.com/player/176580/luis-suarez/1...</td>\n",
       "      <td>L. Suárez</td>\n",
       "      <td>Luis Alberto Suárez Díaz</td>\n",
       "      <td>28</td>\n",
       "      <td>1987-01-24</td>\n",
       "      <td>182</td>\n",
       "      <td>85</td>\n",
       "      <td>Uruguay</td>\n",
       "      <td>FC Barcelona</td>\n",
       "      <td>...</td>\n",
       "      <td>67+3</td>\n",
       "      <td>65+3</td>\n",
       "      <td>65+3</td>\n",
       "      <td>65+3</td>\n",
       "      <td>67+3</td>\n",
       "      <td>64+3</td>\n",
       "      <td>58+3</td>\n",
       "      <td>58+3</td>\n",
       "      <td>58+3</td>\n",
       "      <td>64+3</td>\n",
       "    </tr>\n",
       "  </tbody>\n",
       "</table>\n",
       "<p>5 rows × 104 columns</p>\n",
       "</div>"
      ],
      "text/plain": [
       "   sofifa_id                                         player_url  \\\n",
       "0     158023  https://sofifa.com/player/158023/lionel-messi/...   \n",
       "1      20801  https://sofifa.com/player/20801/c-ronaldo-dos-...   \n",
       "2       9014  https://sofifa.com/player/9014/arjen-robben/16...   \n",
       "3     167495  https://sofifa.com/player/167495/manuel-neuer/...   \n",
       "4     176580  https://sofifa.com/player/176580/luis-suarez/1...   \n",
       "\n",
       "          short_name                            long_name  age         dob  \\\n",
       "0           L. Messi       Lionel Andrés Messi Cuccittini   28  1987-06-24   \n",
       "1  Cristiano Ronaldo  Cristiano Ronaldo dos Santos Aveiro   30  1985-02-05   \n",
       "2          A. Robben                         Arjen Robben   31  1984-01-23   \n",
       "3           M. Neuer                         Manuel Neuer   29  1986-03-27   \n",
       "4          L. Suárez             Luis Alberto Suárez Díaz   28  1987-01-24   \n",
       "\n",
       "   height_cm  weight_kg  nationality               club  ...   lwb   ldm  \\\n",
       "0        170         72    Argentina       FC Barcelona  ...  62+3  57+3   \n",
       "1        185         80     Portugal        Real Madrid  ...  64+3  60+3   \n",
       "2        180         80  Netherlands  FC Bayern München  ...  65+3  60+3   \n",
       "3        193         92      Germany  FC Bayern München  ...   NaN   NaN   \n",
       "4        182         85      Uruguay       FC Barcelona  ...  67+3  65+3   \n",
       "\n",
       "    cdm   rdm   rwb    lb   lcb    cb   rcb    rb  \n",
       "0  57+3  57+3  62+3  57+3  44+3  44+3  44+3  57+3  \n",
       "1  60+3  60+3  64+3  60+3  52+3  52+3  52+3  60+3  \n",
       "2  60+3  60+3  65+3  59+3  47+3  47+3  47+3  59+3  \n",
       "3   NaN   NaN   NaN   NaN   NaN   NaN   NaN   NaN  \n",
       "4  65+3  65+3  67+3  64+3  58+3  58+3  58+3  64+3  \n",
       "\n",
       "[5 rows x 104 columns]"
      ]
     },
     "execution_count": 10,
     "metadata": {},
     "output_type": "execute_result"
    }
   ],
   "source": [
    "fifa_16 = pd.read_csv('players_16.csv/players_16.csv')\n",
    "fifa_16.head()"
   ]
  },
  {
   "cell_type": "code",
   "execution_count": 11,
   "metadata": {},
   "outputs": [
    {
     "data": {
      "text/html": [
       "<div>\n",
       "<style scoped>\n",
       "    .dataframe tbody tr th:only-of-type {\n",
       "        vertical-align: middle;\n",
       "    }\n",
       "\n",
       "    .dataframe tbody tr th {\n",
       "        vertical-align: top;\n",
       "    }\n",
       "\n",
       "    .dataframe thead th {\n",
       "        text-align: right;\n",
       "    }\n",
       "</style>\n",
       "<table border=\"1\" class=\"dataframe\">\n",
       "  <thead>\n",
       "    <tr style=\"text-align: right;\">\n",
       "      <th></th>\n",
       "      <th>sofifa_id</th>\n",
       "      <th>player_url</th>\n",
       "      <th>short_name</th>\n",
       "      <th>long_name</th>\n",
       "      <th>age</th>\n",
       "      <th>dob</th>\n",
       "      <th>height_cm</th>\n",
       "      <th>weight_kg</th>\n",
       "      <th>nationality</th>\n",
       "      <th>club</th>\n",
       "      <th>...</th>\n",
       "      <th>lwb</th>\n",
       "      <th>ldm</th>\n",
       "      <th>cdm</th>\n",
       "      <th>rdm</th>\n",
       "      <th>rwb</th>\n",
       "      <th>lb</th>\n",
       "      <th>lcb</th>\n",
       "      <th>cb</th>\n",
       "      <th>rcb</th>\n",
       "      <th>rb</th>\n",
       "    </tr>\n",
       "  </thead>\n",
       "  <tbody>\n",
       "    <tr>\n",
       "      <th>0</th>\n",
       "      <td>20801</td>\n",
       "      <td>https://sofifa.com/player/20801/c-ronaldo-dos-...</td>\n",
       "      <td>Cristiano Ronaldo</td>\n",
       "      <td>Cristiano Ronaldo dos Santos Aveiro</td>\n",
       "      <td>31</td>\n",
       "      <td>1985-02-05</td>\n",
       "      <td>185</td>\n",
       "      <td>80</td>\n",
       "      <td>Portugal</td>\n",
       "      <td>Real Madrid</td>\n",
       "      <td>...</td>\n",
       "      <td>66+3</td>\n",
       "      <td>61+3</td>\n",
       "      <td>61+3</td>\n",
       "      <td>61+3</td>\n",
       "      <td>66+3</td>\n",
       "      <td>62+3</td>\n",
       "      <td>53+3</td>\n",
       "      <td>53+3</td>\n",
       "      <td>53+3</td>\n",
       "      <td>62+3</td>\n",
       "    </tr>\n",
       "    <tr>\n",
       "      <th>1</th>\n",
       "      <td>158023</td>\n",
       "      <td>https://sofifa.com/player/158023/lionel-messi/...</td>\n",
       "      <td>L. Messi</td>\n",
       "      <td>Lionel Andrés Messi Cuccittini</td>\n",
       "      <td>29</td>\n",
       "      <td>1987-06-24</td>\n",
       "      <td>170</td>\n",
       "      <td>72</td>\n",
       "      <td>Argentina</td>\n",
       "      <td>FC Barcelona</td>\n",
       "      <td>...</td>\n",
       "      <td>63+3</td>\n",
       "      <td>59+3</td>\n",
       "      <td>59+3</td>\n",
       "      <td>59+3</td>\n",
       "      <td>63+3</td>\n",
       "      <td>58+3</td>\n",
       "      <td>46+3</td>\n",
       "      <td>46+3</td>\n",
       "      <td>46+3</td>\n",
       "      <td>58+3</td>\n",
       "    </tr>\n",
       "    <tr>\n",
       "      <th>2</th>\n",
       "      <td>190871</td>\n",
       "      <td>https://sofifa.com/player/190871/neymar-da-sil...</td>\n",
       "      <td>Neymar</td>\n",
       "      <td>Neymar da Silva Santos Junior</td>\n",
       "      <td>24</td>\n",
       "      <td>1992-02-05</td>\n",
       "      <td>174</td>\n",
       "      <td>68</td>\n",
       "      <td>Brazil</td>\n",
       "      <td>FC Barcelona</td>\n",
       "      <td>...</td>\n",
       "      <td>64+3</td>\n",
       "      <td>59+3</td>\n",
       "      <td>59+3</td>\n",
       "      <td>59+3</td>\n",
       "      <td>64+3</td>\n",
       "      <td>59+3</td>\n",
       "      <td>46+3</td>\n",
       "      <td>46+3</td>\n",
       "      <td>46+3</td>\n",
       "      <td>59+3</td>\n",
       "    </tr>\n",
       "    <tr>\n",
       "      <th>3</th>\n",
       "      <td>167495</td>\n",
       "      <td>https://sofifa.com/player/167495/manuel-neuer/...</td>\n",
       "      <td>M. Neuer</td>\n",
       "      <td>Manuel Neuer</td>\n",
       "      <td>30</td>\n",
       "      <td>1986-03-27</td>\n",
       "      <td>193</td>\n",
       "      <td>92</td>\n",
       "      <td>Germany</td>\n",
       "      <td>FC Bayern München</td>\n",
       "      <td>...</td>\n",
       "      <td>NaN</td>\n",
       "      <td>NaN</td>\n",
       "      <td>NaN</td>\n",
       "      <td>NaN</td>\n",
       "      <td>NaN</td>\n",
       "      <td>NaN</td>\n",
       "      <td>NaN</td>\n",
       "      <td>NaN</td>\n",
       "      <td>NaN</td>\n",
       "      <td>NaN</td>\n",
       "    </tr>\n",
       "    <tr>\n",
       "      <th>4</th>\n",
       "      <td>176580</td>\n",
       "      <td>https://sofifa.com/player/176580/luis-suarez/1...</td>\n",
       "      <td>L. Suárez</td>\n",
       "      <td>Luis Alberto Suárez Díaz</td>\n",
       "      <td>29</td>\n",
       "      <td>1987-01-24</td>\n",
       "      <td>182</td>\n",
       "      <td>85</td>\n",
       "      <td>Uruguay</td>\n",
       "      <td>FC Barcelona</td>\n",
       "      <td>...</td>\n",
       "      <td>68+4</td>\n",
       "      <td>66+4</td>\n",
       "      <td>66+4</td>\n",
       "      <td>66+4</td>\n",
       "      <td>68+4</td>\n",
       "      <td>65+4</td>\n",
       "      <td>58+4</td>\n",
       "      <td>58+4</td>\n",
       "      <td>58+4</td>\n",
       "      <td>65+4</td>\n",
       "    </tr>\n",
       "  </tbody>\n",
       "</table>\n",
       "<p>5 rows × 104 columns</p>\n",
       "</div>"
      ],
      "text/plain": [
       "   sofifa_id                                         player_url  \\\n",
       "0      20801  https://sofifa.com/player/20801/c-ronaldo-dos-...   \n",
       "1     158023  https://sofifa.com/player/158023/lionel-messi/...   \n",
       "2     190871  https://sofifa.com/player/190871/neymar-da-sil...   \n",
       "3     167495  https://sofifa.com/player/167495/manuel-neuer/...   \n",
       "4     176580  https://sofifa.com/player/176580/luis-suarez/1...   \n",
       "\n",
       "          short_name                            long_name  age         dob  \\\n",
       "0  Cristiano Ronaldo  Cristiano Ronaldo dos Santos Aveiro   31  1985-02-05   \n",
       "1           L. Messi       Lionel Andrés Messi Cuccittini   29  1987-06-24   \n",
       "2             Neymar        Neymar da Silva Santos Junior   24  1992-02-05   \n",
       "3           M. Neuer                         Manuel Neuer   30  1986-03-27   \n",
       "4          L. Suárez             Luis Alberto Suárez Díaz   29  1987-01-24   \n",
       "\n",
       "   height_cm  weight_kg nationality               club  ...   lwb   ldm   cdm  \\\n",
       "0        185         80    Portugal        Real Madrid  ...  66+3  61+3  61+3   \n",
       "1        170         72   Argentina       FC Barcelona  ...  63+3  59+3  59+3   \n",
       "2        174         68      Brazil       FC Barcelona  ...  64+3  59+3  59+3   \n",
       "3        193         92     Germany  FC Bayern München  ...   NaN   NaN   NaN   \n",
       "4        182         85     Uruguay       FC Barcelona  ...  68+4  66+4  66+4   \n",
       "\n",
       "    rdm   rwb    lb   lcb    cb   rcb    rb  \n",
       "0  61+3  66+3  62+3  53+3  53+3  53+3  62+3  \n",
       "1  59+3  63+3  58+3  46+3  46+3  46+3  58+3  \n",
       "2  59+3  64+3  59+3  46+3  46+3  46+3  59+3  \n",
       "3   NaN   NaN   NaN   NaN   NaN   NaN   NaN  \n",
       "4  66+4  68+4  65+4  58+4  58+4  58+4  65+4  \n",
       "\n",
       "[5 rows x 104 columns]"
      ]
     },
     "execution_count": 11,
     "metadata": {},
     "output_type": "execute_result"
    }
   ],
   "source": [
    "fifa_17 = pd.read_csv('players_17.csv/players_17.csv')\n",
    "fifa_17.head()"
   ]
  },
  {
   "cell_type": "code",
   "execution_count": 12,
   "metadata": {},
   "outputs": [
    {
     "data": {
      "text/html": [
       "<div>\n",
       "<style scoped>\n",
       "    .dataframe tbody tr th:only-of-type {\n",
       "        vertical-align: middle;\n",
       "    }\n",
       "\n",
       "    .dataframe tbody tr th {\n",
       "        vertical-align: top;\n",
       "    }\n",
       "\n",
       "    .dataframe thead th {\n",
       "        text-align: right;\n",
       "    }\n",
       "</style>\n",
       "<table border=\"1\" class=\"dataframe\">\n",
       "  <thead>\n",
       "    <tr style=\"text-align: right;\">\n",
       "      <th></th>\n",
       "      <th>sofifa_id</th>\n",
       "      <th>player_url</th>\n",
       "      <th>short_name</th>\n",
       "      <th>long_name</th>\n",
       "      <th>age</th>\n",
       "      <th>dob</th>\n",
       "      <th>height_cm</th>\n",
       "      <th>weight_kg</th>\n",
       "      <th>nationality</th>\n",
       "      <th>club</th>\n",
       "      <th>...</th>\n",
       "      <th>lwb</th>\n",
       "      <th>ldm</th>\n",
       "      <th>cdm</th>\n",
       "      <th>rdm</th>\n",
       "      <th>rwb</th>\n",
       "      <th>lb</th>\n",
       "      <th>lcb</th>\n",
       "      <th>cb</th>\n",
       "      <th>rcb</th>\n",
       "      <th>rb</th>\n",
       "    </tr>\n",
       "  </thead>\n",
       "  <tbody>\n",
       "    <tr>\n",
       "      <th>0</th>\n",
       "      <td>20801</td>\n",
       "      <td>https://sofifa.com/player/20801/c-ronaldo-dos-...</td>\n",
       "      <td>Cristiano Ronaldo</td>\n",
       "      <td>Cristiano Ronaldo dos Santos Aveiro</td>\n",
       "      <td>32</td>\n",
       "      <td>1985-02-05</td>\n",
       "      <td>185</td>\n",
       "      <td>80</td>\n",
       "      <td>Portugal</td>\n",
       "      <td>Real Madrid</td>\n",
       "      <td>...</td>\n",
       "      <td>66+3</td>\n",
       "      <td>62+3</td>\n",
       "      <td>62+3</td>\n",
       "      <td>62+3</td>\n",
       "      <td>66+3</td>\n",
       "      <td>62+3</td>\n",
       "      <td>53+3</td>\n",
       "      <td>53+3</td>\n",
       "      <td>53+3</td>\n",
       "      <td>62+3</td>\n",
       "    </tr>\n",
       "    <tr>\n",
       "      <th>1</th>\n",
       "      <td>158023</td>\n",
       "      <td>https://sofifa.com/player/158023/lionel-messi/...</td>\n",
       "      <td>L. Messi</td>\n",
       "      <td>Lionel Andrés Messi Cuccittini</td>\n",
       "      <td>30</td>\n",
       "      <td>1987-06-24</td>\n",
       "      <td>170</td>\n",
       "      <td>72</td>\n",
       "      <td>Argentina</td>\n",
       "      <td>FC Barcelona</td>\n",
       "      <td>...</td>\n",
       "      <td>62+3</td>\n",
       "      <td>59+3</td>\n",
       "      <td>59+3</td>\n",
       "      <td>59+3</td>\n",
       "      <td>62+3</td>\n",
       "      <td>58+3</td>\n",
       "      <td>46+3</td>\n",
       "      <td>46+3</td>\n",
       "      <td>46+3</td>\n",
       "      <td>58+3</td>\n",
       "    </tr>\n",
       "    <tr>\n",
       "      <th>2</th>\n",
       "      <td>190871</td>\n",
       "      <td>https://sofifa.com/player/190871/neymar-da-sil...</td>\n",
       "      <td>Neymar</td>\n",
       "      <td>Neymar da Silva Santos Junior</td>\n",
       "      <td>25</td>\n",
       "      <td>1992-02-05</td>\n",
       "      <td>175</td>\n",
       "      <td>68</td>\n",
       "      <td>Brazil</td>\n",
       "      <td>Paris Saint-Germain</td>\n",
       "      <td>...</td>\n",
       "      <td>64+3</td>\n",
       "      <td>59+3</td>\n",
       "      <td>59+3</td>\n",
       "      <td>59+3</td>\n",
       "      <td>64+3</td>\n",
       "      <td>60+3</td>\n",
       "      <td>47+3</td>\n",
       "      <td>47+3</td>\n",
       "      <td>47+3</td>\n",
       "      <td>60+3</td>\n",
       "    </tr>\n",
       "    <tr>\n",
       "      <th>3</th>\n",
       "      <td>167495</td>\n",
       "      <td>https://sofifa.com/player/167495/manuel-neuer/...</td>\n",
       "      <td>M. Neuer</td>\n",
       "      <td>Manuel Neuer</td>\n",
       "      <td>31</td>\n",
       "      <td>1986-03-27</td>\n",
       "      <td>193</td>\n",
       "      <td>92</td>\n",
       "      <td>Germany</td>\n",
       "      <td>FC Bayern München</td>\n",
       "      <td>...</td>\n",
       "      <td>NaN</td>\n",
       "      <td>NaN</td>\n",
       "      <td>NaN</td>\n",
       "      <td>NaN</td>\n",
       "      <td>NaN</td>\n",
       "      <td>NaN</td>\n",
       "      <td>NaN</td>\n",
       "      <td>NaN</td>\n",
       "      <td>NaN</td>\n",
       "      <td>NaN</td>\n",
       "    </tr>\n",
       "    <tr>\n",
       "      <th>4</th>\n",
       "      <td>176580</td>\n",
       "      <td>https://sofifa.com/player/176580/luis-suarez/1...</td>\n",
       "      <td>L. Suárez</td>\n",
       "      <td>Luis Alberto Suárez Díaz</td>\n",
       "      <td>30</td>\n",
       "      <td>1987-01-24</td>\n",
       "      <td>182</td>\n",
       "      <td>86</td>\n",
       "      <td>Uruguay</td>\n",
       "      <td>FC Barcelona</td>\n",
       "      <td>...</td>\n",
       "      <td>68+4</td>\n",
       "      <td>66+4</td>\n",
       "      <td>66+4</td>\n",
       "      <td>66+4</td>\n",
       "      <td>68+4</td>\n",
       "      <td>65+4</td>\n",
       "      <td>59+4</td>\n",
       "      <td>59+4</td>\n",
       "      <td>59+4</td>\n",
       "      <td>65+4</td>\n",
       "    </tr>\n",
       "  </tbody>\n",
       "</table>\n",
       "<p>5 rows × 104 columns</p>\n",
       "</div>"
      ],
      "text/plain": [
       "   sofifa_id                                         player_url  \\\n",
       "0      20801  https://sofifa.com/player/20801/c-ronaldo-dos-...   \n",
       "1     158023  https://sofifa.com/player/158023/lionel-messi/...   \n",
       "2     190871  https://sofifa.com/player/190871/neymar-da-sil...   \n",
       "3     167495  https://sofifa.com/player/167495/manuel-neuer/...   \n",
       "4     176580  https://sofifa.com/player/176580/luis-suarez/1...   \n",
       "\n",
       "          short_name                            long_name  age         dob  \\\n",
       "0  Cristiano Ronaldo  Cristiano Ronaldo dos Santos Aveiro   32  1985-02-05   \n",
       "1           L. Messi       Lionel Andrés Messi Cuccittini   30  1987-06-24   \n",
       "2             Neymar        Neymar da Silva Santos Junior   25  1992-02-05   \n",
       "3           M. Neuer                         Manuel Neuer   31  1986-03-27   \n",
       "4          L. Suárez             Luis Alberto Suárez Díaz   30  1987-01-24   \n",
       "\n",
       "   height_cm  weight_kg nationality                 club  ...   lwb   ldm  \\\n",
       "0        185         80    Portugal          Real Madrid  ...  66+3  62+3   \n",
       "1        170         72   Argentina         FC Barcelona  ...  62+3  59+3   \n",
       "2        175         68      Brazil  Paris Saint-Germain  ...  64+3  59+3   \n",
       "3        193         92     Germany    FC Bayern München  ...   NaN   NaN   \n",
       "4        182         86     Uruguay         FC Barcelona  ...  68+4  66+4   \n",
       "\n",
       "    cdm   rdm   rwb    lb   lcb    cb   rcb    rb  \n",
       "0  62+3  62+3  66+3  62+3  53+3  53+3  53+3  62+3  \n",
       "1  59+3  59+3  62+3  58+3  46+3  46+3  46+3  58+3  \n",
       "2  59+3  59+3  64+3  60+3  47+3  47+3  47+3  60+3  \n",
       "3   NaN   NaN   NaN   NaN   NaN   NaN   NaN   NaN  \n",
       "4  66+4  66+4  68+4  65+4  59+4  59+4  59+4  65+4  \n",
       "\n",
       "[5 rows x 104 columns]"
      ]
     },
     "execution_count": 12,
     "metadata": {},
     "output_type": "execute_result"
    }
   ],
   "source": [
    "fifa_18 = pd.read_csv('players_18.csv/players_18.csv')\n",
    "fifa_18.head()"
   ]
  },
  {
   "cell_type": "code",
   "execution_count": 13,
   "metadata": {},
   "outputs": [
    {
     "data": {
      "text/html": [
       "<div>\n",
       "<style scoped>\n",
       "    .dataframe tbody tr th:only-of-type {\n",
       "        vertical-align: middle;\n",
       "    }\n",
       "\n",
       "    .dataframe tbody tr th {\n",
       "        vertical-align: top;\n",
       "    }\n",
       "\n",
       "    .dataframe thead th {\n",
       "        text-align: right;\n",
       "    }\n",
       "</style>\n",
       "<table border=\"1\" class=\"dataframe\">\n",
       "  <thead>\n",
       "    <tr style=\"text-align: right;\">\n",
       "      <th></th>\n",
       "      <th>sofifa_id</th>\n",
       "      <th>player_url</th>\n",
       "      <th>short_name</th>\n",
       "      <th>long_name</th>\n",
       "      <th>age</th>\n",
       "      <th>dob</th>\n",
       "      <th>height_cm</th>\n",
       "      <th>weight_kg</th>\n",
       "      <th>nationality</th>\n",
       "      <th>club</th>\n",
       "      <th>...</th>\n",
       "      <th>lwb</th>\n",
       "      <th>ldm</th>\n",
       "      <th>cdm</th>\n",
       "      <th>rdm</th>\n",
       "      <th>rwb</th>\n",
       "      <th>lb</th>\n",
       "      <th>lcb</th>\n",
       "      <th>cb</th>\n",
       "      <th>rcb</th>\n",
       "      <th>rb</th>\n",
       "    </tr>\n",
       "  </thead>\n",
       "  <tbody>\n",
       "    <tr>\n",
       "      <th>0</th>\n",
       "      <td>20801</td>\n",
       "      <td>https://sofifa.com/player/20801/c-ronaldo-dos-...</td>\n",
       "      <td>Cristiano Ronaldo</td>\n",
       "      <td>Cristiano Ronaldo dos Santos Aveiro</td>\n",
       "      <td>33</td>\n",
       "      <td>1985-02-05</td>\n",
       "      <td>187</td>\n",
       "      <td>83</td>\n",
       "      <td>Portugal</td>\n",
       "      <td>Juventus</td>\n",
       "      <td>...</td>\n",
       "      <td>65+3</td>\n",
       "      <td>61+3</td>\n",
       "      <td>61+3</td>\n",
       "      <td>61+3</td>\n",
       "      <td>65+3</td>\n",
       "      <td>61+3</td>\n",
       "      <td>53+3</td>\n",
       "      <td>53+3</td>\n",
       "      <td>53+3</td>\n",
       "      <td>61+3</td>\n",
       "    </tr>\n",
       "    <tr>\n",
       "      <th>1</th>\n",
       "      <td>158023</td>\n",
       "      <td>https://sofifa.com/player/158023/lionel-messi/...</td>\n",
       "      <td>L. Messi</td>\n",
       "      <td>Lionel Andrés Messi Cuccittini</td>\n",
       "      <td>31</td>\n",
       "      <td>1987-06-24</td>\n",
       "      <td>170</td>\n",
       "      <td>72</td>\n",
       "      <td>Argentina</td>\n",
       "      <td>FC Barcelona</td>\n",
       "      <td>...</td>\n",
       "      <td>63+2</td>\n",
       "      <td>61+2</td>\n",
       "      <td>61+2</td>\n",
       "      <td>61+2</td>\n",
       "      <td>63+2</td>\n",
       "      <td>58+2</td>\n",
       "      <td>47+2</td>\n",
       "      <td>47+2</td>\n",
       "      <td>47+2</td>\n",
       "      <td>58+2</td>\n",
       "    </tr>\n",
       "    <tr>\n",
       "      <th>2</th>\n",
       "      <td>190871</td>\n",
       "      <td>https://sofifa.com/player/190871/neymar-da-sil...</td>\n",
       "      <td>Neymar Jr</td>\n",
       "      <td>Neymar da Silva Santos Junior</td>\n",
       "      <td>26</td>\n",
       "      <td>1992-02-05</td>\n",
       "      <td>175</td>\n",
       "      <td>68</td>\n",
       "      <td>Brazil</td>\n",
       "      <td>Paris Saint-Germain</td>\n",
       "      <td>...</td>\n",
       "      <td>65+3</td>\n",
       "      <td>60+3</td>\n",
       "      <td>60+3</td>\n",
       "      <td>60+3</td>\n",
       "      <td>65+3</td>\n",
       "      <td>60+3</td>\n",
       "      <td>47+3</td>\n",
       "      <td>47+3</td>\n",
       "      <td>47+3</td>\n",
       "      <td>60+3</td>\n",
       "    </tr>\n",
       "    <tr>\n",
       "      <th>3</th>\n",
       "      <td>193080</td>\n",
       "      <td>https://sofifa.com/player/193080/david-de-gea-...</td>\n",
       "      <td>De Gea</td>\n",
       "      <td>David De Gea Quintana</td>\n",
       "      <td>27</td>\n",
       "      <td>1990-11-07</td>\n",
       "      <td>193</td>\n",
       "      <td>76</td>\n",
       "      <td>Spain</td>\n",
       "      <td>Manchester United</td>\n",
       "      <td>...</td>\n",
       "      <td>NaN</td>\n",
       "      <td>NaN</td>\n",
       "      <td>NaN</td>\n",
       "      <td>NaN</td>\n",
       "      <td>NaN</td>\n",
       "      <td>NaN</td>\n",
       "      <td>NaN</td>\n",
       "      <td>NaN</td>\n",
       "      <td>NaN</td>\n",
       "      <td>NaN</td>\n",
       "    </tr>\n",
       "    <tr>\n",
       "      <th>4</th>\n",
       "      <td>192985</td>\n",
       "      <td>https://sofifa.com/player/192985/kevin-de-bruy...</td>\n",
       "      <td>K. De Bruyne</td>\n",
       "      <td>Kevin De Bruyne</td>\n",
       "      <td>27</td>\n",
       "      <td>1991-06-28</td>\n",
       "      <td>181</td>\n",
       "      <td>70</td>\n",
       "      <td>Belgium</td>\n",
       "      <td>Manchester City</td>\n",
       "      <td>...</td>\n",
       "      <td>77+3</td>\n",
       "      <td>77+3</td>\n",
       "      <td>77+3</td>\n",
       "      <td>77+3</td>\n",
       "      <td>77+3</td>\n",
       "      <td>73+3</td>\n",
       "      <td>66+3</td>\n",
       "      <td>66+3</td>\n",
       "      <td>66+3</td>\n",
       "      <td>73+3</td>\n",
       "    </tr>\n",
       "  </tbody>\n",
       "</table>\n",
       "<p>5 rows × 104 columns</p>\n",
       "</div>"
      ],
      "text/plain": [
       "   sofifa_id                                         player_url  \\\n",
       "0      20801  https://sofifa.com/player/20801/c-ronaldo-dos-...   \n",
       "1     158023  https://sofifa.com/player/158023/lionel-messi/...   \n",
       "2     190871  https://sofifa.com/player/190871/neymar-da-sil...   \n",
       "3     193080  https://sofifa.com/player/193080/david-de-gea-...   \n",
       "4     192985  https://sofifa.com/player/192985/kevin-de-bruy...   \n",
       "\n",
       "          short_name                            long_name  age         dob  \\\n",
       "0  Cristiano Ronaldo  Cristiano Ronaldo dos Santos Aveiro   33  1985-02-05   \n",
       "1           L. Messi       Lionel Andrés Messi Cuccittini   31  1987-06-24   \n",
       "2          Neymar Jr        Neymar da Silva Santos Junior   26  1992-02-05   \n",
       "3             De Gea                David De Gea Quintana   27  1990-11-07   \n",
       "4       K. De Bruyne                      Kevin De Bruyne   27  1991-06-28   \n",
       "\n",
       "   height_cm  weight_kg nationality                 club  ...   lwb   ldm  \\\n",
       "0        187         83    Portugal             Juventus  ...  65+3  61+3   \n",
       "1        170         72   Argentina         FC Barcelona  ...  63+2  61+2   \n",
       "2        175         68      Brazil  Paris Saint-Germain  ...  65+3  60+3   \n",
       "3        193         76       Spain    Manchester United  ...   NaN   NaN   \n",
       "4        181         70     Belgium      Manchester City  ...  77+3  77+3   \n",
       "\n",
       "    cdm   rdm   rwb    lb   lcb    cb   rcb    rb  \n",
       "0  61+3  61+3  65+3  61+3  53+3  53+3  53+3  61+3  \n",
       "1  61+2  61+2  63+2  58+2  47+2  47+2  47+2  58+2  \n",
       "2  60+3  60+3  65+3  60+3  47+3  47+3  47+3  60+3  \n",
       "3   NaN   NaN   NaN   NaN   NaN   NaN   NaN   NaN  \n",
       "4  77+3  77+3  77+3  73+3  66+3  66+3  66+3  73+3  \n",
       "\n",
       "[5 rows x 104 columns]"
      ]
     },
     "execution_count": 13,
     "metadata": {},
     "output_type": "execute_result"
    }
   ],
   "source": [
    "fifa_19 = pd.read_csv('players_19.csv/players_19.csv')\n",
    "fifa_19.head()"
   ]
  },
  {
   "cell_type": "code",
   "execution_count": 14,
   "metadata": {},
   "outputs": [
    {
     "data": {
      "text/html": [
       "<div>\n",
       "<style scoped>\n",
       "    .dataframe tbody tr th:only-of-type {\n",
       "        vertical-align: middle;\n",
       "    }\n",
       "\n",
       "    .dataframe tbody tr th {\n",
       "        vertical-align: top;\n",
       "    }\n",
       "\n",
       "    .dataframe thead th {\n",
       "        text-align: right;\n",
       "    }\n",
       "</style>\n",
       "<table border=\"1\" class=\"dataframe\">\n",
       "  <thead>\n",
       "    <tr style=\"text-align: right;\">\n",
       "      <th></th>\n",
       "      <th>sofifa_id</th>\n",
       "      <th>player_url</th>\n",
       "      <th>short_name</th>\n",
       "      <th>long_name</th>\n",
       "      <th>age</th>\n",
       "      <th>dob</th>\n",
       "      <th>height_cm</th>\n",
       "      <th>weight_kg</th>\n",
       "      <th>nationality</th>\n",
       "      <th>club</th>\n",
       "      <th>...</th>\n",
       "      <th>lwb</th>\n",
       "      <th>ldm</th>\n",
       "      <th>cdm</th>\n",
       "      <th>rdm</th>\n",
       "      <th>rwb</th>\n",
       "      <th>lb</th>\n",
       "      <th>lcb</th>\n",
       "      <th>cb</th>\n",
       "      <th>rcb</th>\n",
       "      <th>rb</th>\n",
       "    </tr>\n",
       "  </thead>\n",
       "  <tbody>\n",
       "    <tr>\n",
       "      <th>0</th>\n",
       "      <td>158023</td>\n",
       "      <td>https://sofifa.com/player/158023/lionel-messi/...</td>\n",
       "      <td>L. Messi</td>\n",
       "      <td>Lionel Andrés Messi Cuccittini</td>\n",
       "      <td>32</td>\n",
       "      <td>1987-06-24</td>\n",
       "      <td>170</td>\n",
       "      <td>72</td>\n",
       "      <td>Argentina</td>\n",
       "      <td>FC Barcelona</td>\n",
       "      <td>...</td>\n",
       "      <td>68+2</td>\n",
       "      <td>66+2</td>\n",
       "      <td>66+2</td>\n",
       "      <td>66+2</td>\n",
       "      <td>68+2</td>\n",
       "      <td>63+2</td>\n",
       "      <td>52+2</td>\n",
       "      <td>52+2</td>\n",
       "      <td>52+2</td>\n",
       "      <td>63+2</td>\n",
       "    </tr>\n",
       "    <tr>\n",
       "      <th>1</th>\n",
       "      <td>20801</td>\n",
       "      <td>https://sofifa.com/player/20801/c-ronaldo-dos-...</td>\n",
       "      <td>Cristiano Ronaldo</td>\n",
       "      <td>Cristiano Ronaldo dos Santos Aveiro</td>\n",
       "      <td>34</td>\n",
       "      <td>1985-02-05</td>\n",
       "      <td>187</td>\n",
       "      <td>83</td>\n",
       "      <td>Portugal</td>\n",
       "      <td>Juventus</td>\n",
       "      <td>...</td>\n",
       "      <td>65+3</td>\n",
       "      <td>61+3</td>\n",
       "      <td>61+3</td>\n",
       "      <td>61+3</td>\n",
       "      <td>65+3</td>\n",
       "      <td>61+3</td>\n",
       "      <td>53+3</td>\n",
       "      <td>53+3</td>\n",
       "      <td>53+3</td>\n",
       "      <td>61+3</td>\n",
       "    </tr>\n",
       "    <tr>\n",
       "      <th>2</th>\n",
       "      <td>190871</td>\n",
       "      <td>https://sofifa.com/player/190871/neymar-da-sil...</td>\n",
       "      <td>Neymar Jr</td>\n",
       "      <td>Neymar da Silva Santos Junior</td>\n",
       "      <td>27</td>\n",
       "      <td>1992-02-05</td>\n",
       "      <td>175</td>\n",
       "      <td>68</td>\n",
       "      <td>Brazil</td>\n",
       "      <td>Paris Saint-Germain</td>\n",
       "      <td>...</td>\n",
       "      <td>66+3</td>\n",
       "      <td>61+3</td>\n",
       "      <td>61+3</td>\n",
       "      <td>61+3</td>\n",
       "      <td>66+3</td>\n",
       "      <td>61+3</td>\n",
       "      <td>46+3</td>\n",
       "      <td>46+3</td>\n",
       "      <td>46+3</td>\n",
       "      <td>61+3</td>\n",
       "    </tr>\n",
       "    <tr>\n",
       "      <th>3</th>\n",
       "      <td>200389</td>\n",
       "      <td>https://sofifa.com/player/200389/jan-oblak/20/...</td>\n",
       "      <td>J. Oblak</td>\n",
       "      <td>Jan Oblak</td>\n",
       "      <td>26</td>\n",
       "      <td>1993-01-07</td>\n",
       "      <td>188</td>\n",
       "      <td>87</td>\n",
       "      <td>Slovenia</td>\n",
       "      <td>Atlético Madrid</td>\n",
       "      <td>...</td>\n",
       "      <td>NaN</td>\n",
       "      <td>NaN</td>\n",
       "      <td>NaN</td>\n",
       "      <td>NaN</td>\n",
       "      <td>NaN</td>\n",
       "      <td>NaN</td>\n",
       "      <td>NaN</td>\n",
       "      <td>NaN</td>\n",
       "      <td>NaN</td>\n",
       "      <td>NaN</td>\n",
       "    </tr>\n",
       "    <tr>\n",
       "      <th>4</th>\n",
       "      <td>183277</td>\n",
       "      <td>https://sofifa.com/player/183277/eden-hazard/2...</td>\n",
       "      <td>E. Hazard</td>\n",
       "      <td>Eden Hazard</td>\n",
       "      <td>28</td>\n",
       "      <td>1991-01-07</td>\n",
       "      <td>175</td>\n",
       "      <td>74</td>\n",
       "      <td>Belgium</td>\n",
       "      <td>Real Madrid</td>\n",
       "      <td>...</td>\n",
       "      <td>66+3</td>\n",
       "      <td>63+3</td>\n",
       "      <td>63+3</td>\n",
       "      <td>63+3</td>\n",
       "      <td>66+3</td>\n",
       "      <td>61+3</td>\n",
       "      <td>49+3</td>\n",
       "      <td>49+3</td>\n",
       "      <td>49+3</td>\n",
       "      <td>61+3</td>\n",
       "    </tr>\n",
       "  </tbody>\n",
       "</table>\n",
       "<p>5 rows × 104 columns</p>\n",
       "</div>"
      ],
      "text/plain": [
       "   sofifa_id                                         player_url  \\\n",
       "0     158023  https://sofifa.com/player/158023/lionel-messi/...   \n",
       "1      20801  https://sofifa.com/player/20801/c-ronaldo-dos-...   \n",
       "2     190871  https://sofifa.com/player/190871/neymar-da-sil...   \n",
       "3     200389  https://sofifa.com/player/200389/jan-oblak/20/...   \n",
       "4     183277  https://sofifa.com/player/183277/eden-hazard/2...   \n",
       "\n",
       "          short_name                            long_name  age         dob  \\\n",
       "0           L. Messi       Lionel Andrés Messi Cuccittini   32  1987-06-24   \n",
       "1  Cristiano Ronaldo  Cristiano Ronaldo dos Santos Aveiro   34  1985-02-05   \n",
       "2          Neymar Jr        Neymar da Silva Santos Junior   27  1992-02-05   \n",
       "3           J. Oblak                            Jan Oblak   26  1993-01-07   \n",
       "4          E. Hazard                          Eden Hazard   28  1991-01-07   \n",
       "\n",
       "   height_cm  weight_kg nationality                 club  ...   lwb   ldm  \\\n",
       "0        170         72   Argentina         FC Barcelona  ...  68+2  66+2   \n",
       "1        187         83    Portugal             Juventus  ...  65+3  61+3   \n",
       "2        175         68      Brazil  Paris Saint-Germain  ...  66+3  61+3   \n",
       "3        188         87    Slovenia      Atlético Madrid  ...   NaN   NaN   \n",
       "4        175         74     Belgium          Real Madrid  ...  66+3  63+3   \n",
       "\n",
       "    cdm   rdm   rwb    lb   lcb    cb   rcb    rb  \n",
       "0  66+2  66+2  68+2  63+2  52+2  52+2  52+2  63+2  \n",
       "1  61+3  61+3  65+3  61+3  53+3  53+3  53+3  61+3  \n",
       "2  61+3  61+3  66+3  61+3  46+3  46+3  46+3  61+3  \n",
       "3   NaN   NaN   NaN   NaN   NaN   NaN   NaN   NaN  \n",
       "4  63+3  63+3  66+3  61+3  49+3  49+3  49+3  61+3  \n",
       "\n",
       "[5 rows x 104 columns]"
      ]
     },
     "execution_count": 14,
     "metadata": {},
     "output_type": "execute_result"
    }
   ],
   "source": [
    "fifa_20 = pd.read_csv('players_20.csv/players_20.csv')\n",
    "fifa_20.head()"
   ]
  },
  {
   "cell_type": "code",
   "execution_count": 16,
   "metadata": {},
   "outputs": [
    {
     "data": {
      "text/plain": [
       "array(['Spain Primera Division ', 'English Premier League ',\n",
       "       'German 1. Bundesliga ', 'French Ligue 1 ', 'Holland Eredivisie ',\n",
       "       'Austrian Football Bundesliga ', 'Italian Serie A ',\n",
       "       'Portuguese Liga ZON SAGRES ', 'German 3. Bundesliga ',\n",
       "       'Turkish Süper Lig ', 'German 2. Bundesliga ',\n",
       "       'English League Championship ', 'Croatian Prva HNL ',\n",
       "       'English League Two ', 'Scottish Premiership ',\n",
       "       'Belgian Jupiler Pro League ', 'Mexican Liga MX ',\n",
       "       'Argentina Primera División \\xa0', 'International',\n",
       "       'English League One ', 'Ukrainian Premier League ',\n",
       "       'USA Major League Soccer ', 'Swiss Super League ',\n",
       "       'Spanish Segunda División ', 'Campeonato Brasileiro Série A ',\n",
       "       'Russian Premier League ', 'Romanian Liga I ',\n",
       "       'Chinese Super League ', 'Greek Super League ',\n",
       "       'Japanese J. League Division 1 ', 'French Ligue 2 ',\n",
       "       'Polish T-Mobile Ekstraklasa ', 'Czech Republic Gambrinus Liga ',\n",
       "       'UAE Arabian Gulf League ', 'Italian Serie B ',\n",
       "       'Saudi Abdul L. Jameel League ', 'Danish Superliga ',\n",
       "       'Chilian Campeonato Nacional ', 'Colombian Liga Postobón ',\n",
       "       'Swedish Allsvenskan ', 'Australian Hyundai A-League ',\n",
       "       'Finnish Veikkausliiga ', 'Rep. Ireland Airtricity League ',\n",
       "       'Korean K League Classic ', 'Norwegian Eliteserien ',\n",
       "       'South African Premier Division ',\n",
       "       'Campeonato Brasileiro Série B ', 'Swiss Challenge League '],\n",
       "      dtype=object)"
      ]
     },
     "execution_count": 16,
     "metadata": {},
     "output_type": "execute_result"
    }
   ],
   "source": [
    "teams_and_leagues = pd.read_csv('teams_and_leagues.csv')\n",
    "teams_and_leagues.head()\n",
    "teams_and_leagues['league_name'].unique()"
   ]
  },
  {
   "cell_type": "markdown",
   "metadata": {},
   "source": [
    "### 1.1 Get the datesets for phase one ready"
   ]
  },
  {
   "cell_type": "code",
   "execution_count": 423,
   "metadata": {},
   "outputs": [],
   "source": [
    "fifa_15_no_gk = fifa_15[fifa_15['player_positions']!='GK']\n",
    "fifa_16_no_gk = fifa_16[fifa_16['player_positions']!='GK']\n",
    "fifa_17_no_gk = fifa_17[fifa_17['player_positions']!='GK']\n",
    "fifa_18_no_gk = fifa_18[fifa_18['player_positions']!='GK']\n",
    "fifa_19_no_gk = fifa_19[fifa_19['player_positions']!='GK']\n",
    "fifa_20_no_gk = fifa_20[fifa_20['player_positions']!='GK']"
   ]
  },
  {
   "cell_type": "code",
   "execution_count": 424,
   "metadata": {},
   "outputs": [
    {
     "data": {
      "text/plain": [
       "77"
      ]
     },
     "execution_count": 424,
     "metadata": {},
     "output_type": "execute_result"
    }
   ],
   "source": [
    "fifa15_epl = ['Leicester City', 'Arsenal', 'Tottenham Hotspur', 'Manchester City', 'Manchester United', 'Southampton', 'West Ham United', 'Liverpool', 'Stoke City', 'Chelsea', 'Everton', 'Swansea City', 'West Bromwich Albion', 'Burnley', 'Crystal Palace', 'Sunderland', 'Newcastle United', 'Aston Villa', 'Hull City', 'Queens Park Rangers']\n",
    "fifa15_4el = ['FC Barcelona', 'Real Madrid', 'Atlético Madrid', 'Villarreal CF', 'Athletic Club de Bilbao', 'RC Celta', 'Sevilla FC', 'Málaga CF', 'Real Sociedad', 'Valencia CF', 'SD Eibar', 'RCD Espanyol', 'Deportivo de La Coruña', 'Granada CF', 'Rayo Vallecano', 'Getafe CF', 'Levante UD', 'UD Almería', 'Córdoba CF', 'FC Bayern München', 'Borussia Dortmund', 'Bayer 04 Leverkusen', 'Borussia Mönchengladbach', 'FC Schalke 04', '1. FSV Mainz 05', 'Hertha BSC', 'VfL Wolfsburg', '1. FC Köln', 'Hamburger SV', 'FC Augsburg', 'SV Werder Bremen', 'TSG 1899 Hoffenheim', 'Eintracht Frankfurt', 'VfB Stuttgart', 'Hannover 96', 'SC Freiburg', 'SC Paderborn 07', 'Juventus', 'Napoli', 'Roma', 'Inter', 'Fiorentina', 'Sassuolo', 'Milan', 'Lazio', 'Chievo Verona', 'Genoa', 'Empoli', 'Torino', 'Atalanta', 'Sampdoria', 'Udinese', 'Carpi', 'Hellas Verona', 'Palermo', 'Cagliari', 'Cesena', 'Parma', 'Paris Saint-Germain', 'Olympique Lyonnais', 'AS Monaco', 'OGC Nice', 'LOSC Lille', 'AS Saint-Étienne', 'Stade Malherbe Caen', 'Stade Rennais FC', 'FC Girondins de Bordeaux', 'Montpellier HSC', 'Olympique de Marseille', 'FC Nantes', 'FC Lorient', 'En Avant de Guingamp', 'Toulouse Football Club', 'Stade de Reims', 'Évian Thonon Gaillard FC', 'Racing Club de Lens', 'FC Metz']\n",
    "#len(fifa15_epl)\n",
    "len(fifa15_4el)"
   ]
  },
  {
   "cell_type": "code",
   "execution_count": 425,
   "metadata": {},
   "outputs": [
    {
     "data": {
      "text/plain": [
       "72.0"
      ]
     },
     "execution_count": 425,
     "metadata": {},
     "output_type": "execute_result"
    }
   ],
   "source": [
    "fifa_15_epl = fifa_15_no_gk[fifa_15_no_gk['club'].isin(fifa15_epl)]\n",
    "#fifa_15_epl['club'].unique().shape\n",
    "#fifa_15_epl['overall'].mean()\n",
    "fifa_15_epl['overall'].median()"
   ]
  },
  {
   "cell_type": "code",
   "execution_count": 426,
   "metadata": {},
   "outputs": [
    {
     "data": {
      "text/plain": [
       "71.0"
      ]
     },
     "execution_count": 426,
     "metadata": {},
     "output_type": "execute_result"
    }
   ],
   "source": [
    "fifa_15_4el = fifa_15_no_gk[fifa_15_no_gk['club'].isin(fifa15_4el)]\n",
    "#fifa_15_4el['club'].unique().shape\n",
    "#fifa_15_4el['overall'].mean()\n",
    "fifa_15_4el['overall'].median()"
   ]
  },
  {
   "cell_type": "code",
   "execution_count": 427,
   "metadata": {},
   "outputs": [
    {
     "data": {
      "text/plain": [
       "77"
      ]
     },
     "execution_count": 427,
     "metadata": {},
     "output_type": "execute_result"
    }
   ],
   "source": [
    "fifa16_epl = ['Leicester City', 'Arsenal', 'Tottenham Hotspur', 'Manchester City', 'Manchester United', 'Southampton', 'West Ham United', 'Liverpool', 'Stoke City', 'Chelsea', 'Everton', 'Swansea City', 'Watford', 'West Bromwich Albion', 'Crystal Palace', 'Bournemouth', 'Sunderland', 'Newcastle United', 'Norwich City', 'Aston Villa']\n",
    "fifa16_4el = ['FC Barcelona', 'Real Madrid', 'Atlético Madrid', 'Villarreal CF', 'Athletic Club de Bilbao', 'RC Celta', 'Sevilla FC', 'Málaga CF', 'Real Sociedad', 'Real Betis', 'UD Las Palmas', 'Valencia CF', 'SD Eibar', 'RCD Espanyol', 'Deportivo de La Coruña', 'Granada CF', 'Real Sporting de Gijón', 'Rayo Vallecano', 'Getafe CF', 'Levante UD', 'FC Bayern München', 'Borussia Dortmund', 'Bayer 04 Leverkusen', 'Borussia Mönchengladbach', 'FC Schalke 04', '1. FSV Mainz 05', 'Hertha BSC', 'VfL Wolfsburg', '1. FC Köln', 'Hamburger SV', 'FC Ingolstadt 04', 'FC Augsburg', 'SV Werder Bremen', 'SV Darmstadt 98', 'TSG 1899 Hoffenheim', 'Eintracht Frankfurt', 'VfB Stuttgart', 'Hannover 96', 'Juventus', 'Napoli', 'Roma', 'Inter', 'Fiorentina', 'Sassuolo', 'Milan', 'Lazio', 'Chievo Verona', 'Genoa', 'Empoli', 'Torino', 'Atalanta', 'Bologna', 'Sampdoria', 'Palermo', 'Udinese', 'Carpi', 'Frosinone', 'Hellas Verona', 'Paris Saint-Germain', 'Olympique Lyonnais', 'AS Monaco', 'OGC Nice', 'LOSC Lille', 'AS Saint-Étienne', 'Stade Malherbe Caen', 'Stade Rennais FC', 'Angers SCO', 'FC Girondins de Bordeaux', 'Montpellier HSC', 'Olympique de Marseille', 'FC Nantes', 'FC Lorient', 'En Avant de Guingamp', 'Toulouse Football Club', 'Stade de Reims', 'GFC Ajaccio', 'ESTAC Troyes']\n",
    "#len(fifa16_epl)\n",
    "len(fifa16_4el)"
   ]
  },
  {
   "cell_type": "code",
   "execution_count": 428,
   "metadata": {},
   "outputs": [
    {
     "data": {
      "text/plain": [
       "75.0"
      ]
     },
     "execution_count": 428,
     "metadata": {},
     "output_type": "execute_result"
    }
   ],
   "source": [
    "fifa_16_epl = fifa_16_no_gk[fifa_16_no_gk['club'].isin(fifa16_epl)]\n",
    "#fifa_16_epl['club'].unique().shape\n",
    "#fifa_16_epl['overall'].mean()\n",
    "fifa_16_epl['overall'].median()"
   ]
  },
  {
   "cell_type": "code",
   "execution_count": 429,
   "metadata": {},
   "outputs": [
    {
     "data": {
      "text/plain": [
       "73.0"
      ]
     },
     "execution_count": 429,
     "metadata": {},
     "output_type": "execute_result"
    }
   ],
   "source": [
    "fifa_16_4el = fifa_16_no_gk[fifa_16_no_gk['club'].isin(fifa16_4el)]\n",
    "#fifa_16_4el['club'].unique().shape\n",
    "#fifa_16_4el['overall'].mean()\n",
    "fifa_16_4el['overall'].median()"
   ]
  },
  {
   "cell_type": "code",
   "execution_count": 430,
   "metadata": {},
   "outputs": [
    {
     "data": {
      "text/plain": [
       "77"
      ]
     },
     "execution_count": 430,
     "metadata": {},
     "output_type": "execute_result"
    }
   ],
   "source": [
    "fifa17_epl = ['Leicester City', 'Arsenal', 'Tottenham Hotspur', 'Manchester City', 'Manchester United', 'Southampton', 'West Ham United', 'Liverpool', 'Stoke City', 'Chelsea', 'Everton', 'Swansea City', 'Watford', 'West Bromwich Albion', 'Crystal Palace', 'Bournemouth', 'Sunderland', 'Burnley', 'Hull City', 'Middlesbrough']\n",
    "fifa17_4el = ['FC Barcelona', 'Real Madrid', 'Atlético Madrid', 'Villarreal CF', 'Athletic Club de Bilbao', 'RC Celta', 'Sevilla FC', 'Málaga CF', 'Real Sociedad', 'Real Betis', 'UD Las Palmas', 'Valencia CF', 'SD Eibar', 'RCD Espanyol', 'Deportivo de La Coruña', 'Granada CF', 'Real Sporting de Gijón', 'CD Leganés', 'Deportivo Alavés', 'CA Osasuna', 'FC Bayern München', 'Borussia Dortmund', 'Bayer 04 Leverkusen', 'Borussia Mönchengladbach', 'FC Schalke 04', '1. FSV Mainz 05', 'Hertha BSC', 'VfL Wolfsburg', '1. FC Köln', 'Hamburger SV', 'FC Ingolstadt 04', 'FC Augsburg', 'SV Werder Bremen', 'SV Darmstadt 98', 'TSG 1899 Hoffenheim', 'Eintracht Frankfurt', 'RB Leipzig', 'SC Freiburg', 'Juventus', 'Napoli', 'Roma', 'Inter', 'Fiorentina', 'Sassuolo', 'Milan', 'Lazio', 'Chievo Verona', 'Genoa', 'Empoli', 'Torino', 'Atalanta', 'Bologna', 'Sampdoria', 'Palermo', 'Udinese', 'Cagliari', 'Crotone', 'Pescara', 'Paris Saint-Germain', 'Olympique Lyonnais', 'AS Monaco', 'OGC Nice', 'LOSC Lille', 'AS Saint-Étienne', 'Stade Malherbe Caen', 'Stade Rennais FC', 'Angers SCO', 'FC Girondins de Bordeaux', 'Montpellier HSC', 'Olympique de Marseille', 'FC Nantes', 'FC Lorient', 'En Avant de Guingamp', 'Toulouse Football Club', 'FC Metz', 'Dijon FCO', 'AS Nancy Lorraine']\n",
    "#len(fifa17_epl)\n",
    "len(fifa17_4el)"
   ]
  },
  {
   "cell_type": "code",
   "execution_count": 431,
   "metadata": {},
   "outputs": [
    {
     "data": {
      "text/plain": [
       "75.0"
      ]
     },
     "execution_count": 431,
     "metadata": {},
     "output_type": "execute_result"
    }
   ],
   "source": [
    "fifa_17_epl = fifa_17_no_gk[fifa_17_no_gk['club'].isin(fifa17_epl)]\n",
    "#fifa_17_epl['club'].unique().shape\n",
    "#fifa_17_epl['overall'].mean()\n",
    "fifa_17_epl['overall'].median()"
   ]
  },
  {
   "cell_type": "code",
   "execution_count": 432,
   "metadata": {},
   "outputs": [
    {
     "data": {
      "text/plain": [
       "74.0"
      ]
     },
     "execution_count": 432,
     "metadata": {},
     "output_type": "execute_result"
    }
   ],
   "source": [
    "fifa_17_4el = fifa_17_no_gk[fifa_17_no_gk['club'].isin(fifa17_4el)]\n",
    "#fifa_17_4el['club'].unique().shape\n",
    "#fifa_17_4el['overall'].mean()\n",
    "fifa_17_4el['overall'].median()"
   ]
  },
  {
   "cell_type": "code",
   "execution_count": 433,
   "metadata": {},
   "outputs": [
    {
     "data": {
      "text/plain": [
       "78"
      ]
     },
     "execution_count": 433,
     "metadata": {},
     "output_type": "execute_result"
    }
   ],
   "source": [
    "fifa18_epl = ['Leicester City', 'Arsenal', 'Tottenham Hotspur', 'Manchester City', 'Manchester United', 'Southampton', 'West Ham United', 'Liverpool', 'Stoke City', 'Chelsea', 'Everton', 'Swansea City', 'Watford', 'West Bromwich Albion', 'Crystal Palace', 'Bournemouth', 'Burnley', 'Newcastle United', 'Brighton & Hove Albion', 'Huddersfield Town']\n",
    "fifa18_4el = ['FC Barcelona', 'Real Madrid', 'Atlético Madrid', 'Villarreal CF', 'Athletic Club de Bilbao', 'RC Celta', 'Sevilla FC', 'Málaga CF', 'Real Sociedad', 'Real Betis', 'UD Las Palmas', 'Valencia CF', 'SD Eibar', 'RCD Espanyol', 'Deportivo de La Coruña', 'CD Leganés', 'Deportivo Alavés', 'Getafe CF', 'Girona FC', 'Levante UD', 'FC Bayern München', 'Borussia Dortmund', 'Bayer 04 Leverkusen', 'Borussia Mönchengladbach', 'FC Schalke 04', '1. FSV Mainz 05', 'Hertha BSC', 'VfL Wolfsburg', '1. FC Köln', 'Hamburger SV', 'FC Augsburg', 'SV Werder Bremen', 'TSG 1899 Hoffenheim', 'Eintracht Frankfurt', 'RB Leipzig', 'SC Freiburg', 'VfB Stuttgart', 'Hannover 96', 'Juventus', 'Napoli', 'Roma', 'Inter', 'Fiorentina', 'Sassuolo', 'Milan', 'Lazio', 'Chievo Verona', 'Genoa', 'Torino', 'Atalanta', 'Bologna', 'Sampdoria', 'Udinese', 'Cagliari', 'Crotone', 'SPAL', 'Hellas Verona', 'Benevento', 'Paris Saint-Germain', 'Olympique Lyonnais', 'AS Monaco', 'OGC Nice', 'LOSC Lille', 'AS Saint-Étienne', 'Stade Malherbe Caen', 'Stade Rennais FC', 'Angers SCO', 'FC Girondins de Bordeaux', 'Montpellier HSC', 'Olympique de Marseille', 'FC Nantes', 'En Avant de Guingamp', 'Toulouse Football Club', 'FC Metz', 'Dijon FCO', 'Amiens SC', 'RC Strasbourg Alsace',  'ESTAC Troyes']\n",
    "#len(fifa18_epl)\n",
    "len(fifa18_4el)"
   ]
  },
  {
   "cell_type": "code",
   "execution_count": 434,
   "metadata": {},
   "outputs": [
    {
     "data": {
      "text/plain": [
       "75.0"
      ]
     },
     "execution_count": 434,
     "metadata": {},
     "output_type": "execute_result"
    }
   ],
   "source": [
    "fifa_18_epl = fifa_18_no_gk[fifa_18_no_gk['club'].isin(fifa18_epl)]\n",
    "#fifa_18_epl['club'].unique().shape\n",
    "#fifa_18_epl['overall'].mean()\n",
    "fifa_18_epl['overall'].median()"
   ]
  },
  {
   "cell_type": "code",
   "execution_count": 435,
   "metadata": {},
   "outputs": [
    {
     "data": {
      "text/plain": [
       "73.0"
      ]
     },
     "execution_count": 435,
     "metadata": {},
     "output_type": "execute_result"
    }
   ],
   "source": [
    "fifa_18_4el = fifa_18_no_gk[fifa_18_no_gk['club'].isin(fifa18_4el)]\n",
    "#fifa_18_4el['club'].unique().shape\n",
    "#fifa_18_4el['overall'].mean()\n",
    "fifa_18_4el['overall'].median()"
   ]
  },
  {
   "cell_type": "code",
   "execution_count": 436,
   "metadata": {},
   "outputs": [
    {
     "data": {
      "text/plain": [
       "78"
      ]
     },
     "execution_count": 436,
     "metadata": {},
     "output_type": "execute_result"
    }
   ],
   "source": [
    "fifa19_epl = ['Leicester City', 'Arsenal', 'Tottenham Hotspur', 'Manchester City', 'Manchester United', 'Southampton', 'West Ham United', 'Liverpool', 'Chelsea', 'Everton', 'Watford', 'Crystal Palace', 'Bournemouth', 'Burnley', 'Newcastle United', 'Brighton & Hove Albion', 'Huddersfield Town', 'Wolverhampton Wanderers', 'Cardiff City', 'Fulham']\n",
    "fifa19_4el = ['FC Barcelona', 'Real Madrid', 'Atlético Madrid', 'Villarreal CF', 'Athletic Club de Bilbao', 'RC Celta', 'Sevilla FC', 'Real Sociedad', 'Real Betis', 'Valencia CF', 'SD Eibar', 'RCD Espanyol', 'CD Leganés', 'Deportivo Alavés', 'Getafe CF', 'Girona FC', 'Levante UD', 'Real Valladolid CF', 'SD Huesca', 'Rayo Vallecano', 'FC Bayern München', 'Borussia Dortmund', 'Bayer 04 Leverkusen', 'Borussia Mönchengladbach', 'FC Schalke 04', '1. FSV Mainz 05', 'Hertha BSC', 'VfL Wolfsburg', 'FC Augsburg', 'SV Werder Bremen', 'TSG 1899 Hoffenheim', 'Eintracht Frankfurt', 'RB Leipzig', 'SC Freiburg', 'VfB Stuttgart', 'Hannover 96', 'Fortuna Düsseldorf', '1. FC Nürnberg', 'Juventus', 'Napoli', 'Roma', 'Inter', 'Fiorentina', 'Sassuolo', 'Milan', 'Lazio', 'Chievo Verona', 'Genoa', 'Torino', 'Atalanta', 'Bologna', 'Sampdoria', 'Udinese', 'Cagliari', 'SPAL', 'Parma', 'Empoli', 'Frosinone', 'Paris Saint-Germain', 'Olympique Lyonnais', 'AS Monaco', 'OGC Nice', 'LOSC Lille', 'AS Saint-Étienne', 'Stade Malherbe Caen', 'Stade Rennais FC', 'Angers SCO', 'FC Girondins de Bordeaux', 'Montpellier HSC', 'Olympique de Marseille', 'FC Nantes', 'En Avant de Guingamp', 'Dijon FCO', 'Amiens SC', 'RC Strasbourg Alsace', 'Toulouse Football Club',  'Stade de Reims', 'Nîmes Olympique']\n",
    "#len(fifa19_epl)\n",
    "len(fifa19_4el)"
   ]
  },
  {
   "cell_type": "code",
   "execution_count": 437,
   "metadata": {},
   "outputs": [
    {
     "data": {
      "text/plain": [
       "75.0"
      ]
     },
     "execution_count": 437,
     "metadata": {},
     "output_type": "execute_result"
    }
   ],
   "source": [
    "fifa_19_epl = fifa_19_no_gk[fifa_19_no_gk['club'].isin(fifa19_epl)]\n",
    "#fifa_19_epl['club'].unique().shape\n",
    "#fifa_19_epl['overall'].mean()\n",
    "fifa_19_epl['overall'].median()"
   ]
  },
  {
   "cell_type": "code",
   "execution_count": 438,
   "metadata": {},
   "outputs": [
    {
     "data": {
      "text/plain": [
       "74.0"
      ]
     },
     "execution_count": 438,
     "metadata": {},
     "output_type": "execute_result"
    }
   ],
   "source": [
    "fifa_19_4el = fifa_19_no_gk[fifa_19_no_gk['club'].isin(fifa19_4el)]\n",
    "#fifa_19_4el['club'].unique().shape\n",
    "#fifa_19_4el['overall'].mean()\n",
    "fifa_19_4el['overall'].median()"
   ]
  },
  {
   "cell_type": "code",
   "execution_count": 439,
   "metadata": {},
   "outputs": [
    {
     "data": {
      "text/plain": [
       "78"
      ]
     },
     "execution_count": 439,
     "metadata": {},
     "output_type": "execute_result"
    }
   ],
   "source": [
    "fifa20_epl = ['Leicester City', 'Arsenal', 'Tottenham Hotspur', 'Manchester City', 'Manchester United', 'Southampton', 'West Ham United', 'Liverpool', 'Chelsea', 'Everton', 'Watford', 'Crystal Palace', 'Burnley', 'Newcastle United', 'Sheffield United', 'Brighton & Hove Albion', 'Wolverhampton Wanderers', 'Bournemouth', 'Norwich City', 'Aston Villa']\n",
    "fifa20_4el = ['FC Barcelona', 'Real Madrid', 'Atlético Madrid', 'Villarreal CF', 'Athletic Club de Bilbao', 'RC Celta', 'Sevilla FC', 'Real Sociedad', 'Real Betis', 'Valencia CF', 'SD Eibar', 'RCD Espanyol', 'CD Leganés', 'Deportivo Alavés', 'Getafe CF', 'Levante UD', 'Real Valladolid CF', 'Granada CF', 'CA Osasuna', 'RCD Mallorca', 'FC Bayern München', 'Borussia Dortmund', 'Bayer 04 Leverkusen', 'Borussia Mönchengladbach', 'FC Schalke 04', '1. FSV Mainz 05', 'Hertha BSC', 'VfL Wolfsburg', 'FC Augsburg', 'SV Werder Bremen', 'TSG 1899 Hoffenheim', 'Eintracht Frankfurt', 'RB Leipzig', 'SC Freiburg', 'Fortuna Düsseldorf', '1. FC Union Berlin', '1. FC Köln', 'SC Paderborn 07', 'Juventus', 'Napoli', 'Roma', 'Inter', 'Fiorentina', 'Sassuolo', 'Milan', 'Lazio', 'Genoa', 'Torino', 'Atalanta', 'Bologna', 'Sampdoria', 'Udinese', 'Cagliari', 'SPAL', 'Parma', 'Hellas Verona', 'Lecce', 'Brescia', 'Paris Saint-Germain', 'Olympique Lyonnais', 'AS Monaco', 'OGC Nice', 'LOSC Lille', 'AS Saint-Étienne', 'Stade Rennais FC', 'Angers SCO', 'FC Girondins de Bordeaux', 'Montpellier HSC', 'Olympique de Marseille', 'FC Nantes', 'Dijon FCO', 'Amiens SC', 'RC Strasbourg Alsace', 'Toulouse Football Club',  'Stade de Reims', 'Nîmes Olympique', 'Stade Brestois 29', 'FC Metz']\n",
    "#len(fifa20_epl)\n",
    "len(fifa20_4el)"
   ]
  },
  {
   "cell_type": "code",
   "execution_count": 440,
   "metadata": {},
   "outputs": [
    {
     "data": {
      "text/plain": [
       "75.0"
      ]
     },
     "execution_count": 440,
     "metadata": {},
     "output_type": "execute_result"
    }
   ],
   "source": [
    "fifa_20_epl = fifa_20_no_gk[fifa_20_no_gk['club'].isin(fifa20_epl)]\n",
    "#fifa_20_epl['club'].unique().shape\n",
    "#fifa_20_epl['overall'].mean()\n",
    "fifa_20_epl['overall'].median()"
   ]
  },
  {
   "cell_type": "code",
   "execution_count": 584,
   "metadata": {},
   "outputs": [
    {
     "data": {
      "text/plain": [
       "73.0"
      ]
     },
     "execution_count": 584,
     "metadata": {},
     "output_type": "execute_result"
    }
   ],
   "source": [
    "fifa_20_4el = fifa_20_no_gk[fifa_20_no_gk['club'].isin(fifa20_4el)]\n",
    "#fifa_20_4el['club'].unique().shape\n",
    "#fifa_20_4el['overall'].mean()\n",
    "fifa_20_4el['overall'].median()"
   ]
  },
  {
   "cell_type": "markdown",
   "metadata": {},
   "source": [
    "The overall threshold is selected as 73 based on the median values above."
   ]
  },
  {
   "cell_type": "code",
   "execution_count": 441,
   "metadata": {},
   "outputs": [
    {
     "name": "stderr",
     "output_type": "stream",
     "text": [
      "<ipython-input-441-f14c65b1bbc2>:1: SettingWithCopyWarning: \n",
      "A value is trying to be set on a copy of a slice from a DataFrame.\n",
      "Try using .loc[row_indexer,col_indexer] = value instead\n",
      "\n",
      "See the caveats in the documentation: https://pandas.pydata.org/pandas-docs/stable/user_guide/indexing.html#returning-a-view-versus-a-copy\n",
      "  fifa_15_epl['73_overall_or_above'] = np.where(fifa_15_epl['overall']>=73, 1, 0)\n"
     ]
    },
    {
     "data": {
      "text/html": [
       "<div>\n",
       "<style scoped>\n",
       "    .dataframe tbody tr th:only-of-type {\n",
       "        vertical-align: middle;\n",
       "    }\n",
       "\n",
       "    .dataframe tbody tr th {\n",
       "        vertical-align: top;\n",
       "    }\n",
       "\n",
       "    .dataframe thead th {\n",
       "        text-align: right;\n",
       "    }\n",
       "</style>\n",
       "<table border=\"1\" class=\"dataframe\">\n",
       "  <thead>\n",
       "    <tr style=\"text-align: right;\">\n",
       "      <th></th>\n",
       "      <th>sofifa_id</th>\n",
       "      <th>player_url</th>\n",
       "      <th>short_name</th>\n",
       "      <th>long_name</th>\n",
       "      <th>age</th>\n",
       "      <th>dob</th>\n",
       "      <th>height_cm</th>\n",
       "      <th>weight_kg</th>\n",
       "      <th>nationality</th>\n",
       "      <th>club</th>\n",
       "      <th>...</th>\n",
       "      <th>ldm</th>\n",
       "      <th>cdm</th>\n",
       "      <th>rdm</th>\n",
       "      <th>rwb</th>\n",
       "      <th>lb</th>\n",
       "      <th>lcb</th>\n",
       "      <th>cb</th>\n",
       "      <th>rcb</th>\n",
       "      <th>rb</th>\n",
       "      <th>73_overall_or_above</th>\n",
       "    </tr>\n",
       "  </thead>\n",
       "  <tbody>\n",
       "    <tr>\n",
       "      <th>6</th>\n",
       "      <td>183277</td>\n",
       "      <td>https://sofifa.com/player/183277/eden-hazard/1...</td>\n",
       "      <td>E. Hazard</td>\n",
       "      <td>Eden Hazard</td>\n",
       "      <td>23</td>\n",
       "      <td>1991-01-07</td>\n",
       "      <td>173</td>\n",
       "      <td>74</td>\n",
       "      <td>Belgium</td>\n",
       "      <td>Chelsea</td>\n",
       "      <td>...</td>\n",
       "      <td>64+2</td>\n",
       "      <td>64+2</td>\n",
       "      <td>64+2</td>\n",
       "      <td>62+2</td>\n",
       "      <td>54+2</td>\n",
       "      <td>46+2</td>\n",
       "      <td>46+2</td>\n",
       "      <td>46+2</td>\n",
       "      <td>54+2</td>\n",
       "      <td>1</td>\n",
       "    </tr>\n",
       "    <tr>\n",
       "      <th>7</th>\n",
       "      <td>7826</td>\n",
       "      <td>https://sofifa.com/player/7826/robin-van-persi...</td>\n",
       "      <td>R. van Persie</td>\n",
       "      <td>Robin van Persie</td>\n",
       "      <td>30</td>\n",
       "      <td>1983-08-06</td>\n",
       "      <td>187</td>\n",
       "      <td>71</td>\n",
       "      <td>Netherlands</td>\n",
       "      <td>Manchester United</td>\n",
       "      <td>...</td>\n",
       "      <td>63+3</td>\n",
       "      <td>63+3</td>\n",
       "      <td>63+3</td>\n",
       "      <td>60+3</td>\n",
       "      <td>54+3</td>\n",
       "      <td>48+3</td>\n",
       "      <td>48+3</td>\n",
       "      <td>48+3</td>\n",
       "      <td>54+3</td>\n",
       "      <td>1</td>\n",
       "    </tr>\n",
       "    <tr>\n",
       "      <th>10</th>\n",
       "      <td>167397</td>\n",
       "      <td>https://sofifa.com/player/167397/radamel-falca...</td>\n",
       "      <td>Falcao</td>\n",
       "      <td>Radamel Falcao García Zárate</td>\n",
       "      <td>28</td>\n",
       "      <td>1986-02-10</td>\n",
       "      <td>177</td>\n",
       "      <td>72</td>\n",
       "      <td>Colombia</td>\n",
       "      <td>Manchester United</td>\n",
       "      <td>...</td>\n",
       "      <td>60+2</td>\n",
       "      <td>60+2</td>\n",
       "      <td>60+2</td>\n",
       "      <td>58+2</td>\n",
       "      <td>56+2</td>\n",
       "      <td>55+2</td>\n",
       "      <td>55+2</td>\n",
       "      <td>55+2</td>\n",
       "      <td>56+2</td>\n",
       "      <td>1</td>\n",
       "    </tr>\n",
       "    <tr>\n",
       "      <th>16</th>\n",
       "      <td>168542</td>\n",
       "      <td>https://sofifa.com/player/168542/david-josue-j...</td>\n",
       "      <td>David Silva</td>\n",
       "      <td>David Josué Jiménez Silva</td>\n",
       "      <td>28</td>\n",
       "      <td>1986-01-08</td>\n",
       "      <td>170</td>\n",
       "      <td>67</td>\n",
       "      <td>Spain</td>\n",
       "      <td>Manchester City</td>\n",
       "      <td>...</td>\n",
       "      <td>64+2</td>\n",
       "      <td>64+2</td>\n",
       "      <td>64+2</td>\n",
       "      <td>63+2</td>\n",
       "      <td>54+2</td>\n",
       "      <td>47+2</td>\n",
       "      <td>47+2</td>\n",
       "      <td>47+2</td>\n",
       "      <td>54+2</td>\n",
       "      <td>1</td>\n",
       "    </tr>\n",
       "    <tr>\n",
       "      <th>22</th>\n",
       "      <td>183898</td>\n",
       "      <td>https://sofifa.com/player/183898/angel-di-mari...</td>\n",
       "      <td>A. Di María</td>\n",
       "      <td>Ángel Fabián Di María Hernández</td>\n",
       "      <td>26</td>\n",
       "      <td>1988-02-14</td>\n",
       "      <td>180</td>\n",
       "      <td>70</td>\n",
       "      <td>Argentina</td>\n",
       "      <td>Manchester United</td>\n",
       "      <td>...</td>\n",
       "      <td>73+2</td>\n",
       "      <td>73+2</td>\n",
       "      <td>73+2</td>\n",
       "      <td>75+2</td>\n",
       "      <td>70+2</td>\n",
       "      <td>64+2</td>\n",
       "      <td>64+2</td>\n",
       "      <td>64+2</td>\n",
       "      <td>70+2</td>\n",
       "      <td>1</td>\n",
       "    </tr>\n",
       "  </tbody>\n",
       "</table>\n",
       "<p>5 rows × 105 columns</p>\n",
       "</div>"
      ],
      "text/plain": [
       "    sofifa_id                                         player_url  \\\n",
       "6      183277  https://sofifa.com/player/183277/eden-hazard/1...   \n",
       "7        7826  https://sofifa.com/player/7826/robin-van-persi...   \n",
       "10     167397  https://sofifa.com/player/167397/radamel-falca...   \n",
       "16     168542  https://sofifa.com/player/168542/david-josue-j...   \n",
       "22     183898  https://sofifa.com/player/183898/angel-di-mari...   \n",
       "\n",
       "       short_name                        long_name  age         dob  \\\n",
       "6       E. Hazard                      Eden Hazard   23  1991-01-07   \n",
       "7   R. van Persie                 Robin van Persie   30  1983-08-06   \n",
       "10         Falcao     Radamel Falcao García Zárate   28  1986-02-10   \n",
       "16    David Silva        David Josué Jiménez Silva   28  1986-01-08   \n",
       "22    A. Di María  Ángel Fabián Di María Hernández   26  1988-02-14   \n",
       "\n",
       "    height_cm  weight_kg  nationality               club  ...   ldm   cdm  \\\n",
       "6         173         74      Belgium            Chelsea  ...  64+2  64+2   \n",
       "7         187         71  Netherlands  Manchester United  ...  63+3  63+3   \n",
       "10        177         72     Colombia  Manchester United  ...  60+2  60+2   \n",
       "16        170         67        Spain    Manchester City  ...  64+2  64+2   \n",
       "22        180         70    Argentina  Manchester United  ...  73+2  73+2   \n",
       "\n",
       "     rdm   rwb    lb   lcb    cb   rcb    rb 73_overall_or_above  \n",
       "6   64+2  62+2  54+2  46+2  46+2  46+2  54+2                   1  \n",
       "7   63+3  60+3  54+3  48+3  48+3  48+3  54+3                   1  \n",
       "10  60+2  58+2  56+2  55+2  55+2  55+2  56+2                   1  \n",
       "16  64+2  63+2  54+2  47+2  47+2  47+2  54+2                   1  \n",
       "22  73+2  75+2  70+2  64+2  64+2  64+2  70+2                   1  \n",
       "\n",
       "[5 rows x 105 columns]"
      ]
     },
     "execution_count": 441,
     "metadata": {},
     "output_type": "execute_result"
    }
   ],
   "source": [
    "fifa_15_epl['73_overall_or_above'] = np.where(fifa_15_epl['overall']>=73, 1, 0)\n",
    "fifa_15_epl.head()"
   ]
  },
  {
   "cell_type": "code",
   "execution_count": 442,
   "metadata": {},
   "outputs": [
    {
     "name": "stderr",
     "output_type": "stream",
     "text": [
      "<ipython-input-442-e86a9f948a90>:1: SettingWithCopyWarning: \n",
      "A value is trying to be set on a copy of a slice from a DataFrame.\n",
      "Try using .loc[row_indexer,col_indexer] = value instead\n",
      "\n",
      "See the caveats in the documentation: https://pandas.pydata.org/pandas-docs/stable/user_guide/indexing.html#returning-a-view-versus-a-copy\n",
      "  fifa_15_4el['73_overall_or_above'] = np.where(fifa_15_4el['overall']>=73, 1, 0)\n"
     ]
    },
    {
     "data": {
      "text/html": [
       "<div>\n",
       "<style scoped>\n",
       "    .dataframe tbody tr th:only-of-type {\n",
       "        vertical-align: middle;\n",
       "    }\n",
       "\n",
       "    .dataframe tbody tr th {\n",
       "        vertical-align: top;\n",
       "    }\n",
       "\n",
       "    .dataframe thead th {\n",
       "        text-align: right;\n",
       "    }\n",
       "</style>\n",
       "<table border=\"1\" class=\"dataframe\">\n",
       "  <thead>\n",
       "    <tr style=\"text-align: right;\">\n",
       "      <th></th>\n",
       "      <th>sofifa_id</th>\n",
       "      <th>player_url</th>\n",
       "      <th>short_name</th>\n",
       "      <th>long_name</th>\n",
       "      <th>age</th>\n",
       "      <th>dob</th>\n",
       "      <th>height_cm</th>\n",
       "      <th>weight_kg</th>\n",
       "      <th>nationality</th>\n",
       "      <th>club</th>\n",
       "      <th>...</th>\n",
       "      <th>ldm</th>\n",
       "      <th>cdm</th>\n",
       "      <th>rdm</th>\n",
       "      <th>rwb</th>\n",
       "      <th>lb</th>\n",
       "      <th>lcb</th>\n",
       "      <th>cb</th>\n",
       "      <th>rcb</th>\n",
       "      <th>rb</th>\n",
       "      <th>73_overall_or_above</th>\n",
       "    </tr>\n",
       "  </thead>\n",
       "  <tbody>\n",
       "    <tr>\n",
       "      <th>0</th>\n",
       "      <td>158023</td>\n",
       "      <td>https://sofifa.com/player/158023/lionel-messi/...</td>\n",
       "      <td>L. Messi</td>\n",
       "      <td>Lionel Andrés Messi Cuccittini</td>\n",
       "      <td>27</td>\n",
       "      <td>1987-06-24</td>\n",
       "      <td>169</td>\n",
       "      <td>67</td>\n",
       "      <td>Argentina</td>\n",
       "      <td>FC Barcelona</td>\n",
       "      <td>...</td>\n",
       "      <td>62+3</td>\n",
       "      <td>62+3</td>\n",
       "      <td>62+3</td>\n",
       "      <td>62+3</td>\n",
       "      <td>54+3</td>\n",
       "      <td>45+3</td>\n",
       "      <td>45+3</td>\n",
       "      <td>45+3</td>\n",
       "      <td>54+3</td>\n",
       "      <td>1</td>\n",
       "    </tr>\n",
       "    <tr>\n",
       "      <th>1</th>\n",
       "      <td>20801</td>\n",
       "      <td>https://sofifa.com/player/20801/c-ronaldo-dos-...</td>\n",
       "      <td>Cristiano Ronaldo</td>\n",
       "      <td>Cristiano Ronaldo dos Santos Aveiro</td>\n",
       "      <td>29</td>\n",
       "      <td>1985-02-05</td>\n",
       "      <td>185</td>\n",
       "      <td>80</td>\n",
       "      <td>Portugal</td>\n",
       "      <td>Real Madrid</td>\n",
       "      <td>...</td>\n",
       "      <td>63+3</td>\n",
       "      <td>63+3</td>\n",
       "      <td>63+3</td>\n",
       "      <td>63+3</td>\n",
       "      <td>57+3</td>\n",
       "      <td>52+3</td>\n",
       "      <td>52+3</td>\n",
       "      <td>52+3</td>\n",
       "      <td>57+3</td>\n",
       "      <td>1</td>\n",
       "    </tr>\n",
       "    <tr>\n",
       "      <th>2</th>\n",
       "      <td>9014</td>\n",
       "      <td>https://sofifa.com/player/9014/arjen-robben/15...</td>\n",
       "      <td>A. Robben</td>\n",
       "      <td>Arjen Robben</td>\n",
       "      <td>30</td>\n",
       "      <td>1984-01-23</td>\n",
       "      <td>180</td>\n",
       "      <td>80</td>\n",
       "      <td>Netherlands</td>\n",
       "      <td>FC Bayern München</td>\n",
       "      <td>...</td>\n",
       "      <td>64+3</td>\n",
       "      <td>64+3</td>\n",
       "      <td>64+3</td>\n",
       "      <td>64+3</td>\n",
       "      <td>55+3</td>\n",
       "      <td>46+3</td>\n",
       "      <td>46+3</td>\n",
       "      <td>46+3</td>\n",
       "      <td>55+3</td>\n",
       "      <td>1</td>\n",
       "    </tr>\n",
       "    <tr>\n",
       "      <th>3</th>\n",
       "      <td>41236</td>\n",
       "      <td>https://sofifa.com/player/41236/zlatan-ibrahim...</td>\n",
       "      <td>Z. Ibrahimović</td>\n",
       "      <td>Zlatan Ibrahimović</td>\n",
       "      <td>32</td>\n",
       "      <td>1981-10-03</td>\n",
       "      <td>195</td>\n",
       "      <td>95</td>\n",
       "      <td>Sweden</td>\n",
       "      <td>Paris Saint-Germain</td>\n",
       "      <td>...</td>\n",
       "      <td>65+3</td>\n",
       "      <td>65+3</td>\n",
       "      <td>65+3</td>\n",
       "      <td>61+3</td>\n",
       "      <td>56+3</td>\n",
       "      <td>55+3</td>\n",
       "      <td>55+3</td>\n",
       "      <td>55+3</td>\n",
       "      <td>56+3</td>\n",
       "      <td>1</td>\n",
       "    </tr>\n",
       "    <tr>\n",
       "      <th>5</th>\n",
       "      <td>176580</td>\n",
       "      <td>https://sofifa.com/player/176580/luis-suarez/1...</td>\n",
       "      <td>L. Suárez</td>\n",
       "      <td>Luis Alberto Suárez Díaz</td>\n",
       "      <td>27</td>\n",
       "      <td>1987-01-24</td>\n",
       "      <td>181</td>\n",
       "      <td>81</td>\n",
       "      <td>Uruguay</td>\n",
       "      <td>FC Barcelona</td>\n",
       "      <td>...</td>\n",
       "      <td>67+3</td>\n",
       "      <td>67+3</td>\n",
       "      <td>67+3</td>\n",
       "      <td>67+3</td>\n",
       "      <td>62+3</td>\n",
       "      <td>57+3</td>\n",
       "      <td>57+3</td>\n",
       "      <td>57+3</td>\n",
       "      <td>62+3</td>\n",
       "      <td>1</td>\n",
       "    </tr>\n",
       "  </tbody>\n",
       "</table>\n",
       "<p>5 rows × 105 columns</p>\n",
       "</div>"
      ],
      "text/plain": [
       "   sofifa_id                                         player_url  \\\n",
       "0     158023  https://sofifa.com/player/158023/lionel-messi/...   \n",
       "1      20801  https://sofifa.com/player/20801/c-ronaldo-dos-...   \n",
       "2       9014  https://sofifa.com/player/9014/arjen-robben/15...   \n",
       "3      41236  https://sofifa.com/player/41236/zlatan-ibrahim...   \n",
       "5     176580  https://sofifa.com/player/176580/luis-suarez/1...   \n",
       "\n",
       "          short_name                            long_name  age         dob  \\\n",
       "0           L. Messi       Lionel Andrés Messi Cuccittini   27  1987-06-24   \n",
       "1  Cristiano Ronaldo  Cristiano Ronaldo dos Santos Aveiro   29  1985-02-05   \n",
       "2          A. Robben                         Arjen Robben   30  1984-01-23   \n",
       "3     Z. Ibrahimović                   Zlatan Ibrahimović   32  1981-10-03   \n",
       "5          L. Suárez             Luis Alberto Suárez Díaz   27  1987-01-24   \n",
       "\n",
       "   height_cm  weight_kg  nationality                 club  ...   ldm   cdm  \\\n",
       "0        169         67    Argentina         FC Barcelona  ...  62+3  62+3   \n",
       "1        185         80     Portugal          Real Madrid  ...  63+3  63+3   \n",
       "2        180         80  Netherlands    FC Bayern München  ...  64+3  64+3   \n",
       "3        195         95       Sweden  Paris Saint-Germain  ...  65+3  65+3   \n",
       "5        181         81      Uruguay         FC Barcelona  ...  67+3  67+3   \n",
       "\n",
       "    rdm   rwb    lb   lcb    cb   rcb    rb 73_overall_or_above  \n",
       "0  62+3  62+3  54+3  45+3  45+3  45+3  54+3                   1  \n",
       "1  63+3  63+3  57+3  52+3  52+3  52+3  57+3                   1  \n",
       "2  64+3  64+3  55+3  46+3  46+3  46+3  55+3                   1  \n",
       "3  65+3  61+3  56+3  55+3  55+3  55+3  56+3                   1  \n",
       "5  67+3  67+3  62+3  57+3  57+3  57+3  62+3                   1  \n",
       "\n",
       "[5 rows x 105 columns]"
      ]
     },
     "execution_count": 442,
     "metadata": {},
     "output_type": "execute_result"
    }
   ],
   "source": [
    "fifa_15_4el['73_overall_or_above'] = np.where(fifa_15_4el['overall']>=73, 1, 0)\n",
    "fifa_15_4el.head()"
   ]
  },
  {
   "cell_type": "code",
   "execution_count": 443,
   "metadata": {},
   "outputs": [
    {
     "name": "stderr",
     "output_type": "stream",
     "text": [
      "<ipython-input-443-5fee81c1e386>:1: SettingWithCopyWarning: \n",
      "A value is trying to be set on a copy of a slice from a DataFrame.\n",
      "Try using .loc[row_indexer,col_indexer] = value instead\n",
      "\n",
      "See the caveats in the documentation: https://pandas.pydata.org/pandas-docs/stable/user_guide/indexing.html#returning-a-view-versus-a-copy\n",
      "  fifa_16_epl['73_overall_or_above'] = np.where(fifa_16_epl['overall']>=73, 1, 0)\n"
     ]
    },
    {
     "data": {
      "text/html": [
       "<div>\n",
       "<style scoped>\n",
       "    .dataframe tbody tr th:only-of-type {\n",
       "        vertical-align: middle;\n",
       "    }\n",
       "\n",
       "    .dataframe tbody tr th {\n",
       "        vertical-align: top;\n",
       "    }\n",
       "\n",
       "    .dataframe thead th {\n",
       "        text-align: right;\n",
       "    }\n",
       "</style>\n",
       "<table border=\"1\" class=\"dataframe\">\n",
       "  <thead>\n",
       "    <tr style=\"text-align: right;\">\n",
       "      <th></th>\n",
       "      <th>sofifa_id</th>\n",
       "      <th>player_url</th>\n",
       "      <th>short_name</th>\n",
       "      <th>long_name</th>\n",
       "      <th>age</th>\n",
       "      <th>dob</th>\n",
       "      <th>height_cm</th>\n",
       "      <th>weight_kg</th>\n",
       "      <th>nationality</th>\n",
       "      <th>club</th>\n",
       "      <th>...</th>\n",
       "      <th>ldm</th>\n",
       "      <th>cdm</th>\n",
       "      <th>rdm</th>\n",
       "      <th>rwb</th>\n",
       "      <th>lb</th>\n",
       "      <th>lcb</th>\n",
       "      <th>cb</th>\n",
       "      <th>rcb</th>\n",
       "      <th>rb</th>\n",
       "      <th>73_overall_or_above</th>\n",
       "    </tr>\n",
       "  </thead>\n",
       "  <tbody>\n",
       "    <tr>\n",
       "      <th>5</th>\n",
       "      <td>183277</td>\n",
       "      <td>https://sofifa.com/player/183277/eden-hazard/1...</td>\n",
       "      <td>E. Hazard</td>\n",
       "      <td>Eden Hazard</td>\n",
       "      <td>24</td>\n",
       "      <td>1991-01-07</td>\n",
       "      <td>173</td>\n",
       "      <td>74</td>\n",
       "      <td>Belgium</td>\n",
       "      <td>Chelsea</td>\n",
       "      <td>...</td>\n",
       "      <td>61+2</td>\n",
       "      <td>61+2</td>\n",
       "      <td>61+2</td>\n",
       "      <td>64+2</td>\n",
       "      <td>58+2</td>\n",
       "      <td>47+2</td>\n",
       "      <td>47+2</td>\n",
       "      <td>47+2</td>\n",
       "      <td>58+2</td>\n",
       "      <td>1</td>\n",
       "    </tr>\n",
       "    <tr>\n",
       "      <th>9</th>\n",
       "      <td>168542</td>\n",
       "      <td>https://sofifa.com/player/168542/david-josue-j...</td>\n",
       "      <td>David Silva</td>\n",
       "      <td>David Josué Jiménez Silva</td>\n",
       "      <td>29</td>\n",
       "      <td>1986-01-08</td>\n",
       "      <td>170</td>\n",
       "      <td>67</td>\n",
       "      <td>Spain</td>\n",
       "      <td>Manchester City</td>\n",
       "      <td>...</td>\n",
       "      <td>62+2</td>\n",
       "      <td>62+2</td>\n",
       "      <td>62+2</td>\n",
       "      <td>63+2</td>\n",
       "      <td>58+2</td>\n",
       "      <td>47+2</td>\n",
       "      <td>47+2</td>\n",
       "      <td>47+2</td>\n",
       "      <td>58+2</td>\n",
       "      <td>1</td>\n",
       "    </tr>\n",
       "    <tr>\n",
       "      <th>15</th>\n",
       "      <td>176635</td>\n",
       "      <td>https://sofifa.com/player/176635/mesut-ozil/16...</td>\n",
       "      <td>M. Özil</td>\n",
       "      <td>Mesut Özil</td>\n",
       "      <td>26</td>\n",
       "      <td>1988-10-15</td>\n",
       "      <td>183</td>\n",
       "      <td>76</td>\n",
       "      <td>Germany</td>\n",
       "      <td>Arsenal</td>\n",
       "      <td>...</td>\n",
       "      <td>56+2</td>\n",
       "      <td>56+2</td>\n",
       "      <td>56+2</td>\n",
       "      <td>57+2</td>\n",
       "      <td>52+2</td>\n",
       "      <td>41+2</td>\n",
       "      <td>41+2</td>\n",
       "      <td>41+2</td>\n",
       "      <td>52+2</td>\n",
       "      <td>1</td>\n",
       "    </tr>\n",
       "    <tr>\n",
       "      <th>18</th>\n",
       "      <td>153079</td>\n",
       "      <td>https://sofifa.com/player/153079/sergio-aguero...</td>\n",
       "      <td>S. Agüero</td>\n",
       "      <td>Sergio Leonel Agüero del Castillo</td>\n",
       "      <td>27</td>\n",
       "      <td>1988-06-02</td>\n",
       "      <td>172</td>\n",
       "      <td>74</td>\n",
       "      <td>Argentina</td>\n",
       "      <td>Manchester City</td>\n",
       "      <td>...</td>\n",
       "      <td>54+2</td>\n",
       "      <td>54+2</td>\n",
       "      <td>54+2</td>\n",
       "      <td>57+2</td>\n",
       "      <td>52+2</td>\n",
       "      <td>43+2</td>\n",
       "      <td>43+2</td>\n",
       "      <td>43+2</td>\n",
       "      <td>52+2</td>\n",
       "      <td>1</td>\n",
       "    </tr>\n",
       "    <tr>\n",
       "      <th>21</th>\n",
       "      <td>162895</td>\n",
       "      <td>https://sofifa.com/player/162895/francesc-fabr...</td>\n",
       "      <td>Cesc Fàbregas</td>\n",
       "      <td>Francesc Fàbregas i Soler</td>\n",
       "      <td>28</td>\n",
       "      <td>1987-05-04</td>\n",
       "      <td>175</td>\n",
       "      <td>74</td>\n",
       "      <td>Spain</td>\n",
       "      <td>Chelsea</td>\n",
       "      <td>...</td>\n",
       "      <td>75+2</td>\n",
       "      <td>75+2</td>\n",
       "      <td>75+2</td>\n",
       "      <td>75+2</td>\n",
       "      <td>72+2</td>\n",
       "      <td>67+2</td>\n",
       "      <td>67+2</td>\n",
       "      <td>67+2</td>\n",
       "      <td>72+2</td>\n",
       "      <td>1</td>\n",
       "    </tr>\n",
       "  </tbody>\n",
       "</table>\n",
       "<p>5 rows × 105 columns</p>\n",
       "</div>"
      ],
      "text/plain": [
       "    sofifa_id                                         player_url  \\\n",
       "5      183277  https://sofifa.com/player/183277/eden-hazard/1...   \n",
       "9      168542  https://sofifa.com/player/168542/david-josue-j...   \n",
       "15     176635  https://sofifa.com/player/176635/mesut-ozil/16...   \n",
       "18     153079  https://sofifa.com/player/153079/sergio-aguero...   \n",
       "21     162895  https://sofifa.com/player/162895/francesc-fabr...   \n",
       "\n",
       "       short_name                          long_name  age         dob  \\\n",
       "5       E. Hazard                        Eden Hazard   24  1991-01-07   \n",
       "9     David Silva          David Josué Jiménez Silva   29  1986-01-08   \n",
       "15        M. Özil                         Mesut Özil   26  1988-10-15   \n",
       "18      S. Agüero  Sergio Leonel Agüero del Castillo   27  1988-06-02   \n",
       "21  Cesc Fàbregas          Francesc Fàbregas i Soler   28  1987-05-04   \n",
       "\n",
       "    height_cm  weight_kg nationality             club  ...   ldm   cdm   rdm  \\\n",
       "5         173         74     Belgium          Chelsea  ...  61+2  61+2  61+2   \n",
       "9         170         67       Spain  Manchester City  ...  62+2  62+2  62+2   \n",
       "15        183         76     Germany          Arsenal  ...  56+2  56+2  56+2   \n",
       "18        172         74   Argentina  Manchester City  ...  54+2  54+2  54+2   \n",
       "21        175         74       Spain          Chelsea  ...  75+2  75+2  75+2   \n",
       "\n",
       "     rwb    lb   lcb    cb   rcb    rb 73_overall_or_above  \n",
       "5   64+2  58+2  47+2  47+2  47+2  58+2                   1  \n",
       "9   63+2  58+2  47+2  47+2  47+2  58+2                   1  \n",
       "15  57+2  52+2  41+2  41+2  41+2  52+2                   1  \n",
       "18  57+2  52+2  43+2  43+2  43+2  52+2                   1  \n",
       "21  75+2  72+2  67+2  67+2  67+2  72+2                   1  \n",
       "\n",
       "[5 rows x 105 columns]"
      ]
     },
     "execution_count": 443,
     "metadata": {},
     "output_type": "execute_result"
    }
   ],
   "source": [
    "fifa_16_epl['73_overall_or_above'] = np.where(fifa_16_epl['overall']>=73, 1, 0)\n",
    "fifa_16_epl.head()"
   ]
  },
  {
   "cell_type": "code",
   "execution_count": 444,
   "metadata": {},
   "outputs": [
    {
     "name": "stderr",
     "output_type": "stream",
     "text": [
      "<ipython-input-444-06eb4179f0c3>:1: SettingWithCopyWarning: \n",
      "A value is trying to be set on a copy of a slice from a DataFrame.\n",
      "Try using .loc[row_indexer,col_indexer] = value instead\n",
      "\n",
      "See the caveats in the documentation: https://pandas.pydata.org/pandas-docs/stable/user_guide/indexing.html#returning-a-view-versus-a-copy\n",
      "  fifa_16_4el['73_overall_or_above'] = np.where(fifa_16_4el['overall']>=73, 1, 0)\n"
     ]
    },
    {
     "data": {
      "text/html": [
       "<div>\n",
       "<style scoped>\n",
       "    .dataframe tbody tr th:only-of-type {\n",
       "        vertical-align: middle;\n",
       "    }\n",
       "\n",
       "    .dataframe tbody tr th {\n",
       "        vertical-align: top;\n",
       "    }\n",
       "\n",
       "    .dataframe thead th {\n",
       "        text-align: right;\n",
       "    }\n",
       "</style>\n",
       "<table border=\"1\" class=\"dataframe\">\n",
       "  <thead>\n",
       "    <tr style=\"text-align: right;\">\n",
       "      <th></th>\n",
       "      <th>sofifa_id</th>\n",
       "      <th>player_url</th>\n",
       "      <th>short_name</th>\n",
       "      <th>long_name</th>\n",
       "      <th>age</th>\n",
       "      <th>dob</th>\n",
       "      <th>height_cm</th>\n",
       "      <th>weight_kg</th>\n",
       "      <th>nationality</th>\n",
       "      <th>club</th>\n",
       "      <th>...</th>\n",
       "      <th>ldm</th>\n",
       "      <th>cdm</th>\n",
       "      <th>rdm</th>\n",
       "      <th>rwb</th>\n",
       "      <th>lb</th>\n",
       "      <th>lcb</th>\n",
       "      <th>cb</th>\n",
       "      <th>rcb</th>\n",
       "      <th>rb</th>\n",
       "      <th>73_overall_or_above</th>\n",
       "    </tr>\n",
       "  </thead>\n",
       "  <tbody>\n",
       "    <tr>\n",
       "      <th>0</th>\n",
       "      <td>158023</td>\n",
       "      <td>https://sofifa.com/player/158023/lionel-messi/...</td>\n",
       "      <td>L. Messi</td>\n",
       "      <td>Lionel Andrés Messi Cuccittini</td>\n",
       "      <td>28</td>\n",
       "      <td>1987-06-24</td>\n",
       "      <td>170</td>\n",
       "      <td>72</td>\n",
       "      <td>Argentina</td>\n",
       "      <td>FC Barcelona</td>\n",
       "      <td>...</td>\n",
       "      <td>57+3</td>\n",
       "      <td>57+3</td>\n",
       "      <td>57+3</td>\n",
       "      <td>62+3</td>\n",
       "      <td>57+3</td>\n",
       "      <td>44+3</td>\n",
       "      <td>44+3</td>\n",
       "      <td>44+3</td>\n",
       "      <td>57+3</td>\n",
       "      <td>1</td>\n",
       "    </tr>\n",
       "    <tr>\n",
       "      <th>1</th>\n",
       "      <td>20801</td>\n",
       "      <td>https://sofifa.com/player/20801/c-ronaldo-dos-...</td>\n",
       "      <td>Cristiano Ronaldo</td>\n",
       "      <td>Cristiano Ronaldo dos Santos Aveiro</td>\n",
       "      <td>30</td>\n",
       "      <td>1985-02-05</td>\n",
       "      <td>185</td>\n",
       "      <td>80</td>\n",
       "      <td>Portugal</td>\n",
       "      <td>Real Madrid</td>\n",
       "      <td>...</td>\n",
       "      <td>60+3</td>\n",
       "      <td>60+3</td>\n",
       "      <td>60+3</td>\n",
       "      <td>64+3</td>\n",
       "      <td>60+3</td>\n",
       "      <td>52+3</td>\n",
       "      <td>52+3</td>\n",
       "      <td>52+3</td>\n",
       "      <td>60+3</td>\n",
       "      <td>1</td>\n",
       "    </tr>\n",
       "    <tr>\n",
       "      <th>2</th>\n",
       "      <td>9014</td>\n",
       "      <td>https://sofifa.com/player/9014/arjen-robben/16...</td>\n",
       "      <td>A. Robben</td>\n",
       "      <td>Arjen Robben</td>\n",
       "      <td>31</td>\n",
       "      <td>1984-01-23</td>\n",
       "      <td>180</td>\n",
       "      <td>80</td>\n",
       "      <td>Netherlands</td>\n",
       "      <td>FC Bayern München</td>\n",
       "      <td>...</td>\n",
       "      <td>60+3</td>\n",
       "      <td>60+3</td>\n",
       "      <td>60+3</td>\n",
       "      <td>65+3</td>\n",
       "      <td>59+3</td>\n",
       "      <td>47+3</td>\n",
       "      <td>47+3</td>\n",
       "      <td>47+3</td>\n",
       "      <td>59+3</td>\n",
       "      <td>1</td>\n",
       "    </tr>\n",
       "    <tr>\n",
       "      <th>4</th>\n",
       "      <td>176580</td>\n",
       "      <td>https://sofifa.com/player/176580/luis-suarez/1...</td>\n",
       "      <td>L. Suárez</td>\n",
       "      <td>Luis Alberto Suárez Díaz</td>\n",
       "      <td>28</td>\n",
       "      <td>1987-01-24</td>\n",
       "      <td>182</td>\n",
       "      <td>85</td>\n",
       "      <td>Uruguay</td>\n",
       "      <td>FC Barcelona</td>\n",
       "      <td>...</td>\n",
       "      <td>65+3</td>\n",
       "      <td>65+3</td>\n",
       "      <td>65+3</td>\n",
       "      <td>67+3</td>\n",
       "      <td>64+3</td>\n",
       "      <td>58+3</td>\n",
       "      <td>58+3</td>\n",
       "      <td>58+3</td>\n",
       "      <td>64+3</td>\n",
       "      <td>1</td>\n",
       "    </tr>\n",
       "    <tr>\n",
       "      <th>6</th>\n",
       "      <td>41236</td>\n",
       "      <td>https://sofifa.com/player/41236/zlatan-ibrahim...</td>\n",
       "      <td>Z. Ibrahimović</td>\n",
       "      <td>Zlatan Ibrahimović</td>\n",
       "      <td>33</td>\n",
       "      <td>1981-10-03</td>\n",
       "      <td>195</td>\n",
       "      <td>95</td>\n",
       "      <td>Sweden</td>\n",
       "      <td>Paris Saint-Germain</td>\n",
       "      <td>...</td>\n",
       "      <td>60+3</td>\n",
       "      <td>60+3</td>\n",
       "      <td>60+3</td>\n",
       "      <td>60+3</td>\n",
       "      <td>56+3</td>\n",
       "      <td>53+3</td>\n",
       "      <td>53+3</td>\n",
       "      <td>53+3</td>\n",
       "      <td>56+3</td>\n",
       "      <td>1</td>\n",
       "    </tr>\n",
       "  </tbody>\n",
       "</table>\n",
       "<p>5 rows × 105 columns</p>\n",
       "</div>"
      ],
      "text/plain": [
       "   sofifa_id                                         player_url  \\\n",
       "0     158023  https://sofifa.com/player/158023/lionel-messi/...   \n",
       "1      20801  https://sofifa.com/player/20801/c-ronaldo-dos-...   \n",
       "2       9014  https://sofifa.com/player/9014/arjen-robben/16...   \n",
       "4     176580  https://sofifa.com/player/176580/luis-suarez/1...   \n",
       "6      41236  https://sofifa.com/player/41236/zlatan-ibrahim...   \n",
       "\n",
       "          short_name                            long_name  age         dob  \\\n",
       "0           L. Messi       Lionel Andrés Messi Cuccittini   28  1987-06-24   \n",
       "1  Cristiano Ronaldo  Cristiano Ronaldo dos Santos Aveiro   30  1985-02-05   \n",
       "2          A. Robben                         Arjen Robben   31  1984-01-23   \n",
       "4          L. Suárez             Luis Alberto Suárez Díaz   28  1987-01-24   \n",
       "6     Z. Ibrahimović                   Zlatan Ibrahimović   33  1981-10-03   \n",
       "\n",
       "   height_cm  weight_kg  nationality                 club  ...   ldm   cdm  \\\n",
       "0        170         72    Argentina         FC Barcelona  ...  57+3  57+3   \n",
       "1        185         80     Portugal          Real Madrid  ...  60+3  60+3   \n",
       "2        180         80  Netherlands    FC Bayern München  ...  60+3  60+3   \n",
       "4        182         85      Uruguay         FC Barcelona  ...  65+3  65+3   \n",
       "6        195         95       Sweden  Paris Saint-Germain  ...  60+3  60+3   \n",
       "\n",
       "    rdm   rwb    lb   lcb    cb   rcb    rb 73_overall_or_above  \n",
       "0  57+3  62+3  57+3  44+3  44+3  44+3  57+3                   1  \n",
       "1  60+3  64+3  60+3  52+3  52+3  52+3  60+3                   1  \n",
       "2  60+3  65+3  59+3  47+3  47+3  47+3  59+3                   1  \n",
       "4  65+3  67+3  64+3  58+3  58+3  58+3  64+3                   1  \n",
       "6  60+3  60+3  56+3  53+3  53+3  53+3  56+3                   1  \n",
       "\n",
       "[5 rows x 105 columns]"
      ]
     },
     "execution_count": 444,
     "metadata": {},
     "output_type": "execute_result"
    }
   ],
   "source": [
    "fifa_16_4el['73_overall_or_above'] = np.where(fifa_16_4el['overall']>=73, 1, 0)\n",
    "fifa_16_4el.head()"
   ]
  },
  {
   "cell_type": "code",
   "execution_count": 445,
   "metadata": {},
   "outputs": [
    {
     "name": "stderr",
     "output_type": "stream",
     "text": [
      "<ipython-input-445-4f03c2da1316>:1: SettingWithCopyWarning: \n",
      "A value is trying to be set on a copy of a slice from a DataFrame.\n",
      "Try using .loc[row_indexer,col_indexer] = value instead\n",
      "\n",
      "See the caveats in the documentation: https://pandas.pydata.org/pandas-docs/stable/user_guide/indexing.html#returning-a-view-versus-a-copy\n",
      "  fifa_17_epl['73_overall_or_above'] = np.where(fifa_17_epl['overall']>=73, 1, 0)\n"
     ]
    },
    {
     "data": {
      "text/html": [
       "<div>\n",
       "<style scoped>\n",
       "    .dataframe tbody tr th:only-of-type {\n",
       "        vertical-align: middle;\n",
       "    }\n",
       "\n",
       "    .dataframe tbody tr th {\n",
       "        vertical-align: top;\n",
       "    }\n",
       "\n",
       "    .dataframe thead th {\n",
       "        text-align: right;\n",
       "    }\n",
       "</style>\n",
       "<table border=\"1\" class=\"dataframe\">\n",
       "  <thead>\n",
       "    <tr style=\"text-align: right;\">\n",
       "      <th></th>\n",
       "      <th>sofifa_id</th>\n",
       "      <th>player_url</th>\n",
       "      <th>short_name</th>\n",
       "      <th>long_name</th>\n",
       "      <th>age</th>\n",
       "      <th>dob</th>\n",
       "      <th>height_cm</th>\n",
       "      <th>weight_kg</th>\n",
       "      <th>nationality</th>\n",
       "      <th>club</th>\n",
       "      <th>...</th>\n",
       "      <th>ldm</th>\n",
       "      <th>cdm</th>\n",
       "      <th>rdm</th>\n",
       "      <th>rwb</th>\n",
       "      <th>lb</th>\n",
       "      <th>lcb</th>\n",
       "      <th>cb</th>\n",
       "      <th>rcb</th>\n",
       "      <th>rb</th>\n",
       "      <th>73_overall_or_above</th>\n",
       "    </tr>\n",
       "  </thead>\n",
       "  <tbody>\n",
       "    <tr>\n",
       "      <th>6</th>\n",
       "      <td>41236</td>\n",
       "      <td>https://sofifa.com/player/41236/zlatan-ibrahim...</td>\n",
       "      <td>Z. Ibrahimović</td>\n",
       "      <td>Zlatan Ibrahimović</td>\n",
       "      <td>34</td>\n",
       "      <td>1981-10-03</td>\n",
       "      <td>195</td>\n",
       "      <td>95</td>\n",
       "      <td>Sweden</td>\n",
       "      <td>Manchester United</td>\n",
       "      <td>...</td>\n",
       "      <td>61+4</td>\n",
       "      <td>61+4</td>\n",
       "      <td>61+4</td>\n",
       "      <td>60+4</td>\n",
       "      <td>56+4</td>\n",
       "      <td>53+4</td>\n",
       "      <td>53+4</td>\n",
       "      <td>53+4</td>\n",
       "      <td>56+4</td>\n",
       "      <td>1</td>\n",
       "    </tr>\n",
       "    <tr>\n",
       "      <th>11</th>\n",
       "      <td>176635</td>\n",
       "      <td>https://sofifa.com/player/176635/mesut-ozil/17...</td>\n",
       "      <td>M. Özil</td>\n",
       "      <td>Mesut Özil</td>\n",
       "      <td>27</td>\n",
       "      <td>1988-10-15</td>\n",
       "      <td>183</td>\n",
       "      <td>76</td>\n",
       "      <td>Germany</td>\n",
       "      <td>Arsenal</td>\n",
       "      <td>...</td>\n",
       "      <td>57+3</td>\n",
       "      <td>57+3</td>\n",
       "      <td>57+3</td>\n",
       "      <td>58+3</td>\n",
       "      <td>52+3</td>\n",
       "      <td>41+3</td>\n",
       "      <td>41+3</td>\n",
       "      <td>41+3</td>\n",
       "      <td>52+3</td>\n",
       "      <td>1</td>\n",
       "    </tr>\n",
       "    <tr>\n",
       "      <th>12</th>\n",
       "      <td>153079</td>\n",
       "      <td>https://sofifa.com/player/153079/sergio-aguero...</td>\n",
       "      <td>S. Agüero</td>\n",
       "      <td>Sergio Leonel Agüero del Castillo</td>\n",
       "      <td>28</td>\n",
       "      <td>1988-06-02</td>\n",
       "      <td>172</td>\n",
       "      <td>74</td>\n",
       "      <td>Argentina</td>\n",
       "      <td>Manchester City</td>\n",
       "      <td>...</td>\n",
       "      <td>54+3</td>\n",
       "      <td>54+3</td>\n",
       "      <td>54+3</td>\n",
       "      <td>57+3</td>\n",
       "      <td>53+3</td>\n",
       "      <td>44+3</td>\n",
       "      <td>44+3</td>\n",
       "      <td>44+3</td>\n",
       "      <td>53+3</td>\n",
       "      <td>1</td>\n",
       "    </tr>\n",
       "    <tr>\n",
       "      <th>16</th>\n",
       "      <td>195864</td>\n",
       "      <td>https://sofifa.com/player/195864/paul-pogba/17...</td>\n",
       "      <td>P. Pogba</td>\n",
       "      <td>Paul Pogba</td>\n",
       "      <td>23</td>\n",
       "      <td>1993-03-15</td>\n",
       "      <td>191</td>\n",
       "      <td>84</td>\n",
       "      <td>France</td>\n",
       "      <td>Manchester United</td>\n",
       "      <td>...</td>\n",
       "      <td>81+3</td>\n",
       "      <td>81+3</td>\n",
       "      <td>81+3</td>\n",
       "      <td>81+3</td>\n",
       "      <td>79+3</td>\n",
       "      <td>77+3</td>\n",
       "      <td>77+3</td>\n",
       "      <td>77+3</td>\n",
       "      <td>79+3</td>\n",
       "      <td>1</td>\n",
       "    </tr>\n",
       "    <tr>\n",
       "      <th>18</th>\n",
       "      <td>192985</td>\n",
       "      <td>https://sofifa.com/player/192985/kevin-de-bruy...</td>\n",
       "      <td>K. De Bruyne</td>\n",
       "      <td>Kevin De Bruyne</td>\n",
       "      <td>25</td>\n",
       "      <td>1991-06-28</td>\n",
       "      <td>181</td>\n",
       "      <td>76</td>\n",
       "      <td>Belgium</td>\n",
       "      <td>Manchester City</td>\n",
       "      <td>...</td>\n",
       "      <td>67+3</td>\n",
       "      <td>67+3</td>\n",
       "      <td>67+3</td>\n",
       "      <td>69+3</td>\n",
       "      <td>64+3</td>\n",
       "      <td>55+3</td>\n",
       "      <td>55+3</td>\n",
       "      <td>55+3</td>\n",
       "      <td>64+3</td>\n",
       "      <td>1</td>\n",
       "    </tr>\n",
       "  </tbody>\n",
       "</table>\n",
       "<p>5 rows × 105 columns</p>\n",
       "</div>"
      ],
      "text/plain": [
       "    sofifa_id                                         player_url  \\\n",
       "6       41236  https://sofifa.com/player/41236/zlatan-ibrahim...   \n",
       "11     176635  https://sofifa.com/player/176635/mesut-ozil/17...   \n",
       "12     153079  https://sofifa.com/player/153079/sergio-aguero...   \n",
       "16     195864  https://sofifa.com/player/195864/paul-pogba/17...   \n",
       "18     192985  https://sofifa.com/player/192985/kevin-de-bruy...   \n",
       "\n",
       "        short_name                          long_name  age         dob  \\\n",
       "6   Z. Ibrahimović                 Zlatan Ibrahimović   34  1981-10-03   \n",
       "11         M. Özil                         Mesut Özil   27  1988-10-15   \n",
       "12       S. Agüero  Sergio Leonel Agüero del Castillo   28  1988-06-02   \n",
       "16        P. Pogba                         Paul Pogba   23  1993-03-15   \n",
       "18    K. De Bruyne                    Kevin De Bruyne   25  1991-06-28   \n",
       "\n",
       "    height_cm  weight_kg nationality               club  ...   ldm   cdm  \\\n",
       "6         195         95      Sweden  Manchester United  ...  61+4  61+4   \n",
       "11        183         76     Germany            Arsenal  ...  57+3  57+3   \n",
       "12        172         74   Argentina    Manchester City  ...  54+3  54+3   \n",
       "16        191         84      France  Manchester United  ...  81+3  81+3   \n",
       "18        181         76     Belgium    Manchester City  ...  67+3  67+3   \n",
       "\n",
       "     rdm   rwb    lb   lcb    cb   rcb    rb 73_overall_or_above  \n",
       "6   61+4  60+4  56+4  53+4  53+4  53+4  56+4                   1  \n",
       "11  57+3  58+3  52+3  41+3  41+3  41+3  52+3                   1  \n",
       "12  54+3  57+3  53+3  44+3  44+3  44+3  53+3                   1  \n",
       "16  81+3  81+3  79+3  77+3  77+3  77+3  79+3                   1  \n",
       "18  67+3  69+3  64+3  55+3  55+3  55+3  64+3                   1  \n",
       "\n",
       "[5 rows x 105 columns]"
      ]
     },
     "execution_count": 445,
     "metadata": {},
     "output_type": "execute_result"
    }
   ],
   "source": [
    "fifa_17_epl['73_overall_or_above'] = np.where(fifa_17_epl['overall']>=73, 1, 0)\n",
    "fifa_17_epl.head()"
   ]
  },
  {
   "cell_type": "code",
   "execution_count": 446,
   "metadata": {},
   "outputs": [
    {
     "name": "stderr",
     "output_type": "stream",
     "text": [
      "<ipython-input-446-c40a472780fd>:1: SettingWithCopyWarning: \n",
      "A value is trying to be set on a copy of a slice from a DataFrame.\n",
      "Try using .loc[row_indexer,col_indexer] = value instead\n",
      "\n",
      "See the caveats in the documentation: https://pandas.pydata.org/pandas-docs/stable/user_guide/indexing.html#returning-a-view-versus-a-copy\n",
      "  fifa_17_4el['73_overall_or_above'] = np.where(fifa_17_4el['overall']>=73, 1, 0)\n"
     ]
    },
    {
     "data": {
      "text/html": [
       "<div>\n",
       "<style scoped>\n",
       "    .dataframe tbody tr th:only-of-type {\n",
       "        vertical-align: middle;\n",
       "    }\n",
       "\n",
       "    .dataframe tbody tr th {\n",
       "        vertical-align: top;\n",
       "    }\n",
       "\n",
       "    .dataframe thead th {\n",
       "        text-align: right;\n",
       "    }\n",
       "</style>\n",
       "<table border=\"1\" class=\"dataframe\">\n",
       "  <thead>\n",
       "    <tr style=\"text-align: right;\">\n",
       "      <th></th>\n",
       "      <th>sofifa_id</th>\n",
       "      <th>player_url</th>\n",
       "      <th>short_name</th>\n",
       "      <th>long_name</th>\n",
       "      <th>age</th>\n",
       "      <th>dob</th>\n",
       "      <th>height_cm</th>\n",
       "      <th>weight_kg</th>\n",
       "      <th>nationality</th>\n",
       "      <th>club</th>\n",
       "      <th>...</th>\n",
       "      <th>ldm</th>\n",
       "      <th>cdm</th>\n",
       "      <th>rdm</th>\n",
       "      <th>rwb</th>\n",
       "      <th>lb</th>\n",
       "      <th>lcb</th>\n",
       "      <th>cb</th>\n",
       "      <th>rcb</th>\n",
       "      <th>rb</th>\n",
       "      <th>73_overall_or_above</th>\n",
       "    </tr>\n",
       "  </thead>\n",
       "  <tbody>\n",
       "    <tr>\n",
       "      <th>0</th>\n",
       "      <td>20801</td>\n",
       "      <td>https://sofifa.com/player/20801/c-ronaldo-dos-...</td>\n",
       "      <td>Cristiano Ronaldo</td>\n",
       "      <td>Cristiano Ronaldo dos Santos Aveiro</td>\n",
       "      <td>31</td>\n",
       "      <td>1985-02-05</td>\n",
       "      <td>185</td>\n",
       "      <td>80</td>\n",
       "      <td>Portugal</td>\n",
       "      <td>Real Madrid</td>\n",
       "      <td>...</td>\n",
       "      <td>61+3</td>\n",
       "      <td>61+3</td>\n",
       "      <td>61+3</td>\n",
       "      <td>66+3</td>\n",
       "      <td>62+3</td>\n",
       "      <td>53+3</td>\n",
       "      <td>53+3</td>\n",
       "      <td>53+3</td>\n",
       "      <td>62+3</td>\n",
       "      <td>1</td>\n",
       "    </tr>\n",
       "    <tr>\n",
       "      <th>1</th>\n",
       "      <td>158023</td>\n",
       "      <td>https://sofifa.com/player/158023/lionel-messi/...</td>\n",
       "      <td>L. Messi</td>\n",
       "      <td>Lionel Andrés Messi Cuccittini</td>\n",
       "      <td>29</td>\n",
       "      <td>1987-06-24</td>\n",
       "      <td>170</td>\n",
       "      <td>72</td>\n",
       "      <td>Argentina</td>\n",
       "      <td>FC Barcelona</td>\n",
       "      <td>...</td>\n",
       "      <td>59+3</td>\n",
       "      <td>59+3</td>\n",
       "      <td>59+3</td>\n",
       "      <td>63+3</td>\n",
       "      <td>58+3</td>\n",
       "      <td>46+3</td>\n",
       "      <td>46+3</td>\n",
       "      <td>46+3</td>\n",
       "      <td>58+3</td>\n",
       "      <td>1</td>\n",
       "    </tr>\n",
       "    <tr>\n",
       "      <th>2</th>\n",
       "      <td>190871</td>\n",
       "      <td>https://sofifa.com/player/190871/neymar-da-sil...</td>\n",
       "      <td>Neymar</td>\n",
       "      <td>Neymar da Silva Santos Junior</td>\n",
       "      <td>24</td>\n",
       "      <td>1992-02-05</td>\n",
       "      <td>174</td>\n",
       "      <td>68</td>\n",
       "      <td>Brazil</td>\n",
       "      <td>FC Barcelona</td>\n",
       "      <td>...</td>\n",
       "      <td>59+3</td>\n",
       "      <td>59+3</td>\n",
       "      <td>59+3</td>\n",
       "      <td>64+3</td>\n",
       "      <td>59+3</td>\n",
       "      <td>46+3</td>\n",
       "      <td>46+3</td>\n",
       "      <td>46+3</td>\n",
       "      <td>59+3</td>\n",
       "      <td>1</td>\n",
       "    </tr>\n",
       "    <tr>\n",
       "      <th>4</th>\n",
       "      <td>176580</td>\n",
       "      <td>https://sofifa.com/player/176580/luis-suarez/1...</td>\n",
       "      <td>L. Suárez</td>\n",
       "      <td>Luis Alberto Suárez Díaz</td>\n",
       "      <td>29</td>\n",
       "      <td>1987-01-24</td>\n",
       "      <td>182</td>\n",
       "      <td>85</td>\n",
       "      <td>Uruguay</td>\n",
       "      <td>FC Barcelona</td>\n",
       "      <td>...</td>\n",
       "      <td>66+4</td>\n",
       "      <td>66+4</td>\n",
       "      <td>66+4</td>\n",
       "      <td>68+4</td>\n",
       "      <td>65+4</td>\n",
       "      <td>58+4</td>\n",
       "      <td>58+4</td>\n",
       "      <td>58+4</td>\n",
       "      <td>65+4</td>\n",
       "      <td>1</td>\n",
       "    </tr>\n",
       "    <tr>\n",
       "      <th>7</th>\n",
       "      <td>173731</td>\n",
       "      <td>https://sofifa.com/player/173731/gareth-bale/1...</td>\n",
       "      <td>G. Bale</td>\n",
       "      <td>Gareth Frank Bale</td>\n",
       "      <td>26</td>\n",
       "      <td>1989-07-16</td>\n",
       "      <td>183</td>\n",
       "      <td>74</td>\n",
       "      <td>Wales</td>\n",
       "      <td>Real Madrid</td>\n",
       "      <td>...</td>\n",
       "      <td>72+2</td>\n",
       "      <td>72+2</td>\n",
       "      <td>72+2</td>\n",
       "      <td>75+2</td>\n",
       "      <td>73+2</td>\n",
       "      <td>67+2</td>\n",
       "      <td>67+2</td>\n",
       "      <td>67+2</td>\n",
       "      <td>73+2</td>\n",
       "      <td>1</td>\n",
       "    </tr>\n",
       "  </tbody>\n",
       "</table>\n",
       "<p>5 rows × 105 columns</p>\n",
       "</div>"
      ],
      "text/plain": [
       "   sofifa_id                                         player_url  \\\n",
       "0      20801  https://sofifa.com/player/20801/c-ronaldo-dos-...   \n",
       "1     158023  https://sofifa.com/player/158023/lionel-messi/...   \n",
       "2     190871  https://sofifa.com/player/190871/neymar-da-sil...   \n",
       "4     176580  https://sofifa.com/player/176580/luis-suarez/1...   \n",
       "7     173731  https://sofifa.com/player/173731/gareth-bale/1...   \n",
       "\n",
       "          short_name                            long_name  age         dob  \\\n",
       "0  Cristiano Ronaldo  Cristiano Ronaldo dos Santos Aveiro   31  1985-02-05   \n",
       "1           L. Messi       Lionel Andrés Messi Cuccittini   29  1987-06-24   \n",
       "2             Neymar        Neymar da Silva Santos Junior   24  1992-02-05   \n",
       "4          L. Suárez             Luis Alberto Suárez Díaz   29  1987-01-24   \n",
       "7            G. Bale                    Gareth Frank Bale   26  1989-07-16   \n",
       "\n",
       "   height_cm  weight_kg nationality          club  ...   ldm   cdm   rdm  \\\n",
       "0        185         80    Portugal   Real Madrid  ...  61+3  61+3  61+3   \n",
       "1        170         72   Argentina  FC Barcelona  ...  59+3  59+3  59+3   \n",
       "2        174         68      Brazil  FC Barcelona  ...  59+3  59+3  59+3   \n",
       "4        182         85     Uruguay  FC Barcelona  ...  66+4  66+4  66+4   \n",
       "7        183         74       Wales   Real Madrid  ...  72+2  72+2  72+2   \n",
       "\n",
       "    rwb    lb   lcb    cb   rcb    rb 73_overall_or_above  \n",
       "0  66+3  62+3  53+3  53+3  53+3  62+3                   1  \n",
       "1  63+3  58+3  46+3  46+3  46+3  58+3                   1  \n",
       "2  64+3  59+3  46+3  46+3  46+3  59+3                   1  \n",
       "4  68+4  65+4  58+4  58+4  58+4  65+4                   1  \n",
       "7  75+2  73+2  67+2  67+2  67+2  73+2                   1  \n",
       "\n",
       "[5 rows x 105 columns]"
      ]
     },
     "execution_count": 446,
     "metadata": {},
     "output_type": "execute_result"
    }
   ],
   "source": [
    "fifa_17_4el['73_overall_or_above'] = np.where(fifa_17_4el['overall']>=73, 1, 0)\n",
    "fifa_17_4el.head()"
   ]
  },
  {
   "cell_type": "code",
   "execution_count": 447,
   "metadata": {},
   "outputs": [
    {
     "name": "stderr",
     "output_type": "stream",
     "text": [
      "<ipython-input-447-ea09a99717ce>:1: SettingWithCopyWarning: \n",
      "A value is trying to be set on a copy of a slice from a DataFrame.\n",
      "Try using .loc[row_indexer,col_indexer] = value instead\n",
      "\n",
      "See the caveats in the documentation: https://pandas.pydata.org/pandas-docs/stable/user_guide/indexing.html#returning-a-view-versus-a-copy\n",
      "  fifa_18_epl['73_overall_or_above'] = np.where(fifa_18_epl['overall']>=73, 1, 0)\n"
     ]
    },
    {
     "data": {
      "text/html": [
       "<div>\n",
       "<style scoped>\n",
       "    .dataframe tbody tr th:only-of-type {\n",
       "        vertical-align: middle;\n",
       "    }\n",
       "\n",
       "    .dataframe tbody tr th {\n",
       "        vertical-align: top;\n",
       "    }\n",
       "\n",
       "    .dataframe thead th {\n",
       "        text-align: right;\n",
       "    }\n",
       "</style>\n",
       "<table border=\"1\" class=\"dataframe\">\n",
       "  <thead>\n",
       "    <tr style=\"text-align: right;\">\n",
       "      <th></th>\n",
       "      <th>sofifa_id</th>\n",
       "      <th>player_url</th>\n",
       "      <th>short_name</th>\n",
       "      <th>long_name</th>\n",
       "      <th>age</th>\n",
       "      <th>dob</th>\n",
       "      <th>height_cm</th>\n",
       "      <th>weight_kg</th>\n",
       "      <th>nationality</th>\n",
       "      <th>club</th>\n",
       "      <th>...</th>\n",
       "      <th>ldm</th>\n",
       "      <th>cdm</th>\n",
       "      <th>rdm</th>\n",
       "      <th>rwb</th>\n",
       "      <th>lb</th>\n",
       "      <th>lcb</th>\n",
       "      <th>cb</th>\n",
       "      <th>rcb</th>\n",
       "      <th>rb</th>\n",
       "      <th>73_overall_or_above</th>\n",
       "    </tr>\n",
       "  </thead>\n",
       "  <tbody>\n",
       "    <tr>\n",
       "      <th>7</th>\n",
       "      <td>183277</td>\n",
       "      <td>https://sofifa.com/player/183277/eden-hazard/1...</td>\n",
       "      <td>E. Hazard</td>\n",
       "      <td>Eden Hazard</td>\n",
       "      <td>26</td>\n",
       "      <td>1991-01-07</td>\n",
       "      <td>173</td>\n",
       "      <td>76</td>\n",
       "      <td>Belgium</td>\n",
       "      <td>Chelsea</td>\n",
       "      <td>...</td>\n",
       "      <td>62+2</td>\n",
       "      <td>62+2</td>\n",
       "      <td>62+2</td>\n",
       "      <td>65+2</td>\n",
       "      <td>59+2</td>\n",
       "      <td>48+2</td>\n",
       "      <td>48+2</td>\n",
       "      <td>48+2</td>\n",
       "      <td>59+2</td>\n",
       "      <td>1</td>\n",
       "    </tr>\n",
       "    <tr>\n",
       "      <th>12</th>\n",
       "      <td>192985</td>\n",
       "      <td>https://sofifa.com/player/192985/kevin-de-bruy...</td>\n",
       "      <td>K. De Bruyne</td>\n",
       "      <td>Kevin De Bruyne</td>\n",
       "      <td>26</td>\n",
       "      <td>1991-06-28</td>\n",
       "      <td>181</td>\n",
       "      <td>68</td>\n",
       "      <td>Belgium</td>\n",
       "      <td>Manchester City</td>\n",
       "      <td>...</td>\n",
       "      <td>70+3</td>\n",
       "      <td>70+3</td>\n",
       "      <td>70+3</td>\n",
       "      <td>71+3</td>\n",
       "      <td>66+3</td>\n",
       "      <td>58+3</td>\n",
       "      <td>58+3</td>\n",
       "      <td>58+3</td>\n",
       "      <td>66+3</td>\n",
       "      <td>1</td>\n",
       "    </tr>\n",
       "    <tr>\n",
       "      <th>15</th>\n",
       "      <td>153079</td>\n",
       "      <td>https://sofifa.com/player/153079/sergio-aguero...</td>\n",
       "      <td>S. Agüero</td>\n",
       "      <td>Sergio Leonel Agüero del Castillo</td>\n",
       "      <td>29</td>\n",
       "      <td>1988-06-02</td>\n",
       "      <td>173</td>\n",
       "      <td>70</td>\n",
       "      <td>Argentina</td>\n",
       "      <td>Manchester City</td>\n",
       "      <td>...</td>\n",
       "      <td>54+3</td>\n",
       "      <td>54+3</td>\n",
       "      <td>54+3</td>\n",
       "      <td>57+3</td>\n",
       "      <td>52+3</td>\n",
       "      <td>45+3</td>\n",
       "      <td>45+3</td>\n",
       "      <td>45+3</td>\n",
       "      <td>52+3</td>\n",
       "      <td>1</td>\n",
       "    </tr>\n",
       "    <tr>\n",
       "      <th>18</th>\n",
       "      <td>184941</td>\n",
       "      <td>https://sofifa.com/player/184941/alexis-sanche...</td>\n",
       "      <td>A. Sánchez</td>\n",
       "      <td>Alexis Alejandro Sánchez Sánchez</td>\n",
       "      <td>28</td>\n",
       "      <td>1988-12-19</td>\n",
       "      <td>169</td>\n",
       "      <td>62</td>\n",
       "      <td>Chile</td>\n",
       "      <td>Arsenal</td>\n",
       "      <td>...</td>\n",
       "      <td>64+3</td>\n",
       "      <td>64+3</td>\n",
       "      <td>64+3</td>\n",
       "      <td>67+3</td>\n",
       "      <td>63+3</td>\n",
       "      <td>56+3</td>\n",
       "      <td>56+3</td>\n",
       "      <td>56+3</td>\n",
       "      <td>63+3</td>\n",
       "      <td>1</td>\n",
       "    </tr>\n",
       "    <tr>\n",
       "      <th>24</th>\n",
       "      <td>41236</td>\n",
       "      <td>https://sofifa.com/player/41236/zlatan-ibrahim...</td>\n",
       "      <td>Z. Ibrahimović</td>\n",
       "      <td>Zlatan Ibrahimović</td>\n",
       "      <td>35</td>\n",
       "      <td>1981-10-03</td>\n",
       "      <td>195</td>\n",
       "      <td>95</td>\n",
       "      <td>Sweden</td>\n",
       "      <td>Manchester United</td>\n",
       "      <td>...</td>\n",
       "      <td>60+4</td>\n",
       "      <td>60+4</td>\n",
       "      <td>60+4</td>\n",
       "      <td>59+4</td>\n",
       "      <td>55+4</td>\n",
       "      <td>53+4</td>\n",
       "      <td>53+4</td>\n",
       "      <td>53+4</td>\n",
       "      <td>55+4</td>\n",
       "      <td>1</td>\n",
       "    </tr>\n",
       "  </tbody>\n",
       "</table>\n",
       "<p>5 rows × 105 columns</p>\n",
       "</div>"
      ],
      "text/plain": [
       "    sofifa_id                                         player_url  \\\n",
       "7      183277  https://sofifa.com/player/183277/eden-hazard/1...   \n",
       "12     192985  https://sofifa.com/player/192985/kevin-de-bruy...   \n",
       "15     153079  https://sofifa.com/player/153079/sergio-aguero...   \n",
       "18     184941  https://sofifa.com/player/184941/alexis-sanche...   \n",
       "24      41236  https://sofifa.com/player/41236/zlatan-ibrahim...   \n",
       "\n",
       "        short_name                          long_name  age         dob  \\\n",
       "7        E. Hazard                        Eden Hazard   26  1991-01-07   \n",
       "12    K. De Bruyne                    Kevin De Bruyne   26  1991-06-28   \n",
       "15       S. Agüero  Sergio Leonel Agüero del Castillo   29  1988-06-02   \n",
       "18      A. Sánchez   Alexis Alejandro Sánchez Sánchez   28  1988-12-19   \n",
       "24  Z. Ibrahimović                 Zlatan Ibrahimović   35  1981-10-03   \n",
       "\n",
       "    height_cm  weight_kg nationality               club  ...   ldm   cdm  \\\n",
       "7         173         76     Belgium            Chelsea  ...  62+2  62+2   \n",
       "12        181         68     Belgium    Manchester City  ...  70+3  70+3   \n",
       "15        173         70   Argentina    Manchester City  ...  54+3  54+3   \n",
       "18        169         62       Chile            Arsenal  ...  64+3  64+3   \n",
       "24        195         95      Sweden  Manchester United  ...  60+4  60+4   \n",
       "\n",
       "     rdm   rwb    lb   lcb    cb   rcb    rb 73_overall_or_above  \n",
       "7   62+2  65+2  59+2  48+2  48+2  48+2  59+2                   1  \n",
       "12  70+3  71+3  66+3  58+3  58+3  58+3  66+3                   1  \n",
       "15  54+3  57+3  52+3  45+3  45+3  45+3  52+3                   1  \n",
       "18  64+3  67+3  63+3  56+3  56+3  56+3  63+3                   1  \n",
       "24  60+4  59+4  55+4  53+4  53+4  53+4  55+4                   1  \n",
       "\n",
       "[5 rows x 105 columns]"
      ]
     },
     "execution_count": 447,
     "metadata": {},
     "output_type": "execute_result"
    }
   ],
   "source": [
    "fifa_18_epl['73_overall_or_above'] = np.where(fifa_18_epl['overall']>=73, 1, 0)\n",
    "fifa_18_epl.head()"
   ]
  },
  {
   "cell_type": "code",
   "execution_count": 448,
   "metadata": {},
   "outputs": [
    {
     "name": "stderr",
     "output_type": "stream",
     "text": [
      "<ipython-input-448-b667931807f5>:1: SettingWithCopyWarning: \n",
      "A value is trying to be set on a copy of a slice from a DataFrame.\n",
      "Try using .loc[row_indexer,col_indexer] = value instead\n",
      "\n",
      "See the caveats in the documentation: https://pandas.pydata.org/pandas-docs/stable/user_guide/indexing.html#returning-a-view-versus-a-copy\n",
      "  fifa_18_4el['73_overall_or_above'] = np.where(fifa_18_4el['overall']>=73, 1, 0)\n"
     ]
    },
    {
     "data": {
      "text/html": [
       "<div>\n",
       "<style scoped>\n",
       "    .dataframe tbody tr th:only-of-type {\n",
       "        vertical-align: middle;\n",
       "    }\n",
       "\n",
       "    .dataframe tbody tr th {\n",
       "        vertical-align: top;\n",
       "    }\n",
       "\n",
       "    .dataframe thead th {\n",
       "        text-align: right;\n",
       "    }\n",
       "</style>\n",
       "<table border=\"1\" class=\"dataframe\">\n",
       "  <thead>\n",
       "    <tr style=\"text-align: right;\">\n",
       "      <th></th>\n",
       "      <th>sofifa_id</th>\n",
       "      <th>player_url</th>\n",
       "      <th>short_name</th>\n",
       "      <th>long_name</th>\n",
       "      <th>age</th>\n",
       "      <th>dob</th>\n",
       "      <th>height_cm</th>\n",
       "      <th>weight_kg</th>\n",
       "      <th>nationality</th>\n",
       "      <th>club</th>\n",
       "      <th>...</th>\n",
       "      <th>ldm</th>\n",
       "      <th>cdm</th>\n",
       "      <th>rdm</th>\n",
       "      <th>rwb</th>\n",
       "      <th>lb</th>\n",
       "      <th>lcb</th>\n",
       "      <th>cb</th>\n",
       "      <th>rcb</th>\n",
       "      <th>rb</th>\n",
       "      <th>73_overall_or_above</th>\n",
       "    </tr>\n",
       "  </thead>\n",
       "  <tbody>\n",
       "    <tr>\n",
       "      <th>0</th>\n",
       "      <td>20801</td>\n",
       "      <td>https://sofifa.com/player/20801/c-ronaldo-dos-...</td>\n",
       "      <td>Cristiano Ronaldo</td>\n",
       "      <td>Cristiano Ronaldo dos Santos Aveiro</td>\n",
       "      <td>32</td>\n",
       "      <td>1985-02-05</td>\n",
       "      <td>185</td>\n",
       "      <td>80</td>\n",
       "      <td>Portugal</td>\n",
       "      <td>Real Madrid</td>\n",
       "      <td>...</td>\n",
       "      <td>62+3</td>\n",
       "      <td>62+3</td>\n",
       "      <td>62+3</td>\n",
       "      <td>66+3</td>\n",
       "      <td>62+3</td>\n",
       "      <td>53+3</td>\n",
       "      <td>53+3</td>\n",
       "      <td>53+3</td>\n",
       "      <td>62+3</td>\n",
       "      <td>1</td>\n",
       "    </tr>\n",
       "    <tr>\n",
       "      <th>1</th>\n",
       "      <td>158023</td>\n",
       "      <td>https://sofifa.com/player/158023/lionel-messi/...</td>\n",
       "      <td>L. Messi</td>\n",
       "      <td>Lionel Andrés Messi Cuccittini</td>\n",
       "      <td>30</td>\n",
       "      <td>1987-06-24</td>\n",
       "      <td>170</td>\n",
       "      <td>72</td>\n",
       "      <td>Argentina</td>\n",
       "      <td>FC Barcelona</td>\n",
       "      <td>...</td>\n",
       "      <td>59+3</td>\n",
       "      <td>59+3</td>\n",
       "      <td>59+3</td>\n",
       "      <td>62+3</td>\n",
       "      <td>58+3</td>\n",
       "      <td>46+3</td>\n",
       "      <td>46+3</td>\n",
       "      <td>46+3</td>\n",
       "      <td>58+3</td>\n",
       "      <td>1</td>\n",
       "    </tr>\n",
       "    <tr>\n",
       "      <th>2</th>\n",
       "      <td>190871</td>\n",
       "      <td>https://sofifa.com/player/190871/neymar-da-sil...</td>\n",
       "      <td>Neymar</td>\n",
       "      <td>Neymar da Silva Santos Junior</td>\n",
       "      <td>25</td>\n",
       "      <td>1992-02-05</td>\n",
       "      <td>175</td>\n",
       "      <td>68</td>\n",
       "      <td>Brazil</td>\n",
       "      <td>Paris Saint-Germain</td>\n",
       "      <td>...</td>\n",
       "      <td>59+3</td>\n",
       "      <td>59+3</td>\n",
       "      <td>59+3</td>\n",
       "      <td>64+3</td>\n",
       "      <td>60+3</td>\n",
       "      <td>47+3</td>\n",
       "      <td>47+3</td>\n",
       "      <td>47+3</td>\n",
       "      <td>60+3</td>\n",
       "      <td>1</td>\n",
       "    </tr>\n",
       "    <tr>\n",
       "      <th>4</th>\n",
       "      <td>176580</td>\n",
       "      <td>https://sofifa.com/player/176580/luis-suarez/1...</td>\n",
       "      <td>L. Suárez</td>\n",
       "      <td>Luis Alberto Suárez Díaz</td>\n",
       "      <td>30</td>\n",
       "      <td>1987-01-24</td>\n",
       "      <td>182</td>\n",
       "      <td>86</td>\n",
       "      <td>Uruguay</td>\n",
       "      <td>FC Barcelona</td>\n",
       "      <td>...</td>\n",
       "      <td>66+4</td>\n",
       "      <td>66+4</td>\n",
       "      <td>66+4</td>\n",
       "      <td>68+4</td>\n",
       "      <td>65+4</td>\n",
       "      <td>59+4</td>\n",
       "      <td>59+4</td>\n",
       "      <td>59+4</td>\n",
       "      <td>65+4</td>\n",
       "      <td>1</td>\n",
       "    </tr>\n",
       "    <tr>\n",
       "      <th>5</th>\n",
       "      <td>188545</td>\n",
       "      <td>https://sofifa.com/player/188545/robert-lewand...</td>\n",
       "      <td>R. Lewandowski</td>\n",
       "      <td>Robert Lewandowski</td>\n",
       "      <td>28</td>\n",
       "      <td>1988-08-21</td>\n",
       "      <td>185</td>\n",
       "      <td>79</td>\n",
       "      <td>Poland</td>\n",
       "      <td>FC Bayern München</td>\n",
       "      <td>...</td>\n",
       "      <td>63+3</td>\n",
       "      <td>63+3</td>\n",
       "      <td>63+3</td>\n",
       "      <td>62+3</td>\n",
       "      <td>59+3</td>\n",
       "      <td>57+3</td>\n",
       "      <td>57+3</td>\n",
       "      <td>57+3</td>\n",
       "      <td>59+3</td>\n",
       "      <td>1</td>\n",
       "    </tr>\n",
       "  </tbody>\n",
       "</table>\n",
       "<p>5 rows × 105 columns</p>\n",
       "</div>"
      ],
      "text/plain": [
       "   sofifa_id                                         player_url  \\\n",
       "0      20801  https://sofifa.com/player/20801/c-ronaldo-dos-...   \n",
       "1     158023  https://sofifa.com/player/158023/lionel-messi/...   \n",
       "2     190871  https://sofifa.com/player/190871/neymar-da-sil...   \n",
       "4     176580  https://sofifa.com/player/176580/luis-suarez/1...   \n",
       "5     188545  https://sofifa.com/player/188545/robert-lewand...   \n",
       "\n",
       "          short_name                            long_name  age         dob  \\\n",
       "0  Cristiano Ronaldo  Cristiano Ronaldo dos Santos Aveiro   32  1985-02-05   \n",
       "1           L. Messi       Lionel Andrés Messi Cuccittini   30  1987-06-24   \n",
       "2             Neymar        Neymar da Silva Santos Junior   25  1992-02-05   \n",
       "4          L. Suárez             Luis Alberto Suárez Díaz   30  1987-01-24   \n",
       "5     R. Lewandowski                   Robert Lewandowski   28  1988-08-21   \n",
       "\n",
       "   height_cm  weight_kg nationality                 club  ...   ldm   cdm  \\\n",
       "0        185         80    Portugal          Real Madrid  ...  62+3  62+3   \n",
       "1        170         72   Argentina         FC Barcelona  ...  59+3  59+3   \n",
       "2        175         68      Brazil  Paris Saint-Germain  ...  59+3  59+3   \n",
       "4        182         86     Uruguay         FC Barcelona  ...  66+4  66+4   \n",
       "5        185         79      Poland    FC Bayern München  ...  63+3  63+3   \n",
       "\n",
       "    rdm   rwb    lb   lcb    cb   rcb    rb 73_overall_or_above  \n",
       "0  62+3  66+3  62+3  53+3  53+3  53+3  62+3                   1  \n",
       "1  59+3  62+3  58+3  46+3  46+3  46+3  58+3                   1  \n",
       "2  59+3  64+3  60+3  47+3  47+3  47+3  60+3                   1  \n",
       "4  66+4  68+4  65+4  59+4  59+4  59+4  65+4                   1  \n",
       "5  63+3  62+3  59+3  57+3  57+3  57+3  59+3                   1  \n",
       "\n",
       "[5 rows x 105 columns]"
      ]
     },
     "execution_count": 448,
     "metadata": {},
     "output_type": "execute_result"
    }
   ],
   "source": [
    "fifa_18_4el['73_overall_or_above'] = np.where(fifa_18_4el['overall']>=73, 1, 0)\n",
    "fifa_18_4el.head()"
   ]
  },
  {
   "cell_type": "code",
   "execution_count": 449,
   "metadata": {},
   "outputs": [
    {
     "name": "stderr",
     "output_type": "stream",
     "text": [
      "<ipython-input-449-90e2bd91c69f>:1: SettingWithCopyWarning: \n",
      "A value is trying to be set on a copy of a slice from a DataFrame.\n",
      "Try using .loc[row_indexer,col_indexer] = value instead\n",
      "\n",
      "See the caveats in the documentation: https://pandas.pydata.org/pandas-docs/stable/user_guide/indexing.html#returning-a-view-versus-a-copy\n",
      "  fifa_19_epl['73_overall_or_above'] = np.where(fifa_19_epl['overall']>=73, 1, 0)\n"
     ]
    },
    {
     "data": {
      "text/html": [
       "<div>\n",
       "<style scoped>\n",
       "    .dataframe tbody tr th:only-of-type {\n",
       "        vertical-align: middle;\n",
       "    }\n",
       "\n",
       "    .dataframe tbody tr th {\n",
       "        vertical-align: top;\n",
       "    }\n",
       "\n",
       "    .dataframe thead th {\n",
       "        text-align: right;\n",
       "    }\n",
       "</style>\n",
       "<table border=\"1\" class=\"dataframe\">\n",
       "  <thead>\n",
       "    <tr style=\"text-align: right;\">\n",
       "      <th></th>\n",
       "      <th>sofifa_id</th>\n",
       "      <th>player_url</th>\n",
       "      <th>short_name</th>\n",
       "      <th>long_name</th>\n",
       "      <th>age</th>\n",
       "      <th>dob</th>\n",
       "      <th>height_cm</th>\n",
       "      <th>weight_kg</th>\n",
       "      <th>nationality</th>\n",
       "      <th>club</th>\n",
       "      <th>...</th>\n",
       "      <th>ldm</th>\n",
       "      <th>cdm</th>\n",
       "      <th>rdm</th>\n",
       "      <th>rwb</th>\n",
       "      <th>lb</th>\n",
       "      <th>lcb</th>\n",
       "      <th>cb</th>\n",
       "      <th>rcb</th>\n",
       "      <th>rb</th>\n",
       "      <th>73_overall_or_above</th>\n",
       "    </tr>\n",
       "  </thead>\n",
       "  <tbody>\n",
       "    <tr>\n",
       "      <th>4</th>\n",
       "      <td>192985</td>\n",
       "      <td>https://sofifa.com/player/192985/kevin-de-bruy...</td>\n",
       "      <td>K. De Bruyne</td>\n",
       "      <td>Kevin De Bruyne</td>\n",
       "      <td>27</td>\n",
       "      <td>1991-06-28</td>\n",
       "      <td>181</td>\n",
       "      <td>70</td>\n",
       "      <td>Belgium</td>\n",
       "      <td>Manchester City</td>\n",
       "      <td>...</td>\n",
       "      <td>77+3</td>\n",
       "      <td>77+3</td>\n",
       "      <td>77+3</td>\n",
       "      <td>77+3</td>\n",
       "      <td>73+3</td>\n",
       "      <td>66+3</td>\n",
       "      <td>66+3</td>\n",
       "      <td>66+3</td>\n",
       "      <td>73+3</td>\n",
       "      <td>1</td>\n",
       "    </tr>\n",
       "    <tr>\n",
       "      <th>8</th>\n",
       "      <td>183277</td>\n",
       "      <td>https://sofifa.com/player/183277/eden-hazard/1...</td>\n",
       "      <td>E. Hazard</td>\n",
       "      <td>Eden Hazard</td>\n",
       "      <td>27</td>\n",
       "      <td>1991-01-07</td>\n",
       "      <td>173</td>\n",
       "      <td>74</td>\n",
       "      <td>Belgium</td>\n",
       "      <td>Chelsea</td>\n",
       "      <td>...</td>\n",
       "      <td>63+3</td>\n",
       "      <td>63+3</td>\n",
       "      <td>63+3</td>\n",
       "      <td>66+3</td>\n",
       "      <td>60+3</td>\n",
       "      <td>49+3</td>\n",
       "      <td>49+3</td>\n",
       "      <td>49+3</td>\n",
       "      <td>60+3</td>\n",
       "      <td>1</td>\n",
       "    </tr>\n",
       "    <tr>\n",
       "      <th>18</th>\n",
       "      <td>202126</td>\n",
       "      <td>https://sofifa.com/player/202126/harry-kane/19...</td>\n",
       "      <td>H. Kane</td>\n",
       "      <td>Harry Kane</td>\n",
       "      <td>24</td>\n",
       "      <td>1993-07-28</td>\n",
       "      <td>188</td>\n",
       "      <td>89</td>\n",
       "      <td>England</td>\n",
       "      <td>Tottenham Hotspur</td>\n",
       "      <td>...</td>\n",
       "      <td>66+3</td>\n",
       "      <td>66+3</td>\n",
       "      <td>66+3</td>\n",
       "      <td>65+3</td>\n",
       "      <td>62+3</td>\n",
       "      <td>60+3</td>\n",
       "      <td>60+3</td>\n",
       "      <td>60+3</td>\n",
       "      <td>62+3</td>\n",
       "      <td>1</td>\n",
       "    </tr>\n",
       "    <tr>\n",
       "      <th>20</th>\n",
       "      <td>215914</td>\n",
       "      <td>https://sofifa.com/player/215914/ngolo-kante/1...</td>\n",
       "      <td>N. Kanté</td>\n",
       "      <td>N'Golo Kanté</td>\n",
       "      <td>27</td>\n",
       "      <td>1991-03-29</td>\n",
       "      <td>168</td>\n",
       "      <td>68</td>\n",
       "      <td>France</td>\n",
       "      <td>Chelsea</td>\n",
       "      <td>...</td>\n",
       "      <td>87+3</td>\n",
       "      <td>87+3</td>\n",
       "      <td>87+3</td>\n",
       "      <td>85+3</td>\n",
       "      <td>84+3</td>\n",
       "      <td>83+3</td>\n",
       "      <td>83+3</td>\n",
       "      <td>83+3</td>\n",
       "      <td>84+3</td>\n",
       "      <td>1</td>\n",
       "    </tr>\n",
       "    <tr>\n",
       "      <th>22</th>\n",
       "      <td>153079</td>\n",
       "      <td>https://sofifa.com/player/153079/sergio-aguero...</td>\n",
       "      <td>S. Agüero</td>\n",
       "      <td>Sergio Leonel Agüero del Castillo</td>\n",
       "      <td>30</td>\n",
       "      <td>1988-06-02</td>\n",
       "      <td>173</td>\n",
       "      <td>70</td>\n",
       "      <td>Argentina</td>\n",
       "      <td>Manchester City</td>\n",
       "      <td>...</td>\n",
       "      <td>55+3</td>\n",
       "      <td>55+3</td>\n",
       "      <td>55+3</td>\n",
       "      <td>58+3</td>\n",
       "      <td>53+3</td>\n",
       "      <td>47+3</td>\n",
       "      <td>47+3</td>\n",
       "      <td>47+3</td>\n",
       "      <td>53+3</td>\n",
       "      <td>1</td>\n",
       "    </tr>\n",
       "  </tbody>\n",
       "</table>\n",
       "<p>5 rows × 105 columns</p>\n",
       "</div>"
      ],
      "text/plain": [
       "    sofifa_id                                         player_url  \\\n",
       "4      192985  https://sofifa.com/player/192985/kevin-de-bruy...   \n",
       "8      183277  https://sofifa.com/player/183277/eden-hazard/1...   \n",
       "18     202126  https://sofifa.com/player/202126/harry-kane/19...   \n",
       "20     215914  https://sofifa.com/player/215914/ngolo-kante/1...   \n",
       "22     153079  https://sofifa.com/player/153079/sergio-aguero...   \n",
       "\n",
       "      short_name                          long_name  age         dob  \\\n",
       "4   K. De Bruyne                    Kevin De Bruyne   27  1991-06-28   \n",
       "8      E. Hazard                        Eden Hazard   27  1991-01-07   \n",
       "18       H. Kane                         Harry Kane   24  1993-07-28   \n",
       "20      N. Kanté                       N'Golo Kanté   27  1991-03-29   \n",
       "22     S. Agüero  Sergio Leonel Agüero del Castillo   30  1988-06-02   \n",
       "\n",
       "    height_cm  weight_kg nationality               club  ...   ldm   cdm  \\\n",
       "4         181         70     Belgium    Manchester City  ...  77+3  77+3   \n",
       "8         173         74     Belgium            Chelsea  ...  63+3  63+3   \n",
       "18        188         89     England  Tottenham Hotspur  ...  66+3  66+3   \n",
       "20        168         68      France            Chelsea  ...  87+3  87+3   \n",
       "22        173         70   Argentina    Manchester City  ...  55+3  55+3   \n",
       "\n",
       "     rdm   rwb    lb   lcb    cb   rcb    rb 73_overall_or_above  \n",
       "4   77+3  77+3  73+3  66+3  66+3  66+3  73+3                   1  \n",
       "8   63+3  66+3  60+3  49+3  49+3  49+3  60+3                   1  \n",
       "18  66+3  65+3  62+3  60+3  60+3  60+3  62+3                   1  \n",
       "20  87+3  85+3  84+3  83+3  83+3  83+3  84+3                   1  \n",
       "22  55+3  58+3  53+3  47+3  47+3  47+3  53+3                   1  \n",
       "\n",
       "[5 rows x 105 columns]"
      ]
     },
     "execution_count": 449,
     "metadata": {},
     "output_type": "execute_result"
    }
   ],
   "source": [
    "fifa_19_epl['73_overall_or_above'] = np.where(fifa_19_epl['overall']>=73, 1, 0)\n",
    "fifa_19_epl.head()"
   ]
  },
  {
   "cell_type": "code",
   "execution_count": 450,
   "metadata": {},
   "outputs": [
    {
     "name": "stderr",
     "output_type": "stream",
     "text": [
      "<ipython-input-450-4703fc7c6f60>:1: SettingWithCopyWarning: \n",
      "A value is trying to be set on a copy of a slice from a DataFrame.\n",
      "Try using .loc[row_indexer,col_indexer] = value instead\n",
      "\n",
      "See the caveats in the documentation: https://pandas.pydata.org/pandas-docs/stable/user_guide/indexing.html#returning-a-view-versus-a-copy\n",
      "  fifa_19_4el['73_overall_or_above'] = np.where(fifa_19_4el['overall']>=73, 1, 0)\n"
     ]
    },
    {
     "data": {
      "text/html": [
       "<div>\n",
       "<style scoped>\n",
       "    .dataframe tbody tr th:only-of-type {\n",
       "        vertical-align: middle;\n",
       "    }\n",
       "\n",
       "    .dataframe tbody tr th {\n",
       "        vertical-align: top;\n",
       "    }\n",
       "\n",
       "    .dataframe thead th {\n",
       "        text-align: right;\n",
       "    }\n",
       "</style>\n",
       "<table border=\"1\" class=\"dataframe\">\n",
       "  <thead>\n",
       "    <tr style=\"text-align: right;\">\n",
       "      <th></th>\n",
       "      <th>sofifa_id</th>\n",
       "      <th>player_url</th>\n",
       "      <th>short_name</th>\n",
       "      <th>long_name</th>\n",
       "      <th>age</th>\n",
       "      <th>dob</th>\n",
       "      <th>height_cm</th>\n",
       "      <th>weight_kg</th>\n",
       "      <th>nationality</th>\n",
       "      <th>club</th>\n",
       "      <th>...</th>\n",
       "      <th>ldm</th>\n",
       "      <th>cdm</th>\n",
       "      <th>rdm</th>\n",
       "      <th>rwb</th>\n",
       "      <th>lb</th>\n",
       "      <th>lcb</th>\n",
       "      <th>cb</th>\n",
       "      <th>rcb</th>\n",
       "      <th>rb</th>\n",
       "      <th>73_overall_or_above</th>\n",
       "    </tr>\n",
       "  </thead>\n",
       "  <tbody>\n",
       "    <tr>\n",
       "      <th>0</th>\n",
       "      <td>20801</td>\n",
       "      <td>https://sofifa.com/player/20801/c-ronaldo-dos-...</td>\n",
       "      <td>Cristiano Ronaldo</td>\n",
       "      <td>Cristiano Ronaldo dos Santos Aveiro</td>\n",
       "      <td>33</td>\n",
       "      <td>1985-02-05</td>\n",
       "      <td>187</td>\n",
       "      <td>83</td>\n",
       "      <td>Portugal</td>\n",
       "      <td>Juventus</td>\n",
       "      <td>...</td>\n",
       "      <td>61+3</td>\n",
       "      <td>61+3</td>\n",
       "      <td>61+3</td>\n",
       "      <td>65+3</td>\n",
       "      <td>61+3</td>\n",
       "      <td>53+3</td>\n",
       "      <td>53+3</td>\n",
       "      <td>53+3</td>\n",
       "      <td>61+3</td>\n",
       "      <td>1</td>\n",
       "    </tr>\n",
       "    <tr>\n",
       "      <th>1</th>\n",
       "      <td>158023</td>\n",
       "      <td>https://sofifa.com/player/158023/lionel-messi/...</td>\n",
       "      <td>L. Messi</td>\n",
       "      <td>Lionel Andrés Messi Cuccittini</td>\n",
       "      <td>31</td>\n",
       "      <td>1987-06-24</td>\n",
       "      <td>170</td>\n",
       "      <td>72</td>\n",
       "      <td>Argentina</td>\n",
       "      <td>FC Barcelona</td>\n",
       "      <td>...</td>\n",
       "      <td>61+2</td>\n",
       "      <td>61+2</td>\n",
       "      <td>61+2</td>\n",
       "      <td>63+2</td>\n",
       "      <td>58+2</td>\n",
       "      <td>47+2</td>\n",
       "      <td>47+2</td>\n",
       "      <td>47+2</td>\n",
       "      <td>58+2</td>\n",
       "      <td>1</td>\n",
       "    </tr>\n",
       "    <tr>\n",
       "      <th>2</th>\n",
       "      <td>190871</td>\n",
       "      <td>https://sofifa.com/player/190871/neymar-da-sil...</td>\n",
       "      <td>Neymar Jr</td>\n",
       "      <td>Neymar da Silva Santos Junior</td>\n",
       "      <td>26</td>\n",
       "      <td>1992-02-05</td>\n",
       "      <td>175</td>\n",
       "      <td>68</td>\n",
       "      <td>Brazil</td>\n",
       "      <td>Paris Saint-Germain</td>\n",
       "      <td>...</td>\n",
       "      <td>60+3</td>\n",
       "      <td>60+3</td>\n",
       "      <td>60+3</td>\n",
       "      <td>65+3</td>\n",
       "      <td>60+3</td>\n",
       "      <td>47+3</td>\n",
       "      <td>47+3</td>\n",
       "      <td>47+3</td>\n",
       "      <td>60+3</td>\n",
       "      <td>1</td>\n",
       "    </tr>\n",
       "    <tr>\n",
       "      <th>5</th>\n",
       "      <td>155862</td>\n",
       "      <td>https://sofifa.com/player/155862/sergio-ramos-...</td>\n",
       "      <td>Sergio Ramos</td>\n",
       "      <td>Sergio Ramos García</td>\n",
       "      <td>32</td>\n",
       "      <td>1986-03-30</td>\n",
       "      <td>184</td>\n",
       "      <td>82</td>\n",
       "      <td>Spain</td>\n",
       "      <td>Real Madrid</td>\n",
       "      <td>...</td>\n",
       "      <td>83+3</td>\n",
       "      <td>83+3</td>\n",
       "      <td>83+3</td>\n",
       "      <td>82+3</td>\n",
       "      <td>84+3</td>\n",
       "      <td>87+3</td>\n",
       "      <td>87+3</td>\n",
       "      <td>87+3</td>\n",
       "      <td>84+3</td>\n",
       "      <td>1</td>\n",
       "    </tr>\n",
       "    <tr>\n",
       "      <th>6</th>\n",
       "      <td>176580</td>\n",
       "      <td>https://sofifa.com/player/176580/luis-suarez/1...</td>\n",
       "      <td>L. Suárez</td>\n",
       "      <td>Luis Alberto Suárez Díaz</td>\n",
       "      <td>31</td>\n",
       "      <td>1987-01-24</td>\n",
       "      <td>182</td>\n",
       "      <td>86</td>\n",
       "      <td>Uruguay</td>\n",
       "      <td>FC Barcelona</td>\n",
       "      <td>...</td>\n",
       "      <td>68+5</td>\n",
       "      <td>68+5</td>\n",
       "      <td>68+5</td>\n",
       "      <td>69+5</td>\n",
       "      <td>66+5</td>\n",
       "      <td>63+5</td>\n",
       "      <td>63+5</td>\n",
       "      <td>63+5</td>\n",
       "      <td>66+5</td>\n",
       "      <td>1</td>\n",
       "    </tr>\n",
       "  </tbody>\n",
       "</table>\n",
       "<p>5 rows × 105 columns</p>\n",
       "</div>"
      ],
      "text/plain": [
       "   sofifa_id                                         player_url  \\\n",
       "0      20801  https://sofifa.com/player/20801/c-ronaldo-dos-...   \n",
       "1     158023  https://sofifa.com/player/158023/lionel-messi/...   \n",
       "2     190871  https://sofifa.com/player/190871/neymar-da-sil...   \n",
       "5     155862  https://sofifa.com/player/155862/sergio-ramos-...   \n",
       "6     176580  https://sofifa.com/player/176580/luis-suarez/1...   \n",
       "\n",
       "          short_name                            long_name  age         dob  \\\n",
       "0  Cristiano Ronaldo  Cristiano Ronaldo dos Santos Aveiro   33  1985-02-05   \n",
       "1           L. Messi       Lionel Andrés Messi Cuccittini   31  1987-06-24   \n",
       "2          Neymar Jr        Neymar da Silva Santos Junior   26  1992-02-05   \n",
       "5       Sergio Ramos                  Sergio Ramos García   32  1986-03-30   \n",
       "6          L. Suárez             Luis Alberto Suárez Díaz   31  1987-01-24   \n",
       "\n",
       "   height_cm  weight_kg nationality                 club  ...   ldm   cdm  \\\n",
       "0        187         83    Portugal             Juventus  ...  61+3  61+3   \n",
       "1        170         72   Argentina         FC Barcelona  ...  61+2  61+2   \n",
       "2        175         68      Brazil  Paris Saint-Germain  ...  60+3  60+3   \n",
       "5        184         82       Spain          Real Madrid  ...  83+3  83+3   \n",
       "6        182         86     Uruguay         FC Barcelona  ...  68+5  68+5   \n",
       "\n",
       "    rdm   rwb    lb   lcb    cb   rcb    rb 73_overall_or_above  \n",
       "0  61+3  65+3  61+3  53+3  53+3  53+3  61+3                   1  \n",
       "1  61+2  63+2  58+2  47+2  47+2  47+2  58+2                   1  \n",
       "2  60+3  65+3  60+3  47+3  47+3  47+3  60+3                   1  \n",
       "5  83+3  82+3  84+3  87+3  87+3  87+3  84+3                   1  \n",
       "6  68+5  69+5  66+5  63+5  63+5  63+5  66+5                   1  \n",
       "\n",
       "[5 rows x 105 columns]"
      ]
     },
     "execution_count": 450,
     "metadata": {},
     "output_type": "execute_result"
    }
   ],
   "source": [
    "fifa_19_4el['73_overall_or_above'] = np.where(fifa_19_4el['overall']>=73, 1, 0)\n",
    "fifa_19_4el.head()"
   ]
  },
  {
   "cell_type": "code",
   "execution_count": 451,
   "metadata": {},
   "outputs": [
    {
     "name": "stderr",
     "output_type": "stream",
     "text": [
      "<ipython-input-451-2f03b2213fd1>:1: SettingWithCopyWarning: \n",
      "A value is trying to be set on a copy of a slice from a DataFrame.\n",
      "Try using .loc[row_indexer,col_indexer] = value instead\n",
      "\n",
      "See the caveats in the documentation: https://pandas.pydata.org/pandas-docs/stable/user_guide/indexing.html#returning-a-view-versus-a-copy\n",
      "  fifa_20_epl['73_overall_or_above'] = np.where(fifa_20_epl['overall']>=73, 1, 0)\n"
     ]
    },
    {
     "data": {
      "text/html": [
       "<div>\n",
       "<style scoped>\n",
       "    .dataframe tbody tr th:only-of-type {\n",
       "        vertical-align: middle;\n",
       "    }\n",
       "\n",
       "    .dataframe tbody tr th {\n",
       "        vertical-align: top;\n",
       "    }\n",
       "\n",
       "    .dataframe thead th {\n",
       "        text-align: right;\n",
       "    }\n",
       "</style>\n",
       "<table border=\"1\" class=\"dataframe\">\n",
       "  <thead>\n",
       "    <tr style=\"text-align: right;\">\n",
       "      <th></th>\n",
       "      <th>sofifa_id</th>\n",
       "      <th>player_url</th>\n",
       "      <th>short_name</th>\n",
       "      <th>long_name</th>\n",
       "      <th>age</th>\n",
       "      <th>dob</th>\n",
       "      <th>height_cm</th>\n",
       "      <th>weight_kg</th>\n",
       "      <th>nationality</th>\n",
       "      <th>club</th>\n",
       "      <th>...</th>\n",
       "      <th>ldm</th>\n",
       "      <th>cdm</th>\n",
       "      <th>rdm</th>\n",
       "      <th>rwb</th>\n",
       "      <th>lb</th>\n",
       "      <th>lcb</th>\n",
       "      <th>cb</th>\n",
       "      <th>rcb</th>\n",
       "      <th>rb</th>\n",
       "      <th>73_overall_or_above</th>\n",
       "    </tr>\n",
       "  </thead>\n",
       "  <tbody>\n",
       "    <tr>\n",
       "      <th>5</th>\n",
       "      <td>192985</td>\n",
       "      <td>https://sofifa.com/player/192985/kevin-de-bruy...</td>\n",
       "      <td>K. De Bruyne</td>\n",
       "      <td>Kevin De Bruyne</td>\n",
       "      <td>28</td>\n",
       "      <td>1991-06-28</td>\n",
       "      <td>181</td>\n",
       "      <td>70</td>\n",
       "      <td>Belgium</td>\n",
       "      <td>Manchester City</td>\n",
       "      <td>...</td>\n",
       "      <td>77+3</td>\n",
       "      <td>77+3</td>\n",
       "      <td>77+3</td>\n",
       "      <td>77+3</td>\n",
       "      <td>73+3</td>\n",
       "      <td>66+3</td>\n",
       "      <td>66+3</td>\n",
       "      <td>66+3</td>\n",
       "      <td>73+3</td>\n",
       "      <td>1</td>\n",
       "    </tr>\n",
       "    <tr>\n",
       "      <th>7</th>\n",
       "      <td>203376</td>\n",
       "      <td>https://sofifa.com/player/203376/virgil-van-di...</td>\n",
       "      <td>V. van Dijk</td>\n",
       "      <td>Virgil van Dijk</td>\n",
       "      <td>27</td>\n",
       "      <td>1991-07-08</td>\n",
       "      <td>193</td>\n",
       "      <td>92</td>\n",
       "      <td>Netherlands</td>\n",
       "      <td>Liverpool</td>\n",
       "      <td>...</td>\n",
       "      <td>83+3</td>\n",
       "      <td>83+3</td>\n",
       "      <td>83+3</td>\n",
       "      <td>79+3</td>\n",
       "      <td>81+3</td>\n",
       "      <td>87+3</td>\n",
       "      <td>87+3</td>\n",
       "      <td>87+3</td>\n",
       "      <td>81+3</td>\n",
       "      <td>1</td>\n",
       "    </tr>\n",
       "    <tr>\n",
       "      <th>9</th>\n",
       "      <td>209331</td>\n",
       "      <td>https://sofifa.com/player/209331/mohamed-salah...</td>\n",
       "      <td>M. Salah</td>\n",
       "      <td>Mohamed  Salah Ghaly</td>\n",
       "      <td>27</td>\n",
       "      <td>1992-06-15</td>\n",
       "      <td>175</td>\n",
       "      <td>71</td>\n",
       "      <td>Egypt</td>\n",
       "      <td>Liverpool</td>\n",
       "      <td>...</td>\n",
       "      <td>67+3</td>\n",
       "      <td>67+3</td>\n",
       "      <td>67+3</td>\n",
       "      <td>70+3</td>\n",
       "      <td>66+3</td>\n",
       "      <td>57+3</td>\n",
       "      <td>57+3</td>\n",
       "      <td>57+3</td>\n",
       "      <td>66+3</td>\n",
       "      <td>1</td>\n",
       "    </tr>\n",
       "    <tr>\n",
       "      <th>12</th>\n",
       "      <td>202126</td>\n",
       "      <td>https://sofifa.com/player/202126/harry-kane/20...</td>\n",
       "      <td>H. Kane</td>\n",
       "      <td>Harry Kane</td>\n",
       "      <td>25</td>\n",
       "      <td>1993-07-28</td>\n",
       "      <td>188</td>\n",
       "      <td>89</td>\n",
       "      <td>England</td>\n",
       "      <td>Tottenham Hotspur</td>\n",
       "      <td>...</td>\n",
       "      <td>66+3</td>\n",
       "      <td>66+3</td>\n",
       "      <td>66+3</td>\n",
       "      <td>65+3</td>\n",
       "      <td>62+3</td>\n",
       "      <td>60+3</td>\n",
       "      <td>60+3</td>\n",
       "      <td>60+3</td>\n",
       "      <td>62+3</td>\n",
       "      <td>1</td>\n",
       "    </tr>\n",
       "    <tr>\n",
       "      <th>15</th>\n",
       "      <td>215914</td>\n",
       "      <td>https://sofifa.com/player/215914/ngolo-kante/2...</td>\n",
       "      <td>N. Kanté</td>\n",
       "      <td>N'Golo Kanté</td>\n",
       "      <td>28</td>\n",
       "      <td>1991-03-29</td>\n",
       "      <td>168</td>\n",
       "      <td>72</td>\n",
       "      <td>France</td>\n",
       "      <td>Chelsea</td>\n",
       "      <td>...</td>\n",
       "      <td>87+3</td>\n",
       "      <td>87+3</td>\n",
       "      <td>87+3</td>\n",
       "      <td>85+3</td>\n",
       "      <td>84+3</td>\n",
       "      <td>83+3</td>\n",
       "      <td>83+3</td>\n",
       "      <td>83+3</td>\n",
       "      <td>84+3</td>\n",
       "      <td>1</td>\n",
       "    </tr>\n",
       "  </tbody>\n",
       "</table>\n",
       "<p>5 rows × 105 columns</p>\n",
       "</div>"
      ],
      "text/plain": [
       "    sofifa_id                                         player_url  \\\n",
       "5      192985  https://sofifa.com/player/192985/kevin-de-bruy...   \n",
       "7      203376  https://sofifa.com/player/203376/virgil-van-di...   \n",
       "9      209331  https://sofifa.com/player/209331/mohamed-salah...   \n",
       "12     202126  https://sofifa.com/player/202126/harry-kane/20...   \n",
       "15     215914  https://sofifa.com/player/215914/ngolo-kante/2...   \n",
       "\n",
       "      short_name             long_name  age         dob  height_cm  weight_kg  \\\n",
       "5   K. De Bruyne       Kevin De Bruyne   28  1991-06-28        181         70   \n",
       "7    V. van Dijk       Virgil van Dijk   27  1991-07-08        193         92   \n",
       "9       M. Salah  Mohamed  Salah Ghaly   27  1992-06-15        175         71   \n",
       "12       H. Kane            Harry Kane   25  1993-07-28        188         89   \n",
       "15      N. Kanté          N'Golo Kanté   28  1991-03-29        168         72   \n",
       "\n",
       "    nationality               club  ...   ldm   cdm   rdm   rwb    lb   lcb  \\\n",
       "5       Belgium    Manchester City  ...  77+3  77+3  77+3  77+3  73+3  66+3   \n",
       "7   Netherlands          Liverpool  ...  83+3  83+3  83+3  79+3  81+3  87+3   \n",
       "9         Egypt          Liverpool  ...  67+3  67+3  67+3  70+3  66+3  57+3   \n",
       "12      England  Tottenham Hotspur  ...  66+3  66+3  66+3  65+3  62+3  60+3   \n",
       "15       France            Chelsea  ...  87+3  87+3  87+3  85+3  84+3  83+3   \n",
       "\n",
       "      cb   rcb    rb 73_overall_or_above  \n",
       "5   66+3  66+3  73+3                   1  \n",
       "7   87+3  87+3  81+3                   1  \n",
       "9   57+3  57+3  66+3                   1  \n",
       "12  60+3  60+3  62+3                   1  \n",
       "15  83+3  83+3  84+3                   1  \n",
       "\n",
       "[5 rows x 105 columns]"
      ]
     },
     "execution_count": 451,
     "metadata": {},
     "output_type": "execute_result"
    }
   ],
   "source": [
    "fifa_20_epl['73_overall_or_above'] = np.where(fifa_20_epl['overall']>=73, 1, 0)\n",
    "fifa_20_epl.head()"
   ]
  },
  {
   "cell_type": "code",
   "execution_count": 585,
   "metadata": {},
   "outputs": [
    {
     "name": "stderr",
     "output_type": "stream",
     "text": [
      "<ipython-input-585-2f99ce9ad34d>:1: SettingWithCopyWarning: \n",
      "A value is trying to be set on a copy of a slice from a DataFrame.\n",
      "Try using .loc[row_indexer,col_indexer] = value instead\n",
      "\n",
      "See the caveats in the documentation: https://pandas.pydata.org/pandas-docs/stable/user_guide/indexing.html#returning-a-view-versus-a-copy\n",
      "  fifa_20_4el['73_overall_or_above'] = np.where(fifa_20_4el['overall']>=73, 1, 0)\n"
     ]
    },
    {
     "data": {
      "text/html": [
       "<div>\n",
       "<style scoped>\n",
       "    .dataframe tbody tr th:only-of-type {\n",
       "        vertical-align: middle;\n",
       "    }\n",
       "\n",
       "    .dataframe tbody tr th {\n",
       "        vertical-align: top;\n",
       "    }\n",
       "\n",
       "    .dataframe thead th {\n",
       "        text-align: right;\n",
       "    }\n",
       "</style>\n",
       "<table border=\"1\" class=\"dataframe\">\n",
       "  <thead>\n",
       "    <tr style=\"text-align: right;\">\n",
       "      <th></th>\n",
       "      <th>sofifa_id</th>\n",
       "      <th>player_url</th>\n",
       "      <th>short_name</th>\n",
       "      <th>long_name</th>\n",
       "      <th>age</th>\n",
       "      <th>dob</th>\n",
       "      <th>height_cm</th>\n",
       "      <th>weight_kg</th>\n",
       "      <th>nationality</th>\n",
       "      <th>club</th>\n",
       "      <th>...</th>\n",
       "      <th>ldm</th>\n",
       "      <th>cdm</th>\n",
       "      <th>rdm</th>\n",
       "      <th>rwb</th>\n",
       "      <th>lb</th>\n",
       "      <th>lcb</th>\n",
       "      <th>cb</th>\n",
       "      <th>rcb</th>\n",
       "      <th>rb</th>\n",
       "      <th>73_overall_or_above</th>\n",
       "    </tr>\n",
       "  </thead>\n",
       "  <tbody>\n",
       "    <tr>\n",
       "      <th>0</th>\n",
       "      <td>158023</td>\n",
       "      <td>https://sofifa.com/player/158023/lionel-messi/...</td>\n",
       "      <td>L. Messi</td>\n",
       "      <td>Lionel Andrés Messi Cuccittini</td>\n",
       "      <td>32</td>\n",
       "      <td>1987-06-24</td>\n",
       "      <td>170</td>\n",
       "      <td>72</td>\n",
       "      <td>Argentina</td>\n",
       "      <td>FC Barcelona</td>\n",
       "      <td>...</td>\n",
       "      <td>66+2</td>\n",
       "      <td>66+2</td>\n",
       "      <td>66+2</td>\n",
       "      <td>68+2</td>\n",
       "      <td>63+2</td>\n",
       "      <td>52+2</td>\n",
       "      <td>52+2</td>\n",
       "      <td>52+2</td>\n",
       "      <td>63+2</td>\n",
       "      <td>1</td>\n",
       "    </tr>\n",
       "    <tr>\n",
       "      <th>1</th>\n",
       "      <td>20801</td>\n",
       "      <td>https://sofifa.com/player/20801/c-ronaldo-dos-...</td>\n",
       "      <td>Cristiano Ronaldo</td>\n",
       "      <td>Cristiano Ronaldo dos Santos Aveiro</td>\n",
       "      <td>34</td>\n",
       "      <td>1985-02-05</td>\n",
       "      <td>187</td>\n",
       "      <td>83</td>\n",
       "      <td>Portugal</td>\n",
       "      <td>Juventus</td>\n",
       "      <td>...</td>\n",
       "      <td>61+3</td>\n",
       "      <td>61+3</td>\n",
       "      <td>61+3</td>\n",
       "      <td>65+3</td>\n",
       "      <td>61+3</td>\n",
       "      <td>53+3</td>\n",
       "      <td>53+3</td>\n",
       "      <td>53+3</td>\n",
       "      <td>61+3</td>\n",
       "      <td>1</td>\n",
       "    </tr>\n",
       "    <tr>\n",
       "      <th>2</th>\n",
       "      <td>190871</td>\n",
       "      <td>https://sofifa.com/player/190871/neymar-da-sil...</td>\n",
       "      <td>Neymar Jr</td>\n",
       "      <td>Neymar da Silva Santos Junior</td>\n",
       "      <td>27</td>\n",
       "      <td>1992-02-05</td>\n",
       "      <td>175</td>\n",
       "      <td>68</td>\n",
       "      <td>Brazil</td>\n",
       "      <td>Paris Saint-Germain</td>\n",
       "      <td>...</td>\n",
       "      <td>61+3</td>\n",
       "      <td>61+3</td>\n",
       "      <td>61+3</td>\n",
       "      <td>66+3</td>\n",
       "      <td>61+3</td>\n",
       "      <td>46+3</td>\n",
       "      <td>46+3</td>\n",
       "      <td>46+3</td>\n",
       "      <td>61+3</td>\n",
       "      <td>1</td>\n",
       "    </tr>\n",
       "    <tr>\n",
       "      <th>4</th>\n",
       "      <td>183277</td>\n",
       "      <td>https://sofifa.com/player/183277/eden-hazard/2...</td>\n",
       "      <td>E. Hazard</td>\n",
       "      <td>Eden Hazard</td>\n",
       "      <td>28</td>\n",
       "      <td>1991-01-07</td>\n",
       "      <td>175</td>\n",
       "      <td>74</td>\n",
       "      <td>Belgium</td>\n",
       "      <td>Real Madrid</td>\n",
       "      <td>...</td>\n",
       "      <td>63+3</td>\n",
       "      <td>63+3</td>\n",
       "      <td>63+3</td>\n",
       "      <td>66+3</td>\n",
       "      <td>61+3</td>\n",
       "      <td>49+3</td>\n",
       "      <td>49+3</td>\n",
       "      <td>49+3</td>\n",
       "      <td>61+3</td>\n",
       "      <td>1</td>\n",
       "    </tr>\n",
       "    <tr>\n",
       "      <th>8</th>\n",
       "      <td>177003</td>\n",
       "      <td>https://sofifa.com/player/177003/luka-modric/2...</td>\n",
       "      <td>L. Modrić</td>\n",
       "      <td>Luka Modrić</td>\n",
       "      <td>33</td>\n",
       "      <td>1985-09-09</td>\n",
       "      <td>172</td>\n",
       "      <td>66</td>\n",
       "      <td>Croatia</td>\n",
       "      <td>Real Madrid</td>\n",
       "      <td>...</td>\n",
       "      <td>81+3</td>\n",
       "      <td>81+3</td>\n",
       "      <td>81+3</td>\n",
       "      <td>81+3</td>\n",
       "      <td>79+3</td>\n",
       "      <td>72+3</td>\n",
       "      <td>72+3</td>\n",
       "      <td>72+3</td>\n",
       "      <td>79+3</td>\n",
       "      <td>1</td>\n",
       "    </tr>\n",
       "  </tbody>\n",
       "</table>\n",
       "<p>5 rows × 105 columns</p>\n",
       "</div>"
      ],
      "text/plain": [
       "   sofifa_id                                         player_url  \\\n",
       "0     158023  https://sofifa.com/player/158023/lionel-messi/...   \n",
       "1      20801  https://sofifa.com/player/20801/c-ronaldo-dos-...   \n",
       "2     190871  https://sofifa.com/player/190871/neymar-da-sil...   \n",
       "4     183277  https://sofifa.com/player/183277/eden-hazard/2...   \n",
       "8     177003  https://sofifa.com/player/177003/luka-modric/2...   \n",
       "\n",
       "          short_name                            long_name  age         dob  \\\n",
       "0           L. Messi       Lionel Andrés Messi Cuccittini   32  1987-06-24   \n",
       "1  Cristiano Ronaldo  Cristiano Ronaldo dos Santos Aveiro   34  1985-02-05   \n",
       "2          Neymar Jr        Neymar da Silva Santos Junior   27  1992-02-05   \n",
       "4          E. Hazard                          Eden Hazard   28  1991-01-07   \n",
       "8          L. Modrić                          Luka Modrić   33  1985-09-09   \n",
       "\n",
       "   height_cm  weight_kg nationality                 club  ...   ldm   cdm  \\\n",
       "0        170         72   Argentina         FC Barcelona  ...  66+2  66+2   \n",
       "1        187         83    Portugal             Juventus  ...  61+3  61+3   \n",
       "2        175         68      Brazil  Paris Saint-Germain  ...  61+3  61+3   \n",
       "4        175         74     Belgium          Real Madrid  ...  63+3  63+3   \n",
       "8        172         66     Croatia          Real Madrid  ...  81+3  81+3   \n",
       "\n",
       "    rdm   rwb    lb   lcb    cb   rcb    rb 73_overall_or_above  \n",
       "0  66+2  68+2  63+2  52+2  52+2  52+2  63+2                   1  \n",
       "1  61+3  65+3  61+3  53+3  53+3  53+3  61+3                   1  \n",
       "2  61+3  66+3  61+3  46+3  46+3  46+3  61+3                   1  \n",
       "4  63+3  66+3  61+3  49+3  49+3  49+3  61+3                   1  \n",
       "8  81+3  81+3  79+3  72+3  72+3  72+3  79+3                   1  \n",
       "\n",
       "[5 rows x 105 columns]"
      ]
     },
     "execution_count": 585,
     "metadata": {},
     "output_type": "execute_result"
    }
   ],
   "source": [
    "fifa_20_4el['73_overall_or_above'] = np.where(fifa_20_4el['overall']>=73, 1, 0)\n",
    "fifa_20_4el.head()"
   ]
  },
  {
   "cell_type": "markdown",
   "metadata": {},
   "source": [
    "### 1.2 Get the datasets for phase two ready"
   ]
  },
  {
   "cell_type": "code",
   "execution_count": 456,
   "metadata": {},
   "outputs": [],
   "source": [
    "fifa_15_gk = fifa_15[fifa_15['player_positions']=='GK']\n",
    "fifa_16_gk = fifa_16[fifa_16['player_positions']=='GK']\n",
    "fifa_17_gk = fifa_17[fifa_17['player_positions']=='GK']\n",
    "fifa_18_gk = fifa_18[fifa_18['player_positions']=='GK']\n",
    "fifa_19_gk = fifa_19[fifa_19['player_positions']=='GK']\n",
    "fifa_20_gk = fifa_20[fifa_20['player_positions']=='GK']"
   ]
  },
  {
   "cell_type": "code",
   "execution_count": 459,
   "metadata": {},
   "outputs": [],
   "source": [
    "fifa_15_gk_eng = fifa_15_gk[fifa_15_gk['nationality']=='England']\n",
    "fifa_16_gk_eng = fifa_16_gk[fifa_16_gk['nationality']=='England']\n",
    "fifa_17_gk_eng = fifa_17_gk[fifa_17_gk['nationality']=='England']\n",
    "fifa_18_gk_eng = fifa_18_gk[fifa_18_gk['nationality']=='England']\n",
    "fifa_19_gk_eng = fifa_19_gk[fifa_19_gk['nationality']=='England']\n",
    "fifa_20_gk_eng = fifa_20_gk[fifa_20_gk['nationality']=='England']"
   ]
  },
  {
   "cell_type": "code",
   "execution_count": 460,
   "metadata": {},
   "outputs": [],
   "source": [
    "fifa_15_gk_oc = fifa_15_gk[fifa_15_gk['nationality']!='England']\n",
    "fifa_16_gk_oc = fifa_16_gk[fifa_16_gk['nationality']!='England']\n",
    "fifa_17_gk_oc = fifa_17_gk[fifa_17_gk['nationality']!='England']\n",
    "fifa_18_gk_oc = fifa_18_gk[fifa_18_gk['nationality']!='England']\n",
    "fifa_19_gk_oc = fifa_19_gk[fifa_19_gk['nationality']!='England']\n",
    "fifa_20_gk_oc = fifa_20_gk[fifa_20_gk['nationality']!='England']"
   ]
  },
  {
   "cell_type": "code",
   "execution_count": 461,
   "metadata": {},
   "outputs": [],
   "source": [
    "fifa_15_no_gk_eng = fifa_15_no_gk[fifa_15_no_gk['nationality']=='England']\n",
    "fifa_16_no_gk_eng = fifa_16_no_gk[fifa_16_no_gk['nationality']=='England']\n",
    "fifa_17_no_gk_eng = fifa_17_no_gk[fifa_17_no_gk['nationality']=='England']\n",
    "fifa_18_no_gk_eng = fifa_18_no_gk[fifa_18_no_gk['nationality']=='England']\n",
    "fifa_19_no_gk_eng = fifa_19_no_gk[fifa_19_no_gk['nationality']=='England']\n",
    "fifa_20_no_gk_eng = fifa_20_no_gk[fifa_20_no_gk['nationality']=='England']"
   ]
  },
  {
   "cell_type": "code",
   "execution_count": 462,
   "metadata": {},
   "outputs": [],
   "source": [
    "fifa_15_no_gk_oc = fifa_15_no_gk[fifa_15_no_gk['nationality']!='England']\n",
    "fifa_16_no_gk_oc = fifa_16_no_gk[fifa_16_no_gk['nationality']!='England']\n",
    "fifa_17_no_gk_oc = fifa_17_no_gk[fifa_17_no_gk['nationality']!='England']\n",
    "fifa_18_no_gk_oc = fifa_18_no_gk[fifa_18_no_gk['nationality']!='England']\n",
    "fifa_19_no_gk_oc = fifa_19_no_gk[fifa_19_no_gk['nationality']!='England']\n",
    "fifa_20_no_gk_oc = fifa_20_no_gk[fifa_20_no_gk['nationality']!='England']"
   ]
  },
  {
   "cell_type": "markdown",
   "metadata": {},
   "source": [
    "## Part 2 Phase one"
   ]
  },
  {
   "cell_type": "code",
   "execution_count": 463,
   "metadata": {},
   "outputs": [
    {
     "data": {
      "text/html": [
       "<div>\n",
       "<style scoped>\n",
       "    .dataframe tbody tr th:only-of-type {\n",
       "        vertical-align: middle;\n",
       "    }\n",
       "\n",
       "    .dataframe tbody tr th {\n",
       "        vertical-align: top;\n",
       "    }\n",
       "\n",
       "    .dataframe thead th {\n",
       "        text-align: right;\n",
       "    }\n",
       "</style>\n",
       "<table border=\"1\" class=\"dataframe\">\n",
       "  <thead>\n",
       "    <tr style=\"text-align: right;\">\n",
       "      <th></th>\n",
       "      <th>sofifa_id</th>\n",
       "      <th>player_url</th>\n",
       "      <th>short_name</th>\n",
       "      <th>long_name</th>\n",
       "      <th>age</th>\n",
       "      <th>dob</th>\n",
       "      <th>height_cm</th>\n",
       "      <th>weight_kg</th>\n",
       "      <th>nationality</th>\n",
       "      <th>club</th>\n",
       "      <th>...</th>\n",
       "      <th>ldm</th>\n",
       "      <th>cdm</th>\n",
       "      <th>rdm</th>\n",
       "      <th>rwb</th>\n",
       "      <th>lb</th>\n",
       "      <th>lcb</th>\n",
       "      <th>cb</th>\n",
       "      <th>rcb</th>\n",
       "      <th>rb</th>\n",
       "      <th>73_overall_or_above</th>\n",
       "    </tr>\n",
       "  </thead>\n",
       "  <tbody>\n",
       "    <tr>\n",
       "      <th>6</th>\n",
       "      <td>183277</td>\n",
       "      <td>https://sofifa.com/player/183277/eden-hazard/1...</td>\n",
       "      <td>E. Hazard</td>\n",
       "      <td>Eden Hazard</td>\n",
       "      <td>23</td>\n",
       "      <td>1991-01-07</td>\n",
       "      <td>173</td>\n",
       "      <td>74</td>\n",
       "      <td>Belgium</td>\n",
       "      <td>Chelsea</td>\n",
       "      <td>...</td>\n",
       "      <td>64+2</td>\n",
       "      <td>64+2</td>\n",
       "      <td>64+2</td>\n",
       "      <td>62+2</td>\n",
       "      <td>54+2</td>\n",
       "      <td>46+2</td>\n",
       "      <td>46+2</td>\n",
       "      <td>46+2</td>\n",
       "      <td>54+2</td>\n",
       "      <td>1</td>\n",
       "    </tr>\n",
       "    <tr>\n",
       "      <th>7</th>\n",
       "      <td>7826</td>\n",
       "      <td>https://sofifa.com/player/7826/robin-van-persi...</td>\n",
       "      <td>R. van Persie</td>\n",
       "      <td>Robin van Persie</td>\n",
       "      <td>30</td>\n",
       "      <td>1983-08-06</td>\n",
       "      <td>187</td>\n",
       "      <td>71</td>\n",
       "      <td>Netherlands</td>\n",
       "      <td>Manchester United</td>\n",
       "      <td>...</td>\n",
       "      <td>63+3</td>\n",
       "      <td>63+3</td>\n",
       "      <td>63+3</td>\n",
       "      <td>60+3</td>\n",
       "      <td>54+3</td>\n",
       "      <td>48+3</td>\n",
       "      <td>48+3</td>\n",
       "      <td>48+3</td>\n",
       "      <td>54+3</td>\n",
       "      <td>1</td>\n",
       "    </tr>\n",
       "    <tr>\n",
       "      <th>10</th>\n",
       "      <td>167397</td>\n",
       "      <td>https://sofifa.com/player/167397/radamel-falca...</td>\n",
       "      <td>Falcao</td>\n",
       "      <td>Radamel Falcao García Zárate</td>\n",
       "      <td>28</td>\n",
       "      <td>1986-02-10</td>\n",
       "      <td>177</td>\n",
       "      <td>72</td>\n",
       "      <td>Colombia</td>\n",
       "      <td>Manchester United</td>\n",
       "      <td>...</td>\n",
       "      <td>60+2</td>\n",
       "      <td>60+2</td>\n",
       "      <td>60+2</td>\n",
       "      <td>58+2</td>\n",
       "      <td>56+2</td>\n",
       "      <td>55+2</td>\n",
       "      <td>55+2</td>\n",
       "      <td>55+2</td>\n",
       "      <td>56+2</td>\n",
       "      <td>1</td>\n",
       "    </tr>\n",
       "    <tr>\n",
       "      <th>16</th>\n",
       "      <td>168542</td>\n",
       "      <td>https://sofifa.com/player/168542/david-josue-j...</td>\n",
       "      <td>David Silva</td>\n",
       "      <td>David Josué Jiménez Silva</td>\n",
       "      <td>28</td>\n",
       "      <td>1986-01-08</td>\n",
       "      <td>170</td>\n",
       "      <td>67</td>\n",
       "      <td>Spain</td>\n",
       "      <td>Manchester City</td>\n",
       "      <td>...</td>\n",
       "      <td>64+2</td>\n",
       "      <td>64+2</td>\n",
       "      <td>64+2</td>\n",
       "      <td>63+2</td>\n",
       "      <td>54+2</td>\n",
       "      <td>47+2</td>\n",
       "      <td>47+2</td>\n",
       "      <td>47+2</td>\n",
       "      <td>54+2</td>\n",
       "      <td>1</td>\n",
       "    </tr>\n",
       "    <tr>\n",
       "      <th>22</th>\n",
       "      <td>183898</td>\n",
       "      <td>https://sofifa.com/player/183898/angel-di-mari...</td>\n",
       "      <td>A. Di María</td>\n",
       "      <td>Ángel Fabián Di María Hernández</td>\n",
       "      <td>26</td>\n",
       "      <td>1988-02-14</td>\n",
       "      <td>180</td>\n",
       "      <td>70</td>\n",
       "      <td>Argentina</td>\n",
       "      <td>Manchester United</td>\n",
       "      <td>...</td>\n",
       "      <td>73+2</td>\n",
       "      <td>73+2</td>\n",
       "      <td>73+2</td>\n",
       "      <td>75+2</td>\n",
       "      <td>70+2</td>\n",
       "      <td>64+2</td>\n",
       "      <td>64+2</td>\n",
       "      <td>64+2</td>\n",
       "      <td>70+2</td>\n",
       "      <td>1</td>\n",
       "    </tr>\n",
       "  </tbody>\n",
       "</table>\n",
       "<p>5 rows × 105 columns</p>\n",
       "</div>"
      ],
      "text/plain": [
       "    sofifa_id                                         player_url  \\\n",
       "6      183277  https://sofifa.com/player/183277/eden-hazard/1...   \n",
       "7        7826  https://sofifa.com/player/7826/robin-van-persi...   \n",
       "10     167397  https://sofifa.com/player/167397/radamel-falca...   \n",
       "16     168542  https://sofifa.com/player/168542/david-josue-j...   \n",
       "22     183898  https://sofifa.com/player/183898/angel-di-mari...   \n",
       "\n",
       "       short_name                        long_name  age         dob  \\\n",
       "6       E. Hazard                      Eden Hazard   23  1991-01-07   \n",
       "7   R. van Persie                 Robin van Persie   30  1983-08-06   \n",
       "10         Falcao     Radamel Falcao García Zárate   28  1986-02-10   \n",
       "16    David Silva        David Josué Jiménez Silva   28  1986-01-08   \n",
       "22    A. Di María  Ángel Fabián Di María Hernández   26  1988-02-14   \n",
       "\n",
       "    height_cm  weight_kg  nationality               club  ...   ldm   cdm  \\\n",
       "6         173         74      Belgium            Chelsea  ...  64+2  64+2   \n",
       "7         187         71  Netherlands  Manchester United  ...  63+3  63+3   \n",
       "10        177         72     Colombia  Manchester United  ...  60+2  60+2   \n",
       "16        170         67        Spain    Manchester City  ...  64+2  64+2   \n",
       "22        180         70    Argentina  Manchester United  ...  73+2  73+2   \n",
       "\n",
       "     rdm   rwb    lb   lcb    cb   rcb    rb 73_overall_or_above  \n",
       "6   64+2  62+2  54+2  46+2  46+2  46+2  54+2                   1  \n",
       "7   63+3  60+3  54+3  48+3  48+3  48+3  54+3                   1  \n",
       "10  60+2  58+2  56+2  55+2  55+2  55+2  56+2                   1  \n",
       "16  64+2  63+2  54+2  47+2  47+2  47+2  54+2                   1  \n",
       "22  73+2  75+2  70+2  64+2  64+2  64+2  70+2                   1  \n",
       "\n",
       "[5 rows x 105 columns]"
      ]
     },
     "execution_count": 463,
     "metadata": {},
     "output_type": "execute_result"
    }
   ],
   "source": [
    "fifa_15_epl.head()"
   ]
  },
  {
   "cell_type": "code",
   "execution_count": 464,
   "metadata": {},
   "outputs": [
    {
     "data": {
      "text/html": [
       "<div>\n",
       "<style scoped>\n",
       "    .dataframe tbody tr th:only-of-type {\n",
       "        vertical-align: middle;\n",
       "    }\n",
       "\n",
       "    .dataframe tbody tr th {\n",
       "        vertical-align: top;\n",
       "    }\n",
       "\n",
       "    .dataframe thead th {\n",
       "        text-align: right;\n",
       "    }\n",
       "</style>\n",
       "<table border=\"1\" class=\"dataframe\">\n",
       "  <thead>\n",
       "    <tr style=\"text-align: right;\">\n",
       "      <th></th>\n",
       "      <th>sofifa_id</th>\n",
       "      <th>player_url</th>\n",
       "      <th>short_name</th>\n",
       "      <th>long_name</th>\n",
       "      <th>age</th>\n",
       "      <th>dob</th>\n",
       "      <th>height_cm</th>\n",
       "      <th>weight_kg</th>\n",
       "      <th>nationality</th>\n",
       "      <th>club</th>\n",
       "      <th>...</th>\n",
       "      <th>ldm</th>\n",
       "      <th>cdm</th>\n",
       "      <th>rdm</th>\n",
       "      <th>rwb</th>\n",
       "      <th>lb</th>\n",
       "      <th>lcb</th>\n",
       "      <th>cb</th>\n",
       "      <th>rcb</th>\n",
       "      <th>rb</th>\n",
       "      <th>73_overall_or_above</th>\n",
       "    </tr>\n",
       "  </thead>\n",
       "  <tbody>\n",
       "    <tr>\n",
       "      <th>0</th>\n",
       "      <td>158023</td>\n",
       "      <td>https://sofifa.com/player/158023/lionel-messi/...</td>\n",
       "      <td>L. Messi</td>\n",
       "      <td>Lionel Andrés Messi Cuccittini</td>\n",
       "      <td>27</td>\n",
       "      <td>1987-06-24</td>\n",
       "      <td>169</td>\n",
       "      <td>67</td>\n",
       "      <td>Argentina</td>\n",
       "      <td>FC Barcelona</td>\n",
       "      <td>...</td>\n",
       "      <td>62+3</td>\n",
       "      <td>62+3</td>\n",
       "      <td>62+3</td>\n",
       "      <td>62+3</td>\n",
       "      <td>54+3</td>\n",
       "      <td>45+3</td>\n",
       "      <td>45+3</td>\n",
       "      <td>45+3</td>\n",
       "      <td>54+3</td>\n",
       "      <td>1</td>\n",
       "    </tr>\n",
       "    <tr>\n",
       "      <th>1</th>\n",
       "      <td>20801</td>\n",
       "      <td>https://sofifa.com/player/20801/c-ronaldo-dos-...</td>\n",
       "      <td>Cristiano Ronaldo</td>\n",
       "      <td>Cristiano Ronaldo dos Santos Aveiro</td>\n",
       "      <td>29</td>\n",
       "      <td>1985-02-05</td>\n",
       "      <td>185</td>\n",
       "      <td>80</td>\n",
       "      <td>Portugal</td>\n",
       "      <td>Real Madrid</td>\n",
       "      <td>...</td>\n",
       "      <td>63+3</td>\n",
       "      <td>63+3</td>\n",
       "      <td>63+3</td>\n",
       "      <td>63+3</td>\n",
       "      <td>57+3</td>\n",
       "      <td>52+3</td>\n",
       "      <td>52+3</td>\n",
       "      <td>52+3</td>\n",
       "      <td>57+3</td>\n",
       "      <td>1</td>\n",
       "    </tr>\n",
       "    <tr>\n",
       "      <th>2</th>\n",
       "      <td>9014</td>\n",
       "      <td>https://sofifa.com/player/9014/arjen-robben/15...</td>\n",
       "      <td>A. Robben</td>\n",
       "      <td>Arjen Robben</td>\n",
       "      <td>30</td>\n",
       "      <td>1984-01-23</td>\n",
       "      <td>180</td>\n",
       "      <td>80</td>\n",
       "      <td>Netherlands</td>\n",
       "      <td>FC Bayern München</td>\n",
       "      <td>...</td>\n",
       "      <td>64+3</td>\n",
       "      <td>64+3</td>\n",
       "      <td>64+3</td>\n",
       "      <td>64+3</td>\n",
       "      <td>55+3</td>\n",
       "      <td>46+3</td>\n",
       "      <td>46+3</td>\n",
       "      <td>46+3</td>\n",
       "      <td>55+3</td>\n",
       "      <td>1</td>\n",
       "    </tr>\n",
       "    <tr>\n",
       "      <th>3</th>\n",
       "      <td>41236</td>\n",
       "      <td>https://sofifa.com/player/41236/zlatan-ibrahim...</td>\n",
       "      <td>Z. Ibrahimović</td>\n",
       "      <td>Zlatan Ibrahimović</td>\n",
       "      <td>32</td>\n",
       "      <td>1981-10-03</td>\n",
       "      <td>195</td>\n",
       "      <td>95</td>\n",
       "      <td>Sweden</td>\n",
       "      <td>Paris Saint-Germain</td>\n",
       "      <td>...</td>\n",
       "      <td>65+3</td>\n",
       "      <td>65+3</td>\n",
       "      <td>65+3</td>\n",
       "      <td>61+3</td>\n",
       "      <td>56+3</td>\n",
       "      <td>55+3</td>\n",
       "      <td>55+3</td>\n",
       "      <td>55+3</td>\n",
       "      <td>56+3</td>\n",
       "      <td>1</td>\n",
       "    </tr>\n",
       "    <tr>\n",
       "      <th>5</th>\n",
       "      <td>176580</td>\n",
       "      <td>https://sofifa.com/player/176580/luis-suarez/1...</td>\n",
       "      <td>L. Suárez</td>\n",
       "      <td>Luis Alberto Suárez Díaz</td>\n",
       "      <td>27</td>\n",
       "      <td>1987-01-24</td>\n",
       "      <td>181</td>\n",
       "      <td>81</td>\n",
       "      <td>Uruguay</td>\n",
       "      <td>FC Barcelona</td>\n",
       "      <td>...</td>\n",
       "      <td>67+3</td>\n",
       "      <td>67+3</td>\n",
       "      <td>67+3</td>\n",
       "      <td>67+3</td>\n",
       "      <td>62+3</td>\n",
       "      <td>57+3</td>\n",
       "      <td>57+3</td>\n",
       "      <td>57+3</td>\n",
       "      <td>62+3</td>\n",
       "      <td>1</td>\n",
       "    </tr>\n",
       "  </tbody>\n",
       "</table>\n",
       "<p>5 rows × 105 columns</p>\n",
       "</div>"
      ],
      "text/plain": [
       "   sofifa_id                                         player_url  \\\n",
       "0     158023  https://sofifa.com/player/158023/lionel-messi/...   \n",
       "1      20801  https://sofifa.com/player/20801/c-ronaldo-dos-...   \n",
       "2       9014  https://sofifa.com/player/9014/arjen-robben/15...   \n",
       "3      41236  https://sofifa.com/player/41236/zlatan-ibrahim...   \n",
       "5     176580  https://sofifa.com/player/176580/luis-suarez/1...   \n",
       "\n",
       "          short_name                            long_name  age         dob  \\\n",
       "0           L. Messi       Lionel Andrés Messi Cuccittini   27  1987-06-24   \n",
       "1  Cristiano Ronaldo  Cristiano Ronaldo dos Santos Aveiro   29  1985-02-05   \n",
       "2          A. Robben                         Arjen Robben   30  1984-01-23   \n",
       "3     Z. Ibrahimović                   Zlatan Ibrahimović   32  1981-10-03   \n",
       "5          L. Suárez             Luis Alberto Suárez Díaz   27  1987-01-24   \n",
       "\n",
       "   height_cm  weight_kg  nationality                 club  ...   ldm   cdm  \\\n",
       "0        169         67    Argentina         FC Barcelona  ...  62+3  62+3   \n",
       "1        185         80     Portugal          Real Madrid  ...  63+3  63+3   \n",
       "2        180         80  Netherlands    FC Bayern München  ...  64+3  64+3   \n",
       "3        195         95       Sweden  Paris Saint-Germain  ...  65+3  65+3   \n",
       "5        181         81      Uruguay         FC Barcelona  ...  67+3  67+3   \n",
       "\n",
       "    rdm   rwb    lb   lcb    cb   rcb    rb 73_overall_or_above  \n",
       "0  62+3  62+3  54+3  45+3  45+3  45+3  54+3                   1  \n",
       "1  63+3  63+3  57+3  52+3  52+3  52+3  57+3                   1  \n",
       "2  64+3  64+3  55+3  46+3  46+3  46+3  55+3                   1  \n",
       "3  65+3  61+3  56+3  55+3  55+3  55+3  56+3                   1  \n",
       "5  67+3  67+3  62+3  57+3  57+3  57+3  62+3                   1  \n",
       "\n",
       "[5 rows x 105 columns]"
      ]
     },
     "execution_count": 464,
     "metadata": {},
     "output_type": "execute_result"
    }
   ],
   "source": [
    "fifa_15_4el.head()"
   ]
  },
  {
   "cell_type": "markdown",
   "metadata": {},
   "source": [
    "### FIFA 15"
   ]
  },
  {
   "cell_type": "code",
   "execution_count": 610,
   "metadata": {},
   "outputs": [],
   "source": [
    "from sklearn import model_selection"
   ]
  },
  {
   "cell_type": "code",
   "execution_count": 611,
   "metadata": {},
   "outputs": [],
   "source": [
    "def train_test_split(df):\n",
    "    x1 = df.iloc[:, 31:37]\n",
    "    x2 = df.iloc[:, 17:19]\n",
    "    x = pd.concat([x1, x2], axis=1, join='inner')\n",
    "    #x = df.iloc[:, 31:37]\n",
    "    y = df.iloc[:, -1]\n",
    "    x_train, x_test, y_train, y_test = model_selection.train_test_split(x, y, test_size=0.25, random_state=33)\n",
    "    return x_train, x_test, y_train, y_test"
   ]
  },
  {
   "cell_type": "code",
   "execution_count": 612,
   "metadata": {},
   "outputs": [],
   "source": [
    "from sklearn import preprocessing"
   ]
  },
  {
   "cell_type": "code",
   "execution_count": 613,
   "metadata": {},
   "outputs": [],
   "source": [
    "def standard_normalize(x):\n",
    "    scaler = preprocessing.StandardScaler()\n",
    "    scaler.fit(x)\n",
    "    return scaler.transform(x)"
   ]
  },
  {
   "cell_type": "code",
   "execution_count": 614,
   "metadata": {},
   "outputs": [],
   "source": [
    "from sklearn import linear_model\n",
    "from sklearn import metrics"
   ]
  },
  {
   "cell_type": "code",
   "execution_count": 665,
   "metadata": {},
   "outputs": [],
   "source": [
    "def classify(x_train, y_train, x_test, y_test, l):\n",
    "    clf = linear_model.SGDClassifier(loss=l, l1_ratio=0, max_iter=1000000, tol=1e-6, shuffle=True)\n",
    "    clf.fit(x_train, y_train)\n",
    "    y_train_predict = clf.predict(x_train)\n",
    "    y_test_predict = clf.predict(x_test)\n",
    "    confusion_matrix1 = metrics.confusion_matrix(y_train, y_train_predict)\n",
    "    confusion_matrix2 = metrics.confusion_matrix(y_test, y_test_predict)\n",
    "    accuracy_train = (confusion_matrix1[0,0]+confusion_matrix1[1,1])/np.sum(confusion_matrix1)\n",
    "    accuracy_test = (confusion_matrix2[0,0]+confusion_matrix2[1,1])/np.sum(confusion_matrix2)\n",
    "    tpr_train = confusion_matrix1[1,1]/(confusion_matrix1[1,1]+confusion_matrix1[1,0])\n",
    "    tpr_test = confusion_matrix2[1,1]/(confusion_matrix2[1,1]+confusion_matrix2[1,0])\n",
    "    tnr_train = confusion_matrix1[0,0]/(confusion_matrix1[0,0]+confusion_matrix1[0,1])\n",
    "    tnr_test = confusion_matrix2[0,0]/(confusion_matrix2[0,0]+confusion_matrix2[0,1])\n",
    "    fnr_train = 1-tpr_train\n",
    "    fnr_test = 1-tpr_test\n",
    "    fpr_train = 1-tnr_train\n",
    "    fpr_test = 1-tnr_test\n",
    "    print('Train set accuracy:', accuracy_train)\n",
    "    print('Train set TPR:', tpr_train)\n",
    "    print('Train set TNR:', tnr_train)\n",
    "    print('Train set FNR:', fnr_train)\n",
    "    print('Train set FPR:', fpr_train)\n",
    "    print('Test set accuracy:', accuracy_test)\n",
    "    print('Test set TPR:', tpr_test)\n",
    "    print('Test set TNR:', tnr_test)\n",
    "    print('Test set FNR:', fnr_test)\n",
    "    print('Test set FPR:', fpr_test)\n",
    "    return clf, fpr_test, fnr_test"
   ]
  },
  {
   "cell_type": "code",
   "execution_count": 666,
   "metadata": {},
   "outputs": [],
   "source": [
    "x_train_15_epl, x_test_15_epl, y_train_15_epl, y_test_15_epl = train_test_split(fifa_15_epl)"
   ]
  },
  {
   "cell_type": "code",
   "execution_count": 667,
   "metadata": {},
   "outputs": [],
   "source": [
    "x_train_15_epl = standard_normalize(x_train_15_epl)"
   ]
  },
  {
   "cell_type": "code",
   "execution_count": 668,
   "metadata": {},
   "outputs": [],
   "source": [
    "x_test_15_epl = standard_normalize(x_test_15_epl)"
   ]
  },
  {
   "cell_type": "code",
   "execution_count": 669,
   "metadata": {},
   "outputs": [
    {
     "name": "stdout",
     "output_type": "stream",
     "text": [
      "Train set accuracy: 0.7831050228310502\n",
      "Train set TPR: 0.8356807511737089\n",
      "Train set TNR: 0.7333333333333333\n",
      "Train set FNR: 0.16431924882629112\n",
      "Train set FPR: 0.2666666666666667\n",
      "Test set accuracy: 0.782312925170068\n",
      "Test set TPR: 0.8571428571428571\n",
      "Test set TNR: 0.7142857142857143\n",
      "Test set FNR: 0.1428571428571429\n",
      "Test set FPR: 0.2857142857142857\n"
     ]
    }
   ],
   "source": [
    "classifier_15_epl, fpr_test_15_epl, fnr_test_15_epl = classify(x_train_15_epl, y_train_15_epl, x_test_15_epl, y_test_15_epl, 'log')"
   ]
  },
  {
   "cell_type": "code",
   "execution_count": 670,
   "metadata": {},
   "outputs": [
    {
     "name": "stdout",
     "output_type": "stream",
     "text": [
      "Train set accuracy: 0.7695792880258899\n",
      "Train set TPR: 0.8420195439739414\n",
      "Train set TNR: 0.7218045112781954\n",
      "Train set FNR: 0.1579804560260586\n",
      "Train set FPR: 0.27819548872180455\n",
      "Test set accuracy: 0.7533980582524272\n",
      "Test set TPR: 0.7808219178082192\n",
      "Test set TNR: 0.7331081081081081\n",
      "Test set FNR: 0.2191780821917808\n",
      "Test set FPR: 0.2668918918918919\n"
     ]
    }
   ],
   "source": [
    "x_train_15_4el, x_test_15_4el, y_train_15_4el, y_test_15_4el = train_test_split(fifa_15_4el)\n",
    "x_train_15_4el = standard_normalize(x_train_15_4el)\n",
    "x_test_15_4el = standard_normalize(x_test_15_4el)\n",
    "classifier_15_4el, fpr_test_15_4el, fnr_test_15_4el = classify(x_train_15_4el, y_train_15_4el, x_test_15_4el, y_test_15_4el, 'log')"
   ]
  },
  {
   "cell_type": "markdown",
   "metadata": {},
   "source": [
    "### What if we apply the English Premier League classifier to other 4 major European League players?"
   ]
  },
  {
   "cell_type": "code",
   "execution_count": 671,
   "metadata": {},
   "outputs": [
    {
     "name": "stdout",
     "output_type": "stream",
     "text": [
      "4 other major Eurpean leagues test set FNR: 0.2191780821917808\n",
      "4 other major Eurpean leagues test set FPR: 0.2668918918918919\n",
      "4 other major Eurpean leagues test set FNR with EPL classifier: 0.1780821917808219\n",
      "4 other major Eurpean leagues test set FPR with EPL classifier: 0.30743243243243246\n"
     ]
    }
   ],
   "source": [
    "y_test_predict_15_4el_with_epl = classifier_15_epl.predict(x_test_15_4el)\n",
    "confusion_matrix_15_4el_with_epl = metrics.confusion_matrix(y_test_15_4el, y_test_predict_15_4el_with_epl)\n",
    "fpr_test_15_4el_with_epl = confusion_matrix_15_4el_with_epl[0,1]/(confusion_matrix_15_4el_with_epl[0,1]+confusion_matrix_15_4el_with_epl[0,0])\n",
    "fnr_test_15_4el_with_epl = confusion_matrix_15_4el_with_epl[1,0]/(confusion_matrix_15_4el_with_epl[1,0]+confusion_matrix_15_4el_with_epl[1,1])\n",
    "print('4 other major Eurpean leagues test set FNR:', fnr_test_15_4el)\n",
    "print('4 other major Eurpean leagues test set FPR:', fpr_test_15_4el)\n",
    "print('4 other major Eurpean leagues test set FNR with EPL classifier:', fnr_test_15_4el_with_epl)\n",
    "print('4 other major Eurpean leagues test set FPR with EPL classifier:', fpr_test_15_4el_with_epl)"
   ]
  },
  {
   "cell_type": "markdown",
   "metadata": {},
   "source": [
    "We can certainly see that the FNR decreases and the FPR increases if we use the classifier trained with fifa15 EPL players for fifa15 4 other major European League players. This means the EPL classifier tends to give higher rating prediction based on the same player attributes."
   ]
  },
  {
   "cell_type": "markdown",
   "metadata": {},
   "source": [
    "Next, follow the same procedure for fifa16 to fifa20 datasets to find out whether whether this favor of EPL players persists throughout the years."
   ]
  },
  {
   "cell_type": "markdown",
   "metadata": {},
   "source": [
    "### FIFA 16"
   ]
  },
  {
   "cell_type": "code",
   "execution_count": 672,
   "metadata": {},
   "outputs": [
    {
     "name": "stdout",
     "output_type": "stream",
     "text": [
      "Train set accuracy: 0.8549618320610687\n",
      "Train set TPR: 0.9728682170542635\n",
      "Train set TNR: 0.6296296296296297\n",
      "Train set FNR: 0.027131782945736482\n",
      "Train set FPR: 0.37037037037037035\n",
      "Test set accuracy: 0.7954545454545454\n",
      "Test set TPR: 0.9861111111111112\n",
      "Test set TNR: 0.5666666666666667\n",
      "Test set FNR: 0.01388888888888884\n",
      "Test set FPR: 0.43333333333333335\n"
     ]
    }
   ],
   "source": [
    "x_train_16_epl, x_test_16_epl, y_train_16_epl, y_test_16_epl = train_test_split(fifa_16_epl)\n",
    "x_train_16_epl = standard_normalize(x_train_16_epl)\n",
    "x_test_16_epl = standard_normalize(x_test_16_epl)\n",
    "classifier_16_epl, fpr_test_16_epl, fnr_test_16_epl = classify(x_train_16_epl, y_train_16_epl, x_test_16_epl, y_test_16_epl, 'log')"
   ]
  },
  {
   "cell_type": "code",
   "execution_count": 673,
   "metadata": {},
   "outputs": [
    {
     "name": "stdout",
     "output_type": "stream",
     "text": [
      "Train set accuracy: 0.7681159420289855\n",
      "Train set TPR: 0.7787958115183246\n",
      "Train set TNR: 0.7562043795620438\n",
      "Train set FNR: 0.22120418848167545\n",
      "Train set FPR: 0.24379562043795622\n",
      "Test set accuracy: 0.7701863354037267\n",
      "Test set TPR: 0.7615384615384615\n",
      "Test set TNR: 0.7802690582959642\n",
      "Test set FNR: 0.2384615384615385\n",
      "Test set FPR: 0.21973094170403584\n"
     ]
    }
   ],
   "source": [
    "x_train_16_4el, x_test_16_4el, y_train_16_4el, y_test_16_4el = train_test_split(fifa_16_4el)\n",
    "x_train_16_4el = standard_normalize(x_train_16_4el)\n",
    "x_test_16_4el = standard_normalize(x_test_16_4el)\n",
    "classifier_16_4el, fpr_test_16_4el, fnr_test_16_4el = classify(x_train_16_4el, y_train_16_4el, x_test_16_4el, y_test_16_4el, 'log')"
   ]
  },
  {
   "cell_type": "code",
   "execution_count": 674,
   "metadata": {},
   "outputs": [
    {
     "name": "stdout",
     "output_type": "stream",
     "text": [
      "4 other major Eurpean leagues test set FNR: 0.2384615384615385\n",
      "4 other major Eurpean leagues test set FPR: 0.21973094170403584\n",
      "4 other major Eurpean leagues test set FNR with EPL classifier: 0.026923076923076925\n",
      "4 other major Eurpean leagues test set FPR with EPL classifier: 0.4977578475336323\n"
     ]
    }
   ],
   "source": [
    "y_test_predict_16_4el_with_epl = classifier_16_epl.predict(x_test_16_4el)\n",
    "confusion_matrix_16_4el_with_epl = metrics.confusion_matrix(y_test_16_4el, y_test_predict_16_4el_with_epl)\n",
    "fpr_test_16_4el_with_epl = confusion_matrix_16_4el_with_epl[0,1]/(confusion_matrix_16_4el_with_epl[0,1]+confusion_matrix_16_4el_with_epl[0,0])\n",
    "fnr_test_16_4el_with_epl = confusion_matrix_16_4el_with_epl[1,0]/(confusion_matrix_16_4el_with_epl[1,0]+confusion_matrix_16_4el_with_epl[1,1])\n",
    "print('4 other major Eurpean leagues test set FNR:', fnr_test_16_4el)\n",
    "print('4 other major Eurpean leagues test set FPR:', fpr_test_16_4el)\n",
    "print('4 other major Eurpean leagues test set FNR with EPL classifier:', fnr_test_16_4el_with_epl)\n",
    "print('4 other major Eurpean leagues test set FPR with EPL classifier:', fpr_test_16_4el_with_epl)"
   ]
  },
  {
   "cell_type": "markdown",
   "metadata": {},
   "source": [
    "### FIFA 17"
   ]
  },
  {
   "cell_type": "code",
   "execution_count": 675,
   "metadata": {},
   "outputs": [
    {
     "name": "stdout",
     "output_type": "stream",
     "text": [
      "Train set accuracy: 0.8068965517241379\n",
      "Train set TPR: 0.8274509803921568\n",
      "Train set TNR: 0.7777777777777778\n",
      "Train set FNR: 0.1725490196078432\n",
      "Train set FPR: 0.2222222222222222\n",
      "Test set accuracy: 0.821917808219178\n",
      "Test set TPR: 0.8352941176470589\n",
      "Test set TNR: 0.8032786885245902\n",
      "Test set FNR: 0.16470588235294115\n",
      "Test set FPR: 0.19672131147540983\n"
     ]
    }
   ],
   "source": [
    "x_train_17_epl, x_test_17_epl, y_train_17_epl, y_test_17_epl = train_test_split(fifa_17_epl)\n",
    "x_train_17_epl = standard_normalize(x_train_17_epl)\n",
    "x_test_17_epl = standard_normalize(x_test_17_epl)\n",
    "classifier_17_epl, fpr_test_17_epl, fnr_test_17_epl = classify(x_train_17_epl, y_train_17_epl, x_test_17_epl, y_test_17_epl, 'log')"
   ]
  },
  {
   "cell_type": "code",
   "execution_count": 676,
   "metadata": {},
   "outputs": [
    {
     "name": "stdout",
     "output_type": "stream",
     "text": [
      "Train set accuracy: 0.7911434236615995\n",
      "Train set TPR: 0.810244470314319\n",
      "Train set TNR: 0.7660550458715596\n",
      "Train set FNR: 0.189755529685681\n",
      "Train set FPR: 0.2339449541284404\n",
      "Test set accuracy: 0.8178217821782178\n",
      "Test set TPR: 0.8373702422145328\n",
      "Test set TNR: 0.7916666666666666\n",
      "Test set FNR: 0.16262975778546718\n",
      "Test set FPR: 0.20833333333333337\n"
     ]
    }
   ],
   "source": [
    "x_train_17_4el, x_test_17_4el, y_train_17_4el, y_test_17_4el = train_test_split(fifa_17_4el)\n",
    "x_train_17_4el = standard_normalize(x_train_17_4el)\n",
    "x_test_17_4el = standard_normalize(x_test_17_4el)\n",
    "classifier_17_4el, fpr_test_17_4el, fnr_test_17_4el = classify(x_train_17_4el, y_train_17_4el, x_test_17_4el, y_test_17_4el, 'log')"
   ]
  },
  {
   "cell_type": "code",
   "execution_count": 677,
   "metadata": {},
   "outputs": [
    {
     "name": "stdout",
     "output_type": "stream",
     "text": [
      "4 other major Eurpean leagues test set FNR: 0.16262975778546718\n",
      "4 other major Eurpean leagues test set FPR: 0.20833333333333337\n",
      "4 other major Eurpean leagues test set FNR with EPL classifier: 0.25259515570934254\n",
      "4 other major Eurpean leagues test set FPR with EPL classifier: 0.3611111111111111\n"
     ]
    }
   ],
   "source": [
    "y_test_predict_17_4el_with_epl = classifier_17_epl.predict(x_test_17_4el)\n",
    "confusion_matrix_17_4el_with_epl = metrics.confusion_matrix(y_test_17_4el, y_test_predict_17_4el_with_epl)\n",
    "fpr_test_17_4el_with_epl = confusion_matrix_17_4el_with_epl[0,1]/(confusion_matrix_17_4el_with_epl[0,1]+confusion_matrix_17_4el_with_epl[0,0])\n",
    "fnr_test_17_4el_with_epl = confusion_matrix_17_4el_with_epl[1,0]/(confusion_matrix_17_4el_with_epl[1,0]+confusion_matrix_17_4el_with_epl[1,1])\n",
    "print('4 other major Eurpean leagues test set FNR:', fnr_test_17_4el)\n",
    "print('4 other major Eurpean leagues test set FPR:', fpr_test_17_4el)\n",
    "print('4 other major Eurpean leagues test set FNR with EPL classifier:', fnr_test_17_4el_with_epl)\n",
    "print('4 other major Eurpean leagues test set FPR with EPL classifier:', fpr_test_17_4el_with_epl)"
   ]
  },
  {
   "cell_type": "markdown",
   "metadata": {},
   "source": [
    "### FIFA 18"
   ]
  },
  {
   "cell_type": "code",
   "execution_count": 678,
   "metadata": {},
   "outputs": [
    {
     "name": "stdout",
     "output_type": "stream",
     "text": [
      "Train set accuracy: 0.8264840182648402\n",
      "Train set TPR: 0.9104477611940298\n",
      "Train set TNR: 0.6941176470588235\n",
      "Train set FNR: 0.08955223880597019\n",
      "Train set FPR: 0.3058823529411765\n",
      "Test set accuracy: 0.8493150684931506\n",
      "Test set TPR: 0.9\n",
      "Test set TNR: 0.7678571428571429\n",
      "Test set FNR: 0.09999999999999998\n",
      "Test set FPR: 0.2321428571428571\n"
     ]
    }
   ],
   "source": [
    "x_train_18_epl, x_test_18_epl, y_train_18_epl, y_test_18_epl = train_test_split(fifa_18_epl)\n",
    "x_train_18_epl = standard_normalize(x_train_18_epl)\n",
    "x_test_18_epl = standard_normalize(x_test_18_epl)\n",
    "classifier_18_epl, fpr_test_18_epl, fnr_test_18_epl = classify(x_train_18_epl, y_train_18_epl, x_test_18_epl, y_test_18_epl, 'log')"
   ]
  },
  {
   "cell_type": "code",
   "execution_count": 679,
   "metadata": {},
   "outputs": [
    {
     "name": "stdout",
     "output_type": "stream",
     "text": [
      "Train set accuracy: 0.8001314924391848\n",
      "Train set TPR: 0.8480861244019139\n",
      "Train set TNR: 0.7416058394160584\n",
      "Train set FNR: 0.1519138755980861\n",
      "Train set FPR: 0.2583941605839416\n",
      "Test set accuracy: 0.7755905511811023\n",
      "Test set TPR: 0.785234899328859\n",
      "Test set TNR: 0.7619047619047619\n",
      "Test set FNR: 0.21476510067114096\n",
      "Test set FPR: 0.23809523809523814\n"
     ]
    }
   ],
   "source": [
    "x_train_18_4el, x_test_18_4el, y_train_18_4el, y_test_18_4el = train_test_split(fifa_18_4el)\n",
    "x_train_18_4el = standard_normalize(x_train_18_4el)\n",
    "x_test_18_4el = standard_normalize(x_test_18_4el)\n",
    "classifier_18_4el, fpr_test_18_4el, fnr_test_18_4el = classify(x_train_18_4el, y_train_18_4el, x_test_18_4el, y_test_18_4el, 'log')"
   ]
  },
  {
   "cell_type": "code",
   "execution_count": 680,
   "metadata": {},
   "outputs": [
    {
     "name": "stdout",
     "output_type": "stream",
     "text": [
      "4 other major Eurpean leagues test set FNR: 0.21476510067114096\n",
      "4 other major Eurpean leagues test set FPR: 0.23809523809523814\n",
      "4 other major Eurpean leagues test set FNR with EPL classifier: 0.12416107382550336\n",
      "4 other major Eurpean leagues test set FPR with EPL classifier: 0.3333333333333333\n"
     ]
    }
   ],
   "source": [
    "y_test_predict_18_4el_with_epl = classifier_18_epl.predict(x_test_18_4el)\n",
    "confusion_matrix_18_4el_with_epl = metrics.confusion_matrix(y_test_18_4el, y_test_predict_18_4el_with_epl)\n",
    "fpr_test_18_4el_with_epl = confusion_matrix_18_4el_with_epl[0,1]/(confusion_matrix_18_4el_with_epl[0,1]+confusion_matrix_18_4el_with_epl[0,0])\n",
    "fnr_test_18_4el_with_epl = confusion_matrix_18_4el_with_epl[1,0]/(confusion_matrix_18_4el_with_epl[1,0]+confusion_matrix_18_4el_with_epl[1,1])\n",
    "print('4 other major Eurpean leagues test set FNR:', fnr_test_18_4el)\n",
    "print('4 other major Eurpean leagues test set FPR:', fpr_test_18_4el)\n",
    "print('4 other major Eurpean leagues test set FNR with EPL classifier:', fnr_test_18_4el_with_epl)\n",
    "print('4 other major Eurpean leagues test set FPR with EPL classifier:', fpr_test_18_4el_with_epl)"
   ]
  },
  {
   "cell_type": "markdown",
   "metadata": {},
   "source": [
    "### FIFA 19"
   ]
  },
  {
   "cell_type": "code",
   "execution_count": 681,
   "metadata": {},
   "outputs": [
    {
     "name": "stdout",
     "output_type": "stream",
     "text": [
      "Train set accuracy: 0.8558558558558559\n",
      "Train set TPR: 0.9139784946236559\n",
      "Train set TNR: 0.7575757575757576\n",
      "Train set FNR: 0.08602150537634412\n",
      "Train set FPR: 0.24242424242424243\n",
      "Test set accuracy: 0.9256756756756757\n",
      "Test set TPR: 0.9444444444444444\n",
      "Test set TNR: 0.896551724137931\n",
      "Test set FNR: 0.05555555555555558\n",
      "Test set FPR: 0.10344827586206895\n"
     ]
    }
   ],
   "source": [
    "x_train_19_epl, x_test_19_epl, y_train_19_epl, y_test_19_epl = train_test_split(fifa_19_epl)\n",
    "x_train_19_epl = standard_normalize(x_train_19_epl)\n",
    "x_test_19_epl = standard_normalize(x_test_19_epl)\n",
    "classifier_19_epl, fpr_test_19_epl, fnr_test_19_epl = classify(x_train_19_epl, y_train_19_epl, x_test_19_epl, y_test_19_epl, 'log')"
   ]
  },
  {
   "cell_type": "code",
   "execution_count": 682,
   "metadata": {},
   "outputs": [
    {
     "name": "stdout",
     "output_type": "stream",
     "text": [
      "Train set accuracy: 0.8029197080291971\n",
      "Train set TPR: 0.8968713789107764\n",
      "Train set TNR: 0.6770186335403726\n",
      "Train set FNR: 0.1031286210892236\n",
      "Train set FPR: 0.3229813664596274\n",
      "Test set accuracy: 0.8230616302186878\n",
      "Test set TPR: 0.8952702702702703\n",
      "Test set TNR: 0.7198067632850241\n",
      "Test set FNR: 0.10472972972972971\n",
      "Test set FPR: 0.28019323671497587\n"
     ]
    }
   ],
   "source": [
    "x_train_19_4el, x_test_19_4el, y_train_19_4el, y_test_19_4el = train_test_split(fifa_19_4el)\n",
    "x_train_19_4el = standard_normalize(x_train_19_4el)\n",
    "x_test_19_4el = standard_normalize(x_test_19_4el)\n",
    "classifier_19_4el, fpr_test_19_4el, fnr_test_19_4el = classify(x_train_19_4el, y_train_19_4el, x_test_19_4el, y_test_19_4el, 'log')"
   ]
  },
  {
   "cell_type": "code",
   "execution_count": 683,
   "metadata": {},
   "outputs": [
    {
     "name": "stdout",
     "output_type": "stream",
     "text": [
      "4 other major Eurpean leagues test set FNR: 0.10472972972972971\n",
      "4 other major Eurpean leagues test set FPR: 0.28019323671497587\n",
      "4 other major Eurpean leagues test set FNR with EPL classifier: 0.12162162162162163\n",
      "4 other major Eurpean leagues test set FPR with EPL classifier: 0.28502415458937197\n"
     ]
    }
   ],
   "source": [
    "y_test_predict_19_4el_with_epl = classifier_19_epl.predict(x_test_19_4el)\n",
    "confusion_matrix_19_4el_with_epl = metrics.confusion_matrix(y_test_19_4el, y_test_predict_19_4el_with_epl)\n",
    "fpr_test_19_4el_with_epl = confusion_matrix_19_4el_with_epl[0,1]/(confusion_matrix_19_4el_with_epl[0,1]+confusion_matrix_19_4el_with_epl[0,0])\n",
    "fnr_test_19_4el_with_epl = confusion_matrix_19_4el_with_epl[1,0]/(confusion_matrix_19_4el_with_epl[1,0]+confusion_matrix_19_4el_with_epl[1,1])\n",
    "print('4 other major Eurpean leagues test set FNR:', fnr_test_19_4el)\n",
    "print('4 other major Eurpean leagues test set FPR:', fpr_test_19_4el)\n",
    "print('4 other major Eurpean leagues test set FNR with EPL classifier:', fnr_test_19_4el_with_epl)\n",
    "print('4 other major Eurpean leagues test set FPR with EPL classifier:', fpr_test_19_4el_with_epl)"
   ]
  },
  {
   "cell_type": "markdown",
   "metadata": {},
   "source": [
    "### FIFA 20"
   ]
  },
  {
   "cell_type": "code",
   "execution_count": 684,
   "metadata": {},
   "outputs": [
    {
     "name": "stdout",
     "output_type": "stream",
     "text": [
      "Train set accuracy: 0.8571428571428571\n",
      "Train set TPR: 0.9183673469387755\n",
      "Train set TNR: 0.7346938775510204\n",
      "Train set FNR: 0.08163265306122447\n",
      "Train set FPR: 0.26530612244897955\n",
      "Test set accuracy: 0.8378378378378378\n",
      "Test set TPR: 0.8811881188118812\n",
      "Test set TNR: 0.7446808510638298\n",
      "Test set FNR: 0.1188118811881188\n",
      "Test set FPR: 0.25531914893617025\n"
     ]
    }
   ],
   "source": [
    "x_train_20_epl, x_test_20_epl, y_train_20_epl, y_test_20_epl = train_test_split(fifa_20_epl)\n",
    "x_train_20_epl = standard_normalize(x_train_20_epl)\n",
    "x_test_20_epl = standard_normalize(x_test_20_epl)\n",
    "classifier_20_epl, fpr_test_20_epl, fnr_test_20_epl = classify(x_train_20_epl, y_train_20_epl, x_test_20_epl, y_test_20_epl, 'log')"
   ]
  },
  {
   "cell_type": "code",
   "execution_count": 685,
   "metadata": {},
   "outputs": [
    {
     "name": "stdout",
     "output_type": "stream",
     "text": [
      "Train set accuracy: 0.8263058527375708\n",
      "Train set TPR: 0.846244131455399\n",
      "Train set TNR: 0.8032564450474898\n",
      "Train set FNR: 0.153755868544601\n",
      "Train set FPR: 0.19674355495251017\n",
      "Test set accuracy: 0.8056603773584906\n",
      "Test set TPR: 0.8205980066445183\n",
      "Test set TNR: 0.7860262008733624\n",
      "Test set FNR: 0.17940199335548168\n",
      "Test set FPR: 0.2139737991266376\n"
     ]
    }
   ],
   "source": [
    "x_train_20_4el, x_test_20_4el, y_train_20_4el, y_test_20_4el = train_test_split(fifa_20_4el)\n",
    "x_train_20_4el = standard_normalize(x_train_20_4el)\n",
    "x_test_20_4el = standard_normalize(x_test_20_4el)\n",
    "classifier_20_4el, fpr_test_20_4el, fnr_test_20_4el = classify(x_train_20_4el, y_train_20_4el, x_test_20_4el, y_test_20_4el, 'log')"
   ]
  },
  {
   "cell_type": "code",
   "execution_count": 686,
   "metadata": {},
   "outputs": [
    {
     "name": "stdout",
     "output_type": "stream",
     "text": [
      "4 other major Eurpean leagues test set FNR: 0.17940199335548168\n",
      "4 other major Eurpean leagues test set FPR: 0.2139737991266376\n",
      "4 other major Eurpean leagues test set FNR with EPL classifier: 0.0664451827242525\n",
      "4 other major Eurpean leagues test set FPR with EPL classifier: 0.4104803493449782\n"
     ]
    }
   ],
   "source": [
    "y_test_predict_20_4el_with_epl = classifier_20_epl.predict(x_test_20_4el)\n",
    "confusion_matrix_20_4el_with_epl = metrics.confusion_matrix(y_test_20_4el, y_test_predict_20_4el_with_epl)\n",
    "fpr_test_20_4el_with_epl = confusion_matrix_20_4el_with_epl[0,1]/(confusion_matrix_20_4el_with_epl[0,1]+confusion_matrix_20_4el_with_epl[0,0])\n",
    "fnr_test_20_4el_with_epl = confusion_matrix_20_4el_with_epl[1,0]/(confusion_matrix_20_4el_with_epl[1,0]+confusion_matrix_20_4el_with_epl[1,1])\n",
    "print('4 other major Eurpean leagues test set FNR:', fnr_test_20_4el)\n",
    "print('4 other major Eurpean leagues test set FPR:', fpr_test_20_4el)\n",
    "print('4 other major Eurpean leagues test set FNR with EPL classifier:', fnr_test_20_4el_with_epl)\n",
    "print('4 other major Eurpean leagues test set FPR with EPL classifier:', fpr_test_20_4el_with_epl)"
   ]
  },
  {
   "cell_type": "code",
   "execution_count": 689,
   "metadata": {
    "scrolled": true
   },
   "outputs": [
    {
     "data": {
      "image/png": "[encoded data removed]",
      "text/plain": [
       "<Figure size 432x288 with 1 Axes>"
      ]
     },
     "metadata": {
      "needs_background": "light"
     },
     "output_type": "display_data"
    }
   ],
   "source": [
    "years = np.array(['fifa15','fifa16','fifa17','fifa18','fifa19','fifa20'])\n",
    "fnr_difference = np.array([fnr_test_15_4el_with_epl-fnr_test_15_4el, fnr_test_16_4el_with_epl-fnr_test_16_4el, fnr_test_17_4el_with_epl-fnr_test_17_4el, fnr_test_18_4el_with_epl-fnr_test_18_4el, fnr_test_19_4el_with_epl-fnr_test_19_4el, fnr_test_20_4el_with_epl-fnr_test_20_4el])\n",
    "fpr_difference = np.array([fpr_test_15_4el_with_epl-fpr_test_15_4el, fpr_test_16_4el_with_epl-fpr_test_16_4el, fpr_test_17_4el_with_epl-fpr_test_17_4el, fpr_test_18_4el_with_epl-fpr_test_18_4el, fpr_test_19_4el_with_epl-fpr_test_19_4el, fpr_test_20_4el_with_epl-fpr_test_20_4el])\n",
    "plt.plot(years, fnr_difference, label='FNR difference')\n",
    "plt.plot(years, fpr_difference, label='FPR difference')\n",
    "plt.plot(years, np.array([0,0,0,0,0,0]), '--', label='Reference line')\n",
    "plt.xlabel('Year')\n",
    "plt.ylabel('Rate difference')\n",
    "plt.title('FNR/FPR difference between using EPL classifier and 4EL Classifier')\n",
    "plt.legend()\n",
    "plt.show()"
   ]
  },
  {
   "cell_type": "markdown",
   "metadata": {},
   "source": [
    "From the plot above I can see that the favor of EPL players exists in fifa15, fifa16, fifa18 and fifa20. In fifa17 and fifa19, the game keeps a relatively good fairness between EPL players and 4 other major European League players."
   ]
  },
  {
   "cell_type": "markdown",
   "metadata": {},
   "source": [
    "## Part 3 Phase two"
   ]
  },
  {
   "cell_type": "markdown",
   "metadata": {},
   "source": [
    "In this phase, we are investigating whether there is a favor for England players in terms of overall rating. We use a three-layer neural network to predict the overall rating of a player based on stats attribute. We build two models for england players and non-England players and then try to apply the model for England players to non-England players and find out whether the prediction of overall rating changes."
   ]
  },
  {
   "cell_type": "code",
   "execution_count": 708,
   "metadata": {},
   "outputs": [],
   "source": [
    "import torch\n",
    "import torch.nn as nn\n",
    "import torch.nn.functional as F"
   ]
  },
  {
   "cell_type": "code",
   "execution_count": 709,
   "metadata": {},
   "outputs": [],
   "source": [
    "def train_test_split_no_gk(df):\n",
    "    x = df.iloc[:, 31:37]\n",
    "    y = df.iloc[:, 10]\n",
    "    x_train, x_test, y_train, y_test = model_selection.train_test_split(x, y, test_size=0.25, random_state=33)\n",
    "    return x_train, x_test, y_train, y_test"
   ]
  },
  {
   "cell_type": "code",
   "execution_count": 710,
   "metadata": {},
   "outputs": [],
   "source": [
    "def train_test_split_gk(df):\n",
    "    x = df.iloc[:, 37:43]\n",
    "    y = df.iloc[:, 10]\n",
    "    x_train, x_test, y_train, y_test = model_selection.train_test_split(x, y, test_size=0.25, random_state=33)\n",
    "    return x_train, x_test, y_train, y_test"
   ]
  },
  {
   "cell_type": "code",
   "execution_count": 711,
   "metadata": {},
   "outputs": [],
   "source": [
    "class Net(nn.Module):\n",
    "    def __init__(self, input_size, output_size):\n",
    "        super(Net, self).__init__()\n",
    "        self.fc1 = nn.Linear(input_size, 25)\n",
    "        self.fc2 = nn.Linear(25, 36)\n",
    "        self.fc3 = nn.Linear(36, output_size)\n",
    "        \n",
    "    def forward(self, x):\n",
    "        x = F.relu(self.fc1(x))\n",
    "        x = F.relu(self.fc2(x))\n",
    "        x = self.fc3(x)\n",
    "        return x"
   ]
  },
  {
   "cell_type": "code",
   "execution_count": 724,
   "metadata": {},
   "outputs": [],
   "source": [
    "def to_tensor(x_train, x_test, y_train, y_test):\n",
    "    x_train = torch.from_numpy(x_train.to_numpy()).to(torch.float32)\n",
    "    x_test = torch.from_numpy(x_test.to_numpy()).to(torch.float32)\n",
    "    y_train = torch.from_numpy(y_train.to_numpy()).view(-1,1).to(torch.float32)\n",
    "    y_test = torch.from_numpy(y_test.to_numpy()).view(-1,1).to(torch.float32)\n",
    "    return x_train, x_test, y_train, y_test"
   ]
  },
  {
   "cell_type": "code",
   "execution_count": 717,
   "metadata": {},
   "outputs": [],
   "source": [
    "from torch import optim"
   ]
  },
  {
   "cell_type": "code",
   "execution_count": 775,
   "metadata": {},
   "outputs": [],
   "source": [
    "def train(net: nn.Module, x_train, y_train, loss_fn):\n",
    "    optimizer = optim.Adam(net.parameters(), lr=1e-2)\n",
    "    losses = []\n",
    "    for _ in range(500):\n",
    "        y_train_hat = net(x_train)\n",
    "        loss = loss_fn(y_train_hat, y_train)\n",
    "        optimizer.zero_grad()\n",
    "        loss.backward()\n",
    "        optimizer.step()\n",
    "        losses.append(loss.detach().numpy())\n",
    "    return np.array(losses)"
   ]
  },
  {
   "cell_type": "markdown",
   "metadata": {},
   "source": [
    "### FiFA 15"
   ]
  },
  {
   "cell_type": "code",
   "execution_count": 726,
   "metadata": {},
   "outputs": [],
   "source": [
    "x_train_15_gk_eng, x_test_15_gk_eng, y_train_15_gk_eng, y_test_15_gk_eng = train_test_split_gk(fifa_15_gk_eng)\n",
    "x_train_15_gk_oc, x_test_15_gk_oc, y_train_15_gk_oc, y_test_15_gk_oc = train_test_split_gk(fifa_15_gk_oc)\n",
    "x_train_15_no_gk_eng, x_test_15_no_gk_eng, y_train_15_no_gk_eng, y_test_15_no_gk_eng = train_test_split_no_gk(fifa_15_no_gk_eng)\n",
    "x_train_15_no_gk_oc, x_test_15_no_gk_oc, y_train_15_no_gk_oc, y_test_15_no_gk_oc = train_test_split_no_gk(fifa_15_no_gk_oc)"
   ]
  },
  {
   "cell_type": "code",
   "execution_count": 727,
   "metadata": {},
   "outputs": [],
   "source": [
    "x_train_15_gk_eng, x_test_15_gk_eng, y_train_15_gk_eng, y_test_15_gk_eng = to_tensor(x_train_15_gk_eng, x_test_15_gk_eng, y_train_15_gk_eng, y_test_15_gk_eng)\n",
    "x_train_15_gk_oc, x_test_15_gk_oc, y_train_15_gk_oc, y_test_15_gk_oc = to_tensor(x_train_15_gk_oc, x_test_15_gk_oc, y_train_15_gk_oc, y_test_15_gk_oc)\n",
    "x_train_15_no_gk_eng, x_test_15_no_gk_eng, y_train_15_no_gk_eng, y_test_15_no_gk_eng = to_tensor(x_train_15_no_gk_eng, x_test_15_no_gk_eng, y_train_15_no_gk_eng, y_test_15_no_gk_eng)\n",
    "x_train_15_no_gk_oc, x_test_15_no_gk_oc, y_train_15_no_gk_oc, y_test_15_no_gk_oc = to_tensor(x_train_15_no_gk_oc, x_test_15_no_gk_oc, y_train_15_no_gk_oc, y_test_15_no_gk_oc)"
   ]
  },
  {
   "cell_type": "code",
   "execution_count": 731,
   "metadata": {},
   "outputs": [
    {
     "data": {
      "text/plain": [
       "torch.Size([121, 6])"
      ]
     },
     "execution_count": 731,
     "metadata": {},
     "output_type": "execute_result"
    }
   ],
   "source": [
    "x_train_15_gk_eng.shape"
   ]
  },
  {
   "cell_type": "code",
   "execution_count": 776,
   "metadata": {},
   "outputs": [
    {
     "data": {
      "image/png": "[encoded data removed]",
      "text/plain": [
       "<Figure size 432x288 with 1 Axes>"
      ]
     },
     "metadata": {
      "needs_background": "light"
     },
     "output_type": "display_data"
    }
   ],
   "source": [
    "net_15_gk_eng = Net(6,1)\n",
    "fifa_15_gk_eng_train_loss = train(net_15_gk_eng, x_train_15_gk_eng, y_train_15_gk_eng, nn.MSELoss())\n",
    "plt.plot(np.arange(len(fifa_15_gk_eng_train_loss)), fifa_15_gk_eng_train_loss)\n",
    "plt.xlabel('Training steps')\n",
    "plt.ylabel('MSE loss')\n",
    "plt.title('fifa15 England goalkeepers NN training')\n",
    "plt.show()"
   ]
  },
  {
   "cell_type": "code",
   "execution_count": 777,
   "metadata": {},
   "outputs": [
    {
     "name": "stdout",
     "output_type": "stream",
     "text": [
      "MSE for x_test_15_gk_eng: 0.35309604\n"
     ]
    }
   ],
   "source": [
    "loss_fn = nn.MSELoss()\n",
    "MSE_test_15_gk_eng = loss_fn(net_15_gk_eng(x_test_15_gk_eng),y_test_15_gk_eng).detach().numpy()\n",
    "print('MSE for x_test_15_gk_eng:', MSE_test_15_gk_eng)"
   ]
  },
  {
   "cell_type": "code",
   "execution_count": 778,
   "metadata": {},
   "outputs": [
    {
     "data": {
      "image/png": "[encoded data removed]",
      "text/plain": [
       "<Figure size 432x288 with 1 Axes>"
      ]
     },
     "metadata": {
      "needs_background": "light"
     },
     "output_type": "display_data"
    }
   ],
   "source": [
    "net_15_gk_oc = Net(6,1)\n",
    "fifa_15_gk_oc_train_loss = train(net_15_gk_oc, x_train_15_gk_oc, y_train_15_gk_oc, nn.MSELoss())\n",
    "plt.plot(np.arange(len(fifa_15_gk_oc_train_loss)), fifa_15_gk_oc_train_loss)\n",
    "plt.xlabel('Training steps')\n",
    "plt.ylabel('MSE loss')\n",
    "plt.title('fifa15 Non-England goalkeepers NN training')\n",
    "plt.show()"
   ]
  },
  {
   "cell_type": "code",
   "execution_count": 779,
   "metadata": {},
   "outputs": [
    {
     "name": "stdout",
     "output_type": "stream",
     "text": [
      "MSE for x_test_15_gk_oc: 0.30748105\n"
     ]
    }
   ],
   "source": [
    "loss_fn = nn.MSELoss()\n",
    "MSE_test_15_gk_oc = loss_fn(net_15_gk_oc(x_test_15_gk_oc),y_test_15_gk_oc).detach().numpy()\n",
    "print('MSE for x_test_15_gk_oc:', MSE_test_15_gk_oc)"
   ]
  },
  {
   "cell_type": "code",
   "execution_count": 780,
   "metadata": {},
   "outputs": [
    {
     "data": {
      "image/png": "[encoded data removed]",
      "text/plain": [
       "<Figure size 432x288 with 1 Axes>"
      ]
     },
     "metadata": {
      "needs_background": "light"
     },
     "output_type": "display_data"
    }
   ],
   "source": [
    "net_15_no_gk_eng = Net(6,1)\n",
    "fifa_15_no_gk_eng_train_loss = train(net_15_no_gk_eng, x_train_15_no_gk_eng, y_train_15_no_gk_eng, nn.MSELoss())\n",
    "plt.plot(np.arange(len(fifa_15_no_gk_eng_train_loss)), fifa_15_no_gk_eng_train_loss)\n",
    "plt.xlabel('Training steps')\n",
    "plt.ylabel('MSE loss')\n",
    "plt.title('fifa15 England non-goalkeepers NN training')\n",
    "plt.show()"
   ]
  },
  {
   "cell_type": "code",
   "execution_count": 781,
   "metadata": {},
   "outputs": [
    {
     "name": "stdout",
     "output_type": "stream",
     "text": [
      "MSE for x_test_15_no_gk_eng: 3.297781\n"
     ]
    }
   ],
   "source": [
    "loss_fn = nn.MSELoss()\n",
    "MSE_test_15_no_gk_eng = loss_fn(net_15_no_gk_eng(x_test_15_no_gk_eng),y_test_15_no_gk_eng).detach().numpy()\n",
    "print('MSE for x_test_15_no_gk_eng:', MSE_test_15_no_gk_eng)"
   ]
  },
  {
   "cell_type": "code",
   "execution_count": 784,
   "metadata": {},
   "outputs": [
    {
     "data": {
      "image/png": "[encoded data removed]",
      "text/plain": [
       "<Figure size 432x288 with 1 Axes>"
      ]
     },
     "metadata": {
      "needs_background": "light"
     },
     "output_type": "display_data"
    }
   ],
   "source": [
    "net_15_no_gk_oc = Net(6,1)\n",
    "fifa_15_no_gk_oc_train_loss = train(net_15_no_gk_oc, x_train_15_no_gk_oc, y_train_15_no_gk_oc, nn.MSELoss())\n",
    "plt.plot(np.arange(len(fifa_15_no_gk_oc_train_loss)), fifa_15_no_gk_oc_train_loss)\n",
    "plt.xlabel('Training steps')\n",
    "plt.ylabel('MSE loss')\n",
    "plt.title('fifa15 Non-England non-goalkeepers NN training')\n",
    "plt.show()"
   ]
  },
  {
   "cell_type": "code",
   "execution_count": 785,
   "metadata": {},
   "outputs": [
    {
     "name": "stdout",
     "output_type": "stream",
     "text": [
      "MSE for x_test_15_no_gk_oc: 3.2359083\n"
     ]
    }
   ],
   "source": [
    "loss_fn = nn.MSELoss()\n",
    "MSE_test_15_no_gk_oc = loss_fn(net_15_no_gk_oc(x_test_15_no_gk_oc),y_test_15_no_gk_oc).detach().numpy()\n",
    "print('MSE for x_test_15_no_gk_oc:', MSE_test_15_no_gk_oc)"
   ]
  },
  {
   "cell_type": "markdown",
   "metadata": {},
   "source": [
    "Now we have four neural networks for goalkeepers and non goalkeepers from England and non England. What if we apply the neural network of England players to non England players? What will happen to their overall rating prediction?"
   ]
  },
  {
   "cell_type": "code",
   "execution_count": 797,
   "metadata": {},
   "outputs": [
    {
     "data": {
      "image/png": "[encoded data removed]",
      "text/plain": [
       "<Figure size 432x288 with 1 Axes>"
      ]
     },
     "metadata": {
      "needs_background": "light"
     },
     "output_type": "display_data"
    }
   ],
   "source": [
    "y_test_15_gk_oc_pred = net_15_gk_oc(x_test_15_gk_oc)\n",
    "y_test_15_gk_oc_pred_with_eng = net_15_gk_eng(x_test_15_gk_oc)\n",
    "t = np.arange(y_test_15_gk_oc_pred.shape[0])\n",
    "plt.scatter(t, y_test_15_gk_oc_pred_with_eng.detach().numpy()-y_test_15_gk_oc_pred.detach().numpy())\n",
    "plt.plot(t, np.zeros(y_test_15_gk_oc_pred.shape[0]), 'r--')\n",
    "plt.title('Difference between overall prediction using fifa15 English and non-English goalkeeper neural net')\n",
    "plt.show()"
   ]
  },
  {
   "cell_type": "code",
   "execution_count": 798,
   "metadata": {},
   "outputs": [
    {
     "data": {
      "image/png": "[encoded data removed]",
      "text/plain": [
       "<Figure size 432x288 with 1 Axes>"
      ]
     },
     "metadata": {
      "needs_background": "light"
     },
     "output_type": "display_data"
    }
   ],
   "source": [
    "y_test_15_no_gk_oc_pred = net_15_no_gk_oc(x_test_15_no_gk_oc)\n",
    "y_test_15_no_gk_oc_pred_with_eng = net_15_no_gk_eng(x_test_15_no_gk_oc)\n",
    "t = np.arange(y_test_15_no_gk_oc_pred.shape[0])\n",
    "plt.scatter(t, y_test_15_no_gk_oc_pred_with_eng.detach().numpy()-y_test_15_no_gk_oc_pred.detach().numpy())\n",
    "plt.plot(t, np.zeros(y_test_15_no_gk_oc_pred.shape[0]), 'r--')\n",
    "plt.title('Difference between overall prediction using fifa15 English and non-English non-goalkeeper neural net')\n",
    "plt.show()"
   ]
  },
  {
   "cell_type": "markdown",
   "metadata": {},
   "source": [
    "Based on the two plots above, the claim that England players tend to have higher rating than non England players with same stats is not true for fifa15. For goalkeepers, fifa15 is rather fair on overall. For non goalkeepers, fifa15 even tends to give sligtly lower rating for England palyers with the same stats."
   ]
  },
  {
   "cell_type": "markdown",
   "metadata": {},
   "source": [
    "### FIFA 16"
   ]
  },
  {
   "cell_type": "code",
   "execution_count": 800,
   "metadata": {},
   "outputs": [],
   "source": [
    "x_train_16_gk_eng, x_test_16_gk_eng, y_train_16_gk_eng, y_test_16_gk_eng = train_test_split_gk(fifa_16_gk_eng)\n",
    "x_train_16_gk_oc, x_test_16_gk_oc, y_train_16_gk_oc, y_test_16_gk_oc = train_test_split_gk(fifa_16_gk_oc)\n",
    "x_train_16_no_gk_eng, x_test_16_no_gk_eng, y_train_16_no_gk_eng, y_test_16_no_gk_eng = train_test_split_no_gk(fifa_16_no_gk_eng)\n",
    "x_train_16_no_gk_oc, x_test_16_no_gk_oc, y_train_16_no_gk_oc, y_test_16_no_gk_oc = train_test_split_no_gk(fifa_16_no_gk_oc)\n",
    "x_train_16_gk_eng, x_test_16_gk_eng, y_train_16_gk_eng, y_test_16_gk_eng = to_tensor(x_train_16_gk_eng, x_test_16_gk_eng, y_train_16_gk_eng, y_test_16_gk_eng)\n",
    "x_train_16_gk_oc, x_test_16_gk_oc, y_train_16_gk_oc, y_test_16_gk_oc = to_tensor(x_train_16_gk_oc, x_test_16_gk_oc, y_train_16_gk_oc, y_test_16_gk_oc)\n",
    "x_train_16_no_gk_eng, x_test_16_no_gk_eng, y_train_16_no_gk_eng, y_test_16_no_gk_eng = to_tensor(x_train_16_no_gk_eng, x_test_16_no_gk_eng, y_train_16_no_gk_eng, y_test_16_no_gk_eng)\n",
    "x_train_16_no_gk_oc, x_test_16_no_gk_oc, y_train_16_no_gk_oc, y_test_16_no_gk_oc = to_tensor(x_train_16_no_gk_oc, x_test_16_no_gk_oc, y_train_16_no_gk_oc, y_test_16_no_gk_oc)"
   ]
  },
  {
   "cell_type": "code",
   "execution_count": 805,
   "metadata": {},
   "outputs": [
    {
     "data": {
      "image/png": "[encoded data removed]",
      "text/plain": [
       "<Figure size 432x288 with 1 Axes>"
      ]
     },
     "metadata": {
      "needs_background": "light"
     },
     "output_type": "display_data"
    }
   ],
   "source": [
    "net_16_gk_eng = Net(6,1)\n",
    "fifa_16_gk_eng_train_loss = train(net_16_gk_eng, x_train_16_gk_eng, y_train_16_gk_eng, nn.MSELoss())\n",
    "plt.plot(np.arange(len(fifa_16_gk_eng_train_loss)), fifa_16_gk_eng_train_loss)\n",
    "plt.xlabel('Training steps')\n",
    "plt.ylabel('MSE loss')\n",
    "plt.title('fifa16 England goalkeepers NN training')\n",
    "plt.show()"
   ]
  },
  {
   "cell_type": "code",
   "execution_count": 806,
   "metadata": {},
   "outputs": [
    {
     "name": "stdout",
     "output_type": "stream",
     "text": [
      "MSE for x_test_16_gk_eng: 0.81976557\n"
     ]
    }
   ],
   "source": [
    "loss_fn = nn.MSELoss()\n",
    "MSE_test_16_gk_eng = loss_fn(net_16_gk_eng(x_test_16_gk_eng),y_test_16_gk_eng).detach().numpy()\n",
    "print('MSE for x_test_16_gk_eng:', MSE_test_16_gk_eng)"
   ]
  },
  {
   "cell_type": "code",
   "execution_count": 807,
   "metadata": {},
   "outputs": [
    {
     "data": {
      "image/png": "[encoded data removed]",
      "text/plain": [
       "<Figure size 432x288 with 1 Axes>"
      ]
     },
     "metadata": {
      "needs_background": "light"
     },
     "output_type": "display_data"
    }
   ],
   "source": [
    "net_16_gk_oc = Net(6,1)\n",
    "fifa_16_gk_oc_train_loss = train(net_16_gk_oc, x_train_16_gk_oc, y_train_16_gk_oc, nn.MSELoss())\n",
    "plt.plot(np.arange(len(fifa_16_gk_oc_train_loss)), fifa_16_gk_oc_train_loss)\n",
    "plt.xlabel('Training steps')\n",
    "plt.ylabel('MSE loss')\n",
    "plt.title('fifa16 Non-England goalkeepers NN training')\n",
    "plt.show()"
   ]
  },
  {
   "cell_type": "code",
   "execution_count": 808,
   "metadata": {},
   "outputs": [
    {
     "name": "stdout",
     "output_type": "stream",
     "text": [
      "MSE for x_test_16_gk_oc: 0.5424815\n"
     ]
    }
   ],
   "source": [
    "loss_fn = nn.MSELoss()\n",
    "MSE_test_16_gk_oc = loss_fn(net_16_gk_oc(x_test_16_gk_oc),y_test_16_gk_oc).detach().numpy()\n",
    "print('MSE for x_test_16_gk_oc:', MSE_test_16_gk_oc)"
   ]
  },
  {
   "cell_type": "code",
   "execution_count": 809,
   "metadata": {},
   "outputs": [
    {
     "data": {
      "image/png": "[encoded data removed]",
      "text/plain": [
       "<Figure size 432x288 with 1 Axes>"
      ]
     },
     "metadata": {
      "needs_background": "light"
     },
     "output_type": "display_data"
    }
   ],
   "source": [
    "net_16_no_gk_eng = Net(6,1)\n",
    "fifa_16_no_gk_eng_train_loss = train(net_16_no_gk_eng, x_train_16_no_gk_eng, y_train_16_no_gk_eng, nn.MSELoss())\n",
    "plt.plot(np.arange(len(fifa_16_no_gk_eng_train_loss)), fifa_16_no_gk_eng_train_loss)\n",
    "plt.xlabel('Training steps')\n",
    "plt.ylabel('MSE loss')\n",
    "plt.title('fifa16 England non-goalkeepers NN training')\n",
    "plt.show()"
   ]
  },
  {
   "cell_type": "code",
   "execution_count": 810,
   "metadata": {},
   "outputs": [
    {
     "name": "stdout",
     "output_type": "stream",
     "text": [
      "MSE for x_test_16_no_gk_eng: 4.084644\n"
     ]
    }
   ],
   "source": [
    "loss_fn = nn.MSELoss()\n",
    "MSE_test_16_no_gk_eng = loss_fn(net_16_no_gk_eng(x_test_16_no_gk_eng),y_test_16_no_gk_eng).detach().numpy()\n",
    "print('MSE for x_test_16_no_gk_eng:', MSE_test_16_no_gk_eng)"
   ]
  },
  {
   "cell_type": "code",
   "execution_count": 811,
   "metadata": {},
   "outputs": [
    {
     "data": {
      "image/png": "[encoded data removed]",
      "text/plain": [
       "<Figure size 432x288 with 1 Axes>"
      ]
     },
     "metadata": {
      "needs_background": "light"
     },
     "output_type": "display_data"
    }
   ],
   "source": [
    "net_16_no_gk_oc = Net(6,1)\n",
    "fifa_16_no_gk_oc_train_loss = train(net_16_no_gk_oc, x_train_16_no_gk_oc, y_train_16_no_gk_oc, nn.MSELoss())\n",
    "plt.plot(np.arange(len(fifa_16_no_gk_oc_train_loss)), fifa_16_no_gk_oc_train_loss)\n",
    "plt.xlabel('Training steps')\n",
    "plt.ylabel('MSE loss')\n",
    "plt.title('fifa16 Non-England non-goalkeepers NN training')\n",
    "plt.show()"
   ]
  },
  {
   "cell_type": "code",
   "execution_count": 812,
   "metadata": {},
   "outputs": [
    {
     "name": "stdout",
     "output_type": "stream",
     "text": [
      "MSE for x_test_16_no_gk_oc: 3.730291\n"
     ]
    }
   ],
   "source": [
    "loss_fn = nn.MSELoss()\n",
    "MSE_test_16_no_gk_oc = loss_fn(net_16_no_gk_oc(x_test_16_no_gk_oc),y_test_16_no_gk_oc).detach().numpy()\n",
    "print('MSE for x_test_16_no_gk_oc:', MSE_test_16_no_gk_oc)"
   ]
  },
  {
   "cell_type": "code",
   "execution_count": 813,
   "metadata": {},
   "outputs": [
    {
     "data": {
      "image/png": "[encoded data removed]",
      "text/plain": [
       "<Figure size 432x288 with 1 Axes>"
      ]
     },
     "metadata": {
      "needs_background": "light"
     },
     "output_type": "display_data"
    }
   ],
   "source": [
    "y_test_16_gk_oc_pred = net_16_gk_oc(x_test_16_gk_oc)\n",
    "y_test_16_gk_oc_pred_with_eng = net_16_gk_eng(x_test_16_gk_oc)\n",
    "t = np.arange(y_test_16_gk_oc_pred.shape[0])\n",
    "plt.scatter(t, y_test_16_gk_oc_pred_with_eng.detach().numpy()-y_test_16_gk_oc_pred.detach().numpy())\n",
    "plt.plot(t, np.zeros(y_test_16_gk_oc_pred.shape[0]), 'r--')\n",
    "plt.title('Difference between overall prediction using fifa16 English and non-English goalkeeper neural net')\n",
    "plt.show()"
   ]
  },
  {
   "cell_type": "code",
   "execution_count": 818,
   "metadata": {},
   "outputs": [
    {
     "data": {
      "image/png": "[encoded data removed]",
      "text/plain": [
       "<Figure size 432x288 with 1 Axes>"
      ]
     },
     "metadata": {
      "needs_background": "light"
     },
     "output_type": "display_data"
    }
   ],
   "source": [
    "y_test_16_no_gk_oc_pred = net_16_no_gk_oc(x_test_16_no_gk_oc)\n",
    "y_test_16_no_gk_oc_pred_with_eng = net_16_no_gk_eng(x_test_16_no_gk_oc)\n",
    "t = np.arange(y_test_16_no_gk_oc_pred.shape[0])\n",
    "plt.scatter(t, y_test_16_no_gk_oc_pred_with_eng.detach().numpy()-y_test_16_no_gk_oc_pred.detach().numpy())\n",
    "plt.plot(t, np.zeros(y_test_16_no_gk_oc_pred.shape[0]), 'r--')\n",
    "plt.title('Difference between overall prediction using fifa16 English and non-English non-goalkeeper neural net')\n",
    "plt.show()"
   ]
  },
  {
   "cell_type": "markdown",
   "metadata": {},
   "source": [
    "Based on the two plots above. For goalkeepers fifa16 is rather fair about overall rating. For non-goalkeepers, fifa16 even tends to give lower overall to England players. Which is completely opposite from the claim."
   ]
  },
  {
   "cell_type": "markdown",
   "metadata": {},
   "source": [
    "### FIFA 17"
   ]
  },
  {
   "cell_type": "code",
   "execution_count": 819,
   "metadata": {},
   "outputs": [],
   "source": [
    "x_train_17_gk_eng, x_test_17_gk_eng, y_train_17_gk_eng, y_test_17_gk_eng = train_test_split_gk(fifa_17_gk_eng)\n",
    "x_train_17_gk_oc, x_test_17_gk_oc, y_train_17_gk_oc, y_test_17_gk_oc = train_test_split_gk(fifa_17_gk_oc)\n",
    "x_train_17_no_gk_eng, x_test_17_no_gk_eng, y_train_17_no_gk_eng, y_test_17_no_gk_eng = train_test_split_no_gk(fifa_17_no_gk_eng)\n",
    "x_train_17_no_gk_oc, x_test_17_no_gk_oc, y_train_17_no_gk_oc, y_test_17_no_gk_oc = train_test_split_no_gk(fifa_17_no_gk_oc)\n",
    "x_train_17_gk_eng, x_test_17_gk_eng, y_train_17_gk_eng, y_test_17_gk_eng = to_tensor(x_train_17_gk_eng, x_test_17_gk_eng, y_train_17_gk_eng, y_test_17_gk_eng)\n",
    "x_train_17_gk_oc, x_test_17_gk_oc, y_train_17_gk_oc, y_test_17_gk_oc = to_tensor(x_train_17_gk_oc, x_test_17_gk_oc, y_train_17_gk_oc, y_test_17_gk_oc)\n",
    "x_train_17_no_gk_eng, x_test_17_no_gk_eng, y_train_17_no_gk_eng, y_test_17_no_gk_eng = to_tensor(x_train_17_no_gk_eng, x_test_17_no_gk_eng, y_train_17_no_gk_eng, y_test_17_no_gk_eng)\n",
    "x_train_17_no_gk_oc, x_test_17_no_gk_oc, y_train_17_no_gk_oc, y_test_17_no_gk_oc = to_tensor(x_train_17_no_gk_oc, x_test_17_no_gk_oc, y_train_17_no_gk_oc, y_test_17_no_gk_oc)"
   ]
  },
  {
   "cell_type": "code",
   "execution_count": 820,
   "metadata": {},
   "outputs": [
    {
     "data": {
      "image/png": "[encoded data removed]",
      "text/plain": [
       "<Figure size 432x288 with 1 Axes>"
      ]
     },
     "metadata": {
      "needs_background": "light"
     },
     "output_type": "display_data"
    }
   ],
   "source": [
    "net_17_gk_eng = Net(6,1)\n",
    "fifa_17_gk_eng_train_loss = train(net_17_gk_eng, x_train_17_gk_eng, y_train_17_gk_eng, nn.MSELoss())\n",
    "plt.plot(np.arange(len(fifa_17_gk_eng_train_loss)), fifa_17_gk_eng_train_loss)\n",
    "plt.xlabel('Training steps')\n",
    "plt.ylabel('MSE loss')\n",
    "plt.title('fifa17 England goalkeepers NN training')\n",
    "plt.show()"
   ]
  },
  {
   "cell_type": "code",
   "execution_count": 821,
   "metadata": {},
   "outputs": [
    {
     "name": "stdout",
     "output_type": "stream",
     "text": [
      "MSE for x_test_17_gk_eng: 0.8510733\n"
     ]
    }
   ],
   "source": [
    "loss_fn = nn.MSELoss()\n",
    "MSE_test_17_gk_eng = loss_fn(net_17_gk_eng(x_test_17_gk_eng),y_test_17_gk_eng).detach().numpy()\n",
    "print('MSE for x_test_17_gk_eng:', MSE_test_17_gk_eng)"
   ]
  },
  {
   "cell_type": "code",
   "execution_count": 822,
   "metadata": {},
   "outputs": [
    {
     "data": {
      "image/png": "[encoded data removed]",
      "text/plain": [
       "<Figure size 432x288 with 1 Axes>"
      ]
     },
     "metadata": {
      "needs_background": "light"
     },
     "output_type": "display_data"
    }
   ],
   "source": [
    "net_17_gk_oc = Net(6,1)\n",
    "fifa_17_gk_oc_train_loss = train(net_17_gk_oc, x_train_17_gk_oc, y_train_17_gk_oc, nn.MSELoss())\n",
    "plt.plot(np.arange(len(fifa_17_gk_oc_train_loss)), fifa_17_gk_oc_train_loss)\n",
    "plt.xlabel('Training steps')\n",
    "plt.ylabel('MSE loss')\n",
    "plt.title('fifa17 Non-England goalkeepers NN training')\n",
    "plt.show()"
   ]
  },
  {
   "cell_type": "code",
   "execution_count": 823,
   "metadata": {},
   "outputs": [
    {
     "name": "stdout",
     "output_type": "stream",
     "text": [
      "MSE for x_test_17_gk_oc: 1.1528145\n"
     ]
    }
   ],
   "source": [
    "loss_fn = nn.MSELoss()\n",
    "MSE_test_17_gk_oc = loss_fn(net_17_gk_oc(x_test_17_gk_oc),y_test_17_gk_oc).detach().numpy()\n",
    "print('MSE for x_test_17_gk_oc:', MSE_test_17_gk_oc)"
   ]
  },
  {
   "cell_type": "code",
   "execution_count": 824,
   "metadata": {},
   "outputs": [
    {
     "data": {
      "image/png": "[encoded data removed]",
      "text/plain": [
       "<Figure size 432x288 with 1 Axes>"
      ]
     },
     "metadata": {
      "needs_background": "light"
     },
     "output_type": "display_data"
    }
   ],
   "source": [
    "net_17_no_gk_eng = Net(6,1)\n",
    "fifa_17_no_gk_eng_train_loss = train(net_17_no_gk_eng, x_train_17_no_gk_eng, y_train_17_no_gk_eng, nn.MSELoss())\n",
    "plt.plot(np.arange(len(fifa_17_no_gk_eng_train_loss)), fifa_17_no_gk_eng_train_loss)\n",
    "plt.xlabel('Training steps')\n",
    "plt.ylabel('MSE loss')\n",
    "plt.title('fifa17 England non-goalkeepers NN training')\n",
    "plt.show()"
   ]
  },
  {
   "cell_type": "code",
   "execution_count": 825,
   "metadata": {},
   "outputs": [
    {
     "name": "stdout",
     "output_type": "stream",
     "text": [
      "MSE for x_test_17_no_gk_eng: 2.5670567\n"
     ]
    }
   ],
   "source": [
    "loss_fn = nn.MSELoss()\n",
    "MSE_test_17_no_gk_eng = loss_fn(net_17_no_gk_eng(x_test_17_no_gk_eng),y_test_17_no_gk_eng).detach().numpy()\n",
    "print('MSE for x_test_17_no_gk_eng:', MSE_test_17_no_gk_eng)"
   ]
  },
  {
   "cell_type": "code",
   "execution_count": 826,
   "metadata": {},
   "outputs": [
    {
     "data": {
      "image/png": "[encoded data removed]",
      "text/plain": [
       "<Figure size 432x288 with 1 Axes>"
      ]
     },
     "metadata": {
      "needs_background": "light"
     },
     "output_type": "display_data"
    }
   ],
   "source": [
    "net_17_no_gk_oc = Net(6,1)\n",
    "fifa_17_no_gk_oc_train_loss = train(net_17_no_gk_oc, x_train_17_no_gk_oc, y_train_17_no_gk_oc, nn.MSELoss())\n",
    "plt.plot(np.arange(len(fifa_17_no_gk_oc_train_loss)), fifa_17_no_gk_oc_train_loss)\n",
    "plt.xlabel('Training steps')\n",
    "plt.ylabel('MSE loss')\n",
    "plt.title('fifa17 Non-England non-goalkeepers NN training')\n",
    "plt.show()"
   ]
  },
  {
   "cell_type": "code",
   "execution_count": 827,
   "metadata": {},
   "outputs": [
    {
     "name": "stdout",
     "output_type": "stream",
     "text": [
      "MSE for x_test_17_no_gk_oc: 3.2058368\n"
     ]
    }
   ],
   "source": [
    "loss_fn = nn.MSELoss()\n",
    "MSE_test_17_no_gk_oc = loss_fn(net_17_no_gk_oc(x_test_17_no_gk_oc),y_test_17_no_gk_oc).detach().numpy()\n",
    "print('MSE for x_test_17_no_gk_oc:', MSE_test_17_no_gk_oc)"
   ]
  },
  {
   "cell_type": "code",
   "execution_count": 828,
   "metadata": {},
   "outputs": [
    {
     "data": {
      "image/png": "[encoded data removed]",
      "text/plain": [
       "<Figure size 432x288 with 1 Axes>"
      ]
     },
     "metadata": {
      "needs_background": "light"
     },
     "output_type": "display_data"
    }
   ],
   "source": [
    "y_test_17_gk_oc_pred = net_17_gk_oc(x_test_17_gk_oc)\n",
    "y_test_17_gk_oc_pred_with_eng = net_17_gk_eng(x_test_17_gk_oc)\n",
    "t = np.arange(y_test_17_gk_oc_pred.shape[0])\n",
    "plt.scatter(t, y_test_17_gk_oc_pred_with_eng.detach().numpy()-y_test_17_gk_oc_pred.detach().numpy())\n",
    "plt.plot(t, np.zeros(y_test_17_gk_oc_pred.shape[0]), 'r--')\n",
    "plt.title('Difference between overall prediction using fifa17 English and non-English goalkeeper neural net')\n",
    "plt.show()"
   ]
  },
  {
   "cell_type": "code",
   "execution_count": 829,
   "metadata": {},
   "outputs": [
    {
     "data": {
      "image/png": "[encoded data removed]",
      "text/plain": [
       "<Figure size 432x288 with 1 Axes>"
      ]
     },
     "metadata": {
      "needs_background": "light"
     },
     "output_type": "display_data"
    }
   ],
   "source": [
    "y_test_17_no_gk_oc_pred = net_17_no_gk_oc(x_test_17_no_gk_oc)\n",
    "y_test_17_no_gk_oc_pred_with_eng = net_17_no_gk_eng(x_test_17_no_gk_oc)\n",
    "t = np.arange(y_test_17_no_gk_oc_pred.shape[0])\n",
    "plt.scatter(t, y_test_17_no_gk_oc_pred_with_eng.detach().numpy()-y_test_17_no_gk_oc_pred.detach().numpy())\n",
    "plt.plot(t, np.zeros(y_test_17_no_gk_oc_pred.shape[0]), 'r--')\n",
    "plt.title('Difference between overall prediction using fifa17 English and non-English non-goalkeeper neural net')\n",
    "plt.show()"
   ]
  },
  {
   "cell_type": "markdown",
   "metadata": {},
   "source": [
    "The results are very similar to those of fifa15. So the claim is also not true for fifa17."
   ]
  },
  {
   "cell_type": "markdown",
   "metadata": {},
   "source": [
    "### FIFA 18"
   ]
  },
  {
   "cell_type": "code",
   "execution_count": 830,
   "metadata": {},
   "outputs": [],
   "source": [
    "x_train_18_gk_eng, x_test_18_gk_eng, y_train_18_gk_eng, y_test_18_gk_eng = train_test_split_gk(fifa_18_gk_eng)\n",
    "x_train_18_gk_oc, x_test_18_gk_oc, y_train_18_gk_oc, y_test_18_gk_oc = train_test_split_gk(fifa_18_gk_oc)\n",
    "x_train_18_no_gk_eng, x_test_18_no_gk_eng, y_train_18_no_gk_eng, y_test_18_no_gk_eng = train_test_split_no_gk(fifa_18_no_gk_eng)\n",
    "x_train_18_no_gk_oc, x_test_18_no_gk_oc, y_train_18_no_gk_oc, y_test_18_no_gk_oc = train_test_split_no_gk(fifa_18_no_gk_oc)\n",
    "x_train_18_gk_eng, x_test_18_gk_eng, y_train_18_gk_eng, y_test_18_gk_eng = to_tensor(x_train_18_gk_eng, x_test_18_gk_eng, y_train_18_gk_eng, y_test_18_gk_eng)\n",
    "x_train_18_gk_oc, x_test_18_gk_oc, y_train_18_gk_oc, y_test_18_gk_oc = to_tensor(x_train_18_gk_oc, x_test_18_gk_oc, y_train_18_gk_oc, y_test_18_gk_oc)\n",
    "x_train_18_no_gk_eng, x_test_18_no_gk_eng, y_train_18_no_gk_eng, y_test_18_no_gk_eng = to_tensor(x_train_18_no_gk_eng, x_test_18_no_gk_eng, y_train_18_no_gk_eng, y_test_18_no_gk_eng)\n",
    "x_train_18_no_gk_oc, x_test_18_no_gk_oc, y_train_18_no_gk_oc, y_test_18_no_gk_oc = to_tensor(x_train_18_no_gk_oc, x_test_18_no_gk_oc, y_train_18_no_gk_oc, y_test_18_no_gk_oc)"
   ]
  },
  {
   "cell_type": "code",
   "execution_count": 831,
   "metadata": {},
   "outputs": [
    {
     "data": {
      "image/png": "[encoded data removed]",
      "text/plain": [
       "<Figure size 432x288 with 1 Axes>"
      ]
     },
     "metadata": {
      "needs_background": "light"
     },
     "output_type": "display_data"
    }
   ],
   "source": [
    "net_18_gk_eng = Net(6,1)\n",
    "fifa_18_gk_eng_train_loss = train(net_18_gk_eng, x_train_18_gk_eng, y_train_18_gk_eng, nn.MSELoss())\n",
    "plt.plot(np.arange(len(fifa_18_gk_eng_train_loss)), fifa_18_gk_eng_train_loss)\n",
    "plt.xlabel('Training steps')\n",
    "plt.ylabel('MSE loss')\n",
    "plt.title('fifa18 England goalkeepers NN training')\n",
    "plt.show()"
   ]
  },
  {
   "cell_type": "code",
   "execution_count": 832,
   "metadata": {},
   "outputs": [
    {
     "name": "stdout",
     "output_type": "stream",
     "text": [
      "MSE for x_test_18_gk_eng: 0.6894754\n"
     ]
    }
   ],
   "source": [
    "loss_fn = nn.MSELoss()\n",
    "MSE_test_18_gk_eng = loss_fn(net_18_gk_eng(x_test_18_gk_eng),y_test_18_gk_eng).detach().numpy()\n",
    "print('MSE for x_test_18_gk_eng:', MSE_test_18_gk_eng)"
   ]
  },
  {
   "cell_type": "code",
   "execution_count": 833,
   "metadata": {},
   "outputs": [
    {
     "data": {
      "image/png": "[encoded data removed]",
      "text/plain": [
       "<Figure size 432x288 with 1 Axes>"
      ]
     },
     "metadata": {
      "needs_background": "light"
     },
     "output_type": "display_data"
    }
   ],
   "source": [
    "net_18_gk_oc = Net(6,1)\n",
    "fifa_18_gk_oc_train_loss = train(net_18_gk_oc, x_train_18_gk_oc, y_train_18_gk_oc, nn.MSELoss())\n",
    "plt.plot(np.arange(len(fifa_18_gk_oc_train_loss)), fifa_18_gk_oc_train_loss)\n",
    "plt.xlabel('Training steps')\n",
    "plt.ylabel('MSE loss')\n",
    "plt.title('fifa18 Non-England goalkeepers NN training')\n",
    "plt.show()"
   ]
  },
  {
   "cell_type": "code",
   "execution_count": 834,
   "metadata": {},
   "outputs": [
    {
     "name": "stdout",
     "output_type": "stream",
     "text": [
      "MSE for x_test_18_gk_oc: 0.6795351\n"
     ]
    }
   ],
   "source": [
    "loss_fn = nn.MSELoss()\n",
    "MSE_test_18_gk_oc = loss_fn(net_18_gk_oc(x_test_18_gk_oc),y_test_18_gk_oc).detach().numpy()\n",
    "print('MSE for x_test_18_gk_oc:', MSE_test_18_gk_oc)"
   ]
  },
  {
   "cell_type": "code",
   "execution_count": 835,
   "metadata": {},
   "outputs": [
    {
     "data": {
      "image/png": "[encoded data removed]",
      "text/plain": [
       "<Figure size 432x288 with 1 Axes>"
      ]
     },
     "metadata": {
      "needs_background": "light"
     },
     "output_type": "display_data"
    }
   ],
   "source": [
    "net_18_no_gk_eng = Net(6,1)\n",
    "fifa_18_no_gk_eng_train_loss = train(net_18_no_gk_eng, x_train_18_no_gk_eng, y_train_18_no_gk_eng, nn.MSELoss())\n",
    "plt.plot(np.arange(len(fifa_18_no_gk_eng_train_loss)), fifa_18_no_gk_eng_train_loss)\n",
    "plt.xlabel('Training steps')\n",
    "plt.ylabel('MSE loss')\n",
    "plt.title('fifa18 England non-goalkeepers NN training')\n",
    "plt.show()"
   ]
  },
  {
   "cell_type": "code",
   "execution_count": 836,
   "metadata": {},
   "outputs": [
    {
     "name": "stdout",
     "output_type": "stream",
     "text": [
      "MSE for x_test_18_no_gk_eng: 3.5309641\n"
     ]
    }
   ],
   "source": [
    "loss_fn = nn.MSELoss()\n",
    "MSE_test_18_no_gk_eng = loss_fn(net_18_no_gk_eng(x_test_18_no_gk_eng),y_test_18_no_gk_eng).detach().numpy()\n",
    "print('MSE for x_test_18_no_gk_eng:', MSE_test_18_no_gk_eng)"
   ]
  },
  {
   "cell_type": "code",
   "execution_count": 837,
   "metadata": {},
   "outputs": [
    {
     "data": {
      "image/png": "[encoded data removed]",
      "text/plain": [
       "<Figure size 432x288 with 1 Axes>"
      ]
     },
     "metadata": {
      "needs_background": "light"
     },
     "output_type": "display_data"
    }
   ],
   "source": [
    "net_18_no_gk_oc = Net(6,1)\n",
    "fifa_18_no_gk_oc_train_loss = train(net_18_no_gk_oc, x_train_18_no_gk_oc, y_train_18_no_gk_oc, nn.MSELoss())\n",
    "plt.plot(np.arange(len(fifa_18_no_gk_oc_train_loss)), fifa_18_no_gk_oc_train_loss)\n",
    "plt.xlabel('Training steps')\n",
    "plt.ylabel('MSE loss')\n",
    "plt.title('fifa18 Non-England non-goalkeepers NN training')\n",
    "plt.show()"
   ]
  },
  {
   "cell_type": "code",
   "execution_count": 838,
   "metadata": {},
   "outputs": [
    {
     "name": "stdout",
     "output_type": "stream",
     "text": [
      "MSE for x_test_18_no_gk_oc: 3.6606674\n"
     ]
    }
   ],
   "source": [
    "loss_fn = nn.MSELoss()\n",
    "MSE_test_18_no_gk_oc = loss_fn(net_18_no_gk_oc(x_test_18_no_gk_oc),y_test_18_no_gk_oc).detach().numpy()\n",
    "print('MSE for x_test_18_no_gk_oc:', MSE_test_18_no_gk_oc)"
   ]
  },
  {
   "cell_type": "code",
   "execution_count": 839,
   "metadata": {},
   "outputs": [
    {
     "data": {
      "image/png": "[encoded data removed]",
      "text/plain": [
       "<Figure size 432x288 with 1 Axes>"
      ]
     },
     "metadata": {
      "needs_background": "light"
     },
     "output_type": "display_data"
    }
   ],
   "source": [
    "y_test_18_gk_oc_pred = net_18_gk_oc(x_test_18_gk_oc)\n",
    "y_test_18_gk_oc_pred_with_eng = net_18_gk_eng(x_test_18_gk_oc)\n",
    "t = np.arange(y_test_18_gk_oc_pred.shape[0])\n",
    "plt.scatter(t, y_test_18_gk_oc_pred_with_eng.detach().numpy()-y_test_18_gk_oc_pred.detach().numpy())\n",
    "plt.plot(t, np.zeros(y_test_18_gk_oc_pred.shape[0]), 'r--')\n",
    "plt.title('Difference between overall prediction using fifa18 English and non-English goalkeeper neural net')\n",
    "plt.show()"
   ]
  },
  {
   "cell_type": "code",
   "execution_count": 840,
   "metadata": {},
   "outputs": [
    {
     "data": {
      "image/png": "[encoded data removed]",
      "text/plain": [
       "<Figure size 432x288 with 1 Axes>"
      ]
     },
     "metadata": {
      "needs_background": "light"
     },
     "output_type": "display_data"
    }
   ],
   "source": [
    "y_test_18_no_gk_oc_pred = net_18_no_gk_oc(x_test_18_no_gk_oc)\n",
    "y_test_18_no_gk_oc_pred_with_eng = net_18_no_gk_eng(x_test_18_no_gk_oc)\n",
    "t = np.arange(y_test_18_no_gk_oc_pred.shape[0])\n",
    "plt.scatter(t, y_test_18_no_gk_oc_pred_with_eng.detach().numpy()-y_test_18_no_gk_oc_pred.detach().numpy())\n",
    "plt.plot(t, np.zeros(y_test_18_no_gk_oc_pred.shape[0]), 'r--')\n",
    "plt.title('Difference between overall prediction using fifa18 English and non-English non-goalkeeper neural net')\n",
    "plt.show()"
   ]
  },
  {
   "cell_type": "markdown",
   "metadata": {},
   "source": [
    "The results are almost the same as those of fifa15. So the claim is not true for fifa18."
   ]
  },
  {
   "cell_type": "markdown",
   "metadata": {},
   "source": [
    "### FIFA 19"
   ]
  },
  {
   "cell_type": "code",
   "execution_count": 841,
   "metadata": {},
   "outputs": [],
   "source": [
    "x_train_19_gk_eng, x_test_19_gk_eng, y_train_19_gk_eng, y_test_19_gk_eng = train_test_split_gk(fifa_19_gk_eng)\n",
    "x_train_19_gk_oc, x_test_19_gk_oc, y_train_19_gk_oc, y_test_19_gk_oc = train_test_split_gk(fifa_19_gk_oc)\n",
    "x_train_19_no_gk_eng, x_test_19_no_gk_eng, y_train_19_no_gk_eng, y_test_19_no_gk_eng = train_test_split_no_gk(fifa_19_no_gk_eng)\n",
    "x_train_19_no_gk_oc, x_test_19_no_gk_oc, y_train_19_no_gk_oc, y_test_19_no_gk_oc = train_test_split_no_gk(fifa_19_no_gk_oc)\n",
    "x_train_19_gk_eng, x_test_19_gk_eng, y_train_19_gk_eng, y_test_19_gk_eng = to_tensor(x_train_19_gk_eng, x_test_19_gk_eng, y_train_19_gk_eng, y_test_19_gk_eng)\n",
    "x_train_19_gk_oc, x_test_19_gk_oc, y_train_19_gk_oc, y_test_19_gk_oc = to_tensor(x_train_19_gk_oc, x_test_19_gk_oc, y_train_19_gk_oc, y_test_19_gk_oc)\n",
    "x_train_19_no_gk_eng, x_test_19_no_gk_eng, y_train_19_no_gk_eng, y_test_19_no_gk_eng = to_tensor(x_train_19_no_gk_eng, x_test_19_no_gk_eng, y_train_19_no_gk_eng, y_test_19_no_gk_eng)\n",
    "x_train_19_no_gk_oc, x_test_19_no_gk_oc, y_train_19_no_gk_oc, y_test_19_no_gk_oc = to_tensor(x_train_19_no_gk_oc, x_test_19_no_gk_oc, y_train_19_no_gk_oc, y_test_19_no_gk_oc)"
   ]
  },
  {
   "cell_type": "code",
   "execution_count": 842,
   "metadata": {},
   "outputs": [
    {
     "data": {
      "image/png": "[encoded data removed]",
      "text/plain": [
       "<Figure size 432x288 with 1 Axes>"
      ]
     },
     "metadata": {
      "needs_background": "light"
     },
     "output_type": "display_data"
    }
   ],
   "source": [
    "net_19_gk_eng = Net(6,1)\n",
    "fifa_19_gk_eng_train_loss = train(net_19_gk_eng, x_train_19_gk_eng, y_train_19_gk_eng, nn.MSELoss())\n",
    "plt.plot(np.arange(len(fifa_19_gk_eng_train_loss)), fifa_19_gk_eng_train_loss)\n",
    "plt.xlabel('Training steps')\n",
    "plt.ylabel('MSE loss')\n",
    "plt.title('fifa19 England goalkeepers NN training')\n",
    "plt.show()"
   ]
  },
  {
   "cell_type": "code",
   "execution_count": 843,
   "metadata": {},
   "outputs": [
    {
     "name": "stdout",
     "output_type": "stream",
     "text": [
      "MSE for x_test_19_gk_eng: 0.5740901\n"
     ]
    }
   ],
   "source": [
    "loss_fn = nn.MSELoss()\n",
    "MSE_test_19_gk_eng = loss_fn(net_19_gk_eng(x_test_19_gk_eng),y_test_19_gk_eng).detach().numpy()\n",
    "print('MSE for x_test_19_gk_eng:', MSE_test_19_gk_eng)"
   ]
  },
  {
   "cell_type": "code",
   "execution_count": 844,
   "metadata": {},
   "outputs": [
    {
     "data": {
      "image/png": "[encoded data removed]",
      "text/plain": [
       "<Figure size 432x288 with 1 Axes>"
      ]
     },
     "metadata": {
      "needs_background": "light"
     },
     "output_type": "display_data"
    }
   ],
   "source": [
    "net_19_gk_oc = Net(6,1)\n",
    "fifa_19_gk_oc_train_loss = train(net_19_gk_oc, x_train_19_gk_oc, y_train_19_gk_oc, nn.MSELoss())\n",
    "plt.plot(np.arange(len(fifa_19_gk_oc_train_loss)), fifa_19_gk_oc_train_loss)\n",
    "plt.xlabel('Training steps')\n",
    "plt.ylabel('MSE loss')\n",
    "plt.title('fifa19 Non-England goalkeepers NN training')\n",
    "plt.show()"
   ]
  },
  {
   "cell_type": "code",
   "execution_count": 845,
   "metadata": {},
   "outputs": [
    {
     "name": "stdout",
     "output_type": "stream",
     "text": [
      "MSE for x_test_19_gk_oc: 0.8552676\n"
     ]
    }
   ],
   "source": [
    "loss_fn = nn.MSELoss()\n",
    "MSE_test_19_gk_oc = loss_fn(net_19_gk_oc(x_test_19_gk_oc),y_test_19_gk_oc).detach().numpy()\n",
    "print('MSE for x_test_19_gk_oc:', MSE_test_19_gk_oc)"
   ]
  },
  {
   "cell_type": "code",
   "execution_count": 846,
   "metadata": {},
   "outputs": [
    {
     "data": {
      "image/png": "[encoded data removed]",
      "text/plain": [
       "<Figure size 432x288 with 1 Axes>"
      ]
     },
     "metadata": {
      "needs_background": "light"
     },
     "output_type": "display_data"
    }
   ],
   "source": [
    "net_19_no_gk_eng = Net(6,1)\n",
    "fifa_19_no_gk_eng_train_loss = train(net_19_no_gk_eng, x_train_19_no_gk_eng, y_train_19_no_gk_eng, nn.MSELoss())\n",
    "plt.plot(np.arange(len(fifa_19_no_gk_eng_train_loss)), fifa_19_no_gk_eng_train_loss)\n",
    "plt.xlabel('Training steps')\n",
    "plt.ylabel('MSE loss')\n",
    "plt.title('fifa19 England non-goalkeepers NN training')\n",
    "plt.show()"
   ]
  },
  {
   "cell_type": "code",
   "execution_count": 847,
   "metadata": {},
   "outputs": [
    {
     "name": "stdout",
     "output_type": "stream",
     "text": [
      "MSE for x_test_19_no_gk_eng: 4.2983074\n"
     ]
    }
   ],
   "source": [
    "loss_fn = nn.MSELoss()\n",
    "MSE_test_19_no_gk_eng = loss_fn(net_19_no_gk_eng(x_test_19_no_gk_eng),y_test_19_no_gk_eng).detach().numpy()\n",
    "print('MSE for x_test_19_no_gk_eng:', MSE_test_19_no_gk_eng)"
   ]
  },
  {
   "cell_type": "code",
   "execution_count": 848,
   "metadata": {},
   "outputs": [
    {
     "data": {
      "image/png": "[encoded data removed]",
      "text/plain": [
       "<Figure size 432x288 with 1 Axes>"
      ]
     },
     "metadata": {
      "needs_background": "light"
     },
     "output_type": "display_data"
    }
   ],
   "source": [
    "net_19_no_gk_oc = Net(6,1)\n",
    "fifa_19_no_gk_oc_train_loss = train(net_19_no_gk_oc, x_train_19_no_gk_oc, y_train_19_no_gk_oc, nn.MSELoss())\n",
    "plt.plot(np.arange(len(fifa_19_no_gk_oc_train_loss)), fifa_19_no_gk_oc_train_loss)\n",
    "plt.xlabel('Training steps')\n",
    "plt.ylabel('MSE loss')\n",
    "plt.title('fifa19 Non-England non-goalkeepers NN training')\n",
    "plt.show()"
   ]
  },
  {
   "cell_type": "code",
   "execution_count": 849,
   "metadata": {},
   "outputs": [
    {
     "name": "stdout",
     "output_type": "stream",
     "text": [
      "MSE for x_test_19_no_gk_oc: 3.9702623\n"
     ]
    }
   ],
   "source": [
    "loss_fn = nn.MSELoss()\n",
    "MSE_test_19_no_gk_oc = loss_fn(net_19_no_gk_oc(x_test_19_no_gk_oc),y_test_19_no_gk_oc).detach().numpy()\n",
    "print('MSE for x_test_19_no_gk_oc:', MSE_test_19_no_gk_oc)"
   ]
  },
  {
   "cell_type": "code",
   "execution_count": 850,
   "metadata": {},
   "outputs": [
    {
     "data": {
      "image/png": "[encoded data removed]",
      "text/plain": [
       "<Figure size 432x288 with 1 Axes>"
      ]
     },
     "metadata": {
      "needs_background": "light"
     },
     "output_type": "display_data"
    }
   ],
   "source": [
    "y_test_19_gk_oc_pred = net_19_gk_oc(x_test_19_gk_oc)\n",
    "y_test_19_gk_oc_pred_with_eng = net_19_gk_eng(x_test_19_gk_oc)\n",
    "t = np.arange(y_test_19_gk_oc_pred.shape[0])\n",
    "plt.scatter(t, y_test_19_gk_oc_pred_with_eng.detach().numpy()-y_test_19_gk_oc_pred.detach().numpy())\n",
    "plt.plot(t, np.zeros(y_test_19_gk_oc_pred.shape[0]), 'r--')\n",
    "plt.title('Difference between overall prediction using fifa19 English and non-English goalkeeper neural net')\n",
    "plt.show()"
   ]
  },
  {
   "cell_type": "code",
   "execution_count": 851,
   "metadata": {},
   "outputs": [
    {
     "data": {
      "image/png": "[encoded data removed]",
      "text/plain": [
       "<Figure size 432x288 with 1 Axes>"
      ]
     },
     "metadata": {
      "needs_background": "light"
     },
     "output_type": "display_data"
    }
   ],
   "source": [
    "y_test_19_no_gk_oc_pred = net_19_no_gk_oc(x_test_19_no_gk_oc)\n",
    "y_test_19_no_gk_oc_pred_with_eng = net_19_no_gk_eng(x_test_19_no_gk_oc)\n",
    "t = np.arange(y_test_19_no_gk_oc_pred.shape[0])\n",
    "plt.scatter(t, y_test_19_no_gk_oc_pred_with_eng.detach().numpy()-y_test_19_no_gk_oc_pred.detach().numpy())\n",
    "plt.plot(t, np.zeros(y_test_19_no_gk_oc_pred.shape[0]), 'r--')\n",
    "plt.title('Difference between overall prediction using fifa19 English and non-English non-goalkeeper neural net')\n",
    "plt.show()"
   ]
  },
  {
   "cell_type": "markdown",
   "metadata": {},
   "source": [
    "For fifa19, the overall even tends to be slightly lower for england goalkeepers with same stats. The result for non goalkeepers is almost the same as that of fifa15. So the claim is not true for fifa19."
   ]
  },
  {
   "cell_type": "markdown",
   "metadata": {},
   "source": [
    "### FIFA 20"
   ]
  },
  {
   "cell_type": "code",
   "execution_count": 852,
   "metadata": {},
   "outputs": [],
   "source": [
    "x_train_20_gk_eng, x_test_20_gk_eng, y_train_20_gk_eng, y_test_20_gk_eng = train_test_split_gk(fifa_20_gk_eng)\n",
    "x_train_20_gk_oc, x_test_20_gk_oc, y_train_20_gk_oc, y_test_20_gk_oc = train_test_split_gk(fifa_20_gk_oc)\n",
    "x_train_20_no_gk_eng, x_test_20_no_gk_eng, y_train_20_no_gk_eng, y_test_20_no_gk_eng = train_test_split_no_gk(fifa_20_no_gk_eng)\n",
    "x_train_20_no_gk_oc, x_test_20_no_gk_oc, y_train_20_no_gk_oc, y_test_20_no_gk_oc = train_test_split_no_gk(fifa_20_no_gk_oc)\n",
    "x_train_20_gk_eng, x_test_20_gk_eng, y_train_20_gk_eng, y_test_20_gk_eng = to_tensor(x_train_20_gk_eng, x_test_20_gk_eng, y_train_20_gk_eng, y_test_20_gk_eng)\n",
    "x_train_20_gk_oc, x_test_20_gk_oc, y_train_20_gk_oc, y_test_20_gk_oc = to_tensor(x_train_20_gk_oc, x_test_20_gk_oc, y_train_20_gk_oc, y_test_20_gk_oc)\n",
    "x_train_20_no_gk_eng, x_test_20_no_gk_eng, y_train_20_no_gk_eng, y_test_20_no_gk_eng = to_tensor(x_train_20_no_gk_eng, x_test_20_no_gk_eng, y_train_20_no_gk_eng, y_test_20_no_gk_eng)\n",
    "x_train_20_no_gk_oc, x_test_20_no_gk_oc, y_train_20_no_gk_oc, y_test_20_no_gk_oc = to_tensor(x_train_20_no_gk_oc, x_test_20_no_gk_oc, y_train_20_no_gk_oc, y_test_20_no_gk_oc)"
   ]
  },
  {
   "cell_type": "code",
   "execution_count": 853,
   "metadata": {},
   "outputs": [
    {
     "data": {
      "image/png": "[encoded data removed]",
      "text/plain": [
       "<Figure size 432x288 with 1 Axes>"
      ]
     },
     "metadata": {
      "needs_background": "light"
     },
     "output_type": "display_data"
    }
   ],
   "source": [
    "net_20_gk_eng = Net(6,1)\n",
    "fifa_20_gk_eng_train_loss = train(net_20_gk_eng, x_train_20_gk_eng, y_train_20_gk_eng, nn.MSELoss())\n",
    "plt.plot(np.arange(len(fifa_20_gk_eng_train_loss)), fifa_20_gk_eng_train_loss)\n",
    "plt.xlabel('Training steps')\n",
    "plt.ylabel('MSE loss')\n",
    "plt.title('fifa20 England goalkeepers NN training')\n",
    "plt.show()"
   ]
  },
  {
   "cell_type": "code",
   "execution_count": 854,
   "metadata": {},
   "outputs": [
    {
     "name": "stdout",
     "output_type": "stream",
     "text": [
      "MSE for x_test_20_gk_eng: 0.7584946\n"
     ]
    }
   ],
   "source": [
    "loss_fn = nn.MSELoss()\n",
    "MSE_test_20_gk_eng = loss_fn(net_20_gk_eng(x_test_20_gk_eng),y_test_20_gk_eng).detach().numpy()\n",
    "print('MSE for x_test_20_gk_eng:', MSE_test_20_gk_eng)"
   ]
  },
  {
   "cell_type": "code",
   "execution_count": 855,
   "metadata": {},
   "outputs": [
    {
     "data": {
      "image/png": "[encoded data removed]",
      "text/plain": [
       "<Figure size 432x288 with 1 Axes>"
      ]
     },
     "metadata": {
      "needs_background": "light"
     },
     "output_type": "display_data"
    }
   ],
   "source": [
    "net_20_gk_oc = Net(6,1)\n",
    "fifa_20_gk_oc_train_loss = train(net_20_gk_oc, x_train_20_gk_oc, y_train_20_gk_oc, nn.MSELoss())\n",
    "plt.plot(np.arange(len(fifa_20_gk_oc_train_loss)), fifa_20_gk_oc_train_loss)\n",
    "plt.xlabel('Training steps')\n",
    "plt.ylabel('MSE loss')\n",
    "plt.title('fifa20 Non-England goalkeepers NN training')\n",
    "plt.show()"
   ]
  },
  {
   "cell_type": "code",
   "execution_count": 856,
   "metadata": {},
   "outputs": [
    {
     "name": "stdout",
     "output_type": "stream",
     "text": [
      "MSE for x_test_20_gk_oc: 0.8362283\n"
     ]
    }
   ],
   "source": [
    "loss_fn = nn.MSELoss()\n",
    "MSE_test_20_gk_oc = loss_fn(net_20_gk_oc(x_test_20_gk_oc),y_test_20_gk_oc).detach().numpy()\n",
    "print('MSE for x_test_20_gk_oc:', MSE_test_20_gk_oc)"
   ]
  },
  {
   "cell_type": "code",
   "execution_count": 857,
   "metadata": {},
   "outputs": [
    {
     "data": {
      "image/png": "[encoded data removed]",
      "text/plain": [
       "<Figure size 432x288 with 1 Axes>"
      ]
     },
     "metadata": {
      "needs_background": "light"
     },
     "output_type": "display_data"
    }
   ],
   "source": [
    "net_20_no_gk_eng = Net(6,1)\n",
    "fifa_20_no_gk_eng_train_loss = train(net_20_no_gk_eng, x_train_20_no_gk_eng, y_train_20_no_gk_eng, nn.MSELoss())\n",
    "plt.plot(np.arange(len(fifa_20_no_gk_eng_train_loss)), fifa_20_no_gk_eng_train_loss)\n",
    "plt.xlabel('Training steps')\n",
    "plt.ylabel('MSE loss')\n",
    "plt.title('fifa20 England non-goalkeepers NN training')\n",
    "plt.show()"
   ]
  },
  {
   "cell_type": "code",
   "execution_count": 858,
   "metadata": {},
   "outputs": [
    {
     "name": "stdout",
     "output_type": "stream",
     "text": [
      "MSE for x_test_20_no_gk_eng: 6.17699\n"
     ]
    }
   ],
   "source": [
    "loss_fn = nn.MSELoss()\n",
    "MSE_test_20_no_gk_eng = loss_fn(net_20_no_gk_eng(x_test_20_no_gk_eng),y_test_20_no_gk_eng).detach().numpy()\n",
    "print('MSE for x_test_20_no_gk_eng:', MSE_test_20_no_gk_eng)"
   ]
  },
  {
   "cell_type": "code",
   "execution_count": 859,
   "metadata": {},
   "outputs": [
    {
     "data": {
      "image/png": "[encoded data removed]",
      "text/plain": [
       "<Figure size 432x288 with 1 Axes>"
      ]
     },
     "metadata": {
      "needs_background": "light"
     },
     "output_type": "display_data"
    }
   ],
   "source": [
    "net_20_no_gk_oc = Net(6,1)\n",
    "fifa_20_no_gk_oc_train_loss = train(net_20_no_gk_oc, x_train_20_no_gk_oc, y_train_20_no_gk_oc, nn.MSELoss())\n",
    "plt.plot(np.arange(len(fifa_20_no_gk_oc_train_loss)), fifa_20_no_gk_oc_train_loss)\n",
    "plt.xlabel('Training steps')\n",
    "plt.ylabel('MSE loss')\n",
    "plt.title('fifa20 Non-England non-goalkeepers NN training')\n",
    "plt.show()"
   ]
  },
  {
   "cell_type": "code",
   "execution_count": 860,
   "metadata": {},
   "outputs": [
    {
     "name": "stdout",
     "output_type": "stream",
     "text": [
      "MSE for x_test_20_no_gk_oc: 5.230636\n"
     ]
    }
   ],
   "source": [
    "loss_fn = nn.MSELoss()\n",
    "MSE_test_20_no_gk_oc = loss_fn(net_20_no_gk_oc(x_test_20_no_gk_oc),y_test_20_no_gk_oc).detach().numpy()\n",
    "print('MSE for x_test_20_no_gk_oc:', MSE_test_20_no_gk_oc)"
   ]
  },
  {
   "cell_type": "code",
   "execution_count": 861,
   "metadata": {},
   "outputs": [
    {
     "data": {
      "image/png": "[encoded data removed]",
      "text/plain": [
       "<Figure size 432x288 with 1 Axes>"
      ]
     },
     "metadata": {
      "needs_background": "light"
     },
     "output_type": "display_data"
    }
   ],
   "source": [
    "y_test_20_gk_oc_pred = net_20_gk_oc(x_test_20_gk_oc)\n",
    "y_test_20_gk_oc_pred_with_eng = net_20_gk_eng(x_test_20_gk_oc)\n",
    "t = np.arange(y_test_20_gk_oc_pred.shape[0])\n",
    "plt.scatter(t, y_test_20_gk_oc_pred_with_eng.detach().numpy()-y_test_20_gk_oc_pred.detach().numpy())\n",
    "plt.plot(t, np.zeros(y_test_20_gk_oc_pred.shape[0]), 'r--')\n",
    "plt.title('Difference between overall prediction using fifa20 English and non-English goalkeeper neural net')\n",
    "plt.show()"
   ]
  },
  {
   "cell_type": "code",
   "execution_count": 862,
   "metadata": {},
   "outputs": [
    {
     "data": {
      "image/png": "[encoded data removed]",
      "text/plain": [
       "<Figure size 432x288 with 1 Axes>"
      ]
     },
     "metadata": {
      "needs_background": "light"
     },
     "output_type": "display_data"
    }
   ],
   "source": [
    "y_test_20_no_gk_oc_pred = net_20_no_gk_oc(x_test_20_no_gk_oc)\n",
    "y_test_20_no_gk_oc_pred_with_eng = net_20_no_gk_eng(x_test_20_no_gk_oc)\n",
    "t = np.arange(y_test_20_no_gk_oc_pred.shape[0])\n",
    "plt.scatter(t, y_test_20_no_gk_oc_pred_with_eng.detach().numpy()-y_test_20_no_gk_oc_pred.detach().numpy())\n",
    "plt.plot(t, np.zeros(y_test_20_no_gk_oc_pred.shape[0]), 'r--')\n",
    "plt.title('Difference between overall prediction using fifa20 English and non-English non-goalkeeper neural net')\n",
    "plt.show()"
   ]
  },
  {
   "cell_type": "markdown",
   "metadata": {},
   "source": [
    "The results are almost the same as those of fifa17. So the claim is not true for fifa20."
   ]
  },
  {
   "cell_type": "markdown",
   "metadata": {},
   "source": [
    "# Part 4 Conclusion"
   ]
  },
  {
   "cell_type": "markdown",
   "metadata": {},
   "source": [
    "The overall rating favor for English Premier League (EPL) players over four other major European Leagues players is generally present for fifa games (fifa15 to fifa20) except for fifa17 and fifa19. However, the claim that England players tend to have higher ratings that players from other countries with the same stats is not true for any of the fifa games we investigated.The game even tends to give slightly lower ratings to England players except goalkeepers. For fifa19, even England goalkeepers tend to have slightly lower ratings."
   ]
  }
 ],
 "metadata": {
  "kernelspec": {
   "display_name": "Python 3",
   "language": "python",
   "name": "python3"
  },
  "language_info": {
   "codemirror_mode": {
    "name": "ipython",
    "version": 3
   },
   "file_extension": ".py",
   "mimetype": "text/x-python",
   "name": "python",
   "nbconvert_exporter": "python",
   "pygments_lexer": "ipython3",
   "version": "3.8.3"
  }
 },
 "nbformat": 4,
 "nbformat_minor": 4
}
